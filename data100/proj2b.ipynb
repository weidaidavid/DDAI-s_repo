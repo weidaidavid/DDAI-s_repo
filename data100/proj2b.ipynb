{
 "cells": [
  {
   "cell_type": "code",
   "execution_count": 54,
   "metadata": {
    "deletable": false,
    "editable": false
   },
   "outputs": [
    {
     "name": "stdout",
     "output_type": "stream",
     "text": [
      "=====================================================================\n",
      "Assignment: proj2b\n",
      "OK, version v1.13.11\n",
      "=====================================================================\n",
      "\n"
     ]
    }
   ],
   "source": [
    "# Initialize OK\n",
    "from client.api.notebook import Notebook\n",
    "ok = Notebook('proj2b.ok')"
   ]
  },
  {
   "cell_type": "markdown",
   "metadata": {},
   "source": [
    "# Project 2 Part B: Spam/Ham Classification\n",
    "## Classifiers\n",
    "### The assignment is due on Monday, April 27th at 11:59pm PST.\n",
    "\n",
    "**Collaboration Policy**\n",
    "\n",
    "Data science is a collaborative activity. While you may talk with others about\n",
    "the project, we ask that you **write your solutions individually**. If you do\n",
    "discuss the assignments with others please **include their names** at the top\n",
    "of your notebook."
   ]
  },
  {
   "cell_type": "markdown",
   "metadata": {},
   "source": [
    "**Collaborators**: *Sameer Hassen Prabhu 🐐*"
   ]
  },
  {
   "cell_type": "markdown",
   "metadata": {},
   "source": [
    "## This Assignment\n",
    "In Project 2 Part A, you made an effort to understand the data through EDA, and did some basic feature engineering. You also built a Logistic Regression model to classify Spam/Ham emails. In Part B, you will learn how to evaluate the classifiers you built. You will also have the chance to improve your model by selecting more features.\n",
    "\n",
    "## Warning\n",
    "We've tried our best to filter the data for anything blatantly offensive as best as we can, but unfortunately there may still be some examples you may find in poor taste. If you encounter these examples and believe it is inappropriate for students, please let a TA know and we will try to remove it for future semesters. Thanks for your understanding!\n",
    "\n",
    "## Score Breakdown\n",
    "Question | Points\n",
    "--- | ---\n",
    "6a | 1\n",
    "6b | 1\n",
    "6c | 2\n",
    "6d | 2\n",
    "6e | 1\n",
    "6f | 3\n",
    "7 | 6\n",
    "8 | 6\n",
    "9 | 15\n",
    "Total | 37"
   ]
  },
  {
   "cell_type": "markdown",
   "metadata": {},
   "source": [
    "## Setup"
   ]
  },
  {
   "cell_type": "code",
   "execution_count": 55,
   "metadata": {},
   "outputs": [],
   "source": [
    "import numpy as np\n",
    "import pandas as pd\n",
    "\n",
    "import matplotlib.pyplot as plt\n",
    "%matplotlib inline\n",
    "\n",
    "import seaborn as sns\n",
    "sns.set(style = \"whitegrid\", \n",
    "        color_codes = True,\n",
    "        font_scale = 1.5)"
   ]
  },
  {
   "cell_type": "code",
   "execution_count": 56,
   "metadata": {},
   "outputs": [
    {
     "name": "stdout",
     "output_type": "stream",
     "text": [
      "Using version already downloaded: Tue Apr 21 16:56:26 2020\n",
      "MD5 hash of file: 0380c4cf72746622947b9ca5db9b8be8\n",
      "Using version already downloaded: Tue Apr 21 16:56:27 2020\n",
      "MD5 hash of file: a2e7abd8c7d9abf6e6fafc1d1f9ee6bf\n"
     ]
    }
   ],
   "source": [
    "from utils import fetch_and_cache_gdrive\n",
    "fetch_and_cache_gdrive('1SCASpLZFKCp2zek-toR3xeKX3DZnBSyp', 'train.csv')\n",
    "fetch_and_cache_gdrive('1ZDFo9OTF96B5GP2Nzn8P8-AL7CTQXmC0', 'test.csv')\n",
    "\n",
    "original_training_data = pd.read_csv('data/train.csv')\n",
    "test = pd.read_csv('data/test.csv')\n",
    "\n",
    "# Convert the emails to lower case as a first step to processing the text\n",
    "original_training_data['email'] = original_training_data['email'].str.lower()\n",
    "test['email'] = test['email'].str.lower()\n",
    "\n",
    "original_training_data.head()\n",
    "\n",
    "from sklearn.model_selection import train_test_split\n",
    "\n",
    "train, val = train_test_split(original_training_data, test_size=0.1, random_state=42)"
   ]
  },
  {
   "cell_type": "markdown",
   "metadata": {},
   "source": [
    "The following code is adapted from Part A of this project. You will be using it again in Part B."
   ]
  },
  {
   "cell_type": "code",
   "execution_count": 57,
   "metadata": {},
   "outputs": [
    {
     "data": {
      "text/plain": [
       "(array([[0, 0, 0, 0, 0],\n",
       "        [0, 0, 0, 0, 0],\n",
       "        [0, 0, 0, 0, 0],\n",
       "        [0, 0, 0, 0, 0],\n",
       "        [0, 0, 0, 1, 0]]), array([0, 0, 0, 0, 0]))"
      ]
     },
     "execution_count": 57,
     "metadata": {},
     "output_type": "execute_result"
    }
   ],
   "source": [
    "def words_in_texts(words, texts):\n",
    "    '''\n",
    "    Args:\n",
    "        words (list-like): words to find\n",
    "        texts (Series): strings to search in\n",
    "    \n",
    "    Returns:\n",
    "        NumPy array of 0s and 1s with shape (n, p) where n is the\n",
    "        number of texts and p is the number of words.\n",
    "    '''\n",
    "    indicator_array = 1 * np.array([texts.str.contains(word) for word in words]).T\n",
    "    return indicator_array\n",
    "\n",
    "some_words = ['drug', 'bank', 'prescription', 'memo', 'private']\n",
    "\n",
    "X_train = words_in_texts(some_words, train['email']) \n",
    "Y_train = np.array(train['spam'])\n",
    "\n",
    "X_train[:5], Y_train[:5]"
   ]
  },
  {
   "cell_type": "markdown",
   "metadata": {},
   "source": [
    "Recall that you trained the following model in Part A."
   ]
  },
  {
   "cell_type": "code",
   "execution_count": 58,
   "metadata": {},
   "outputs": [
    {
     "name": "stdout",
     "output_type": "stream",
     "text": [
      "Training Accuracy:  0.7576201251164648\n"
     ]
    }
   ],
   "source": [
    "from sklearn.linear_model import LogisticRegression\n",
    "\n",
    "model =  LogisticRegression()\n",
    "model.fit(X_train, Y_train)\n",
    "\n",
    "training_accuracy = model.score(X_train, Y_train)\n",
    "print(\"Training Accuracy: \", training_accuracy)"
   ]
  },
  {
   "cell_type": "markdown",
   "metadata": {},
   "source": [
    "## Evaluating Classifiers"
   ]
  },
  {
   "cell_type": "markdown",
   "metadata": {},
   "source": [
    "The model you trained doesn't seem too shabby! But the classifier you made above isn't as good as this might lead us to believe. First, we are evaluating accuracy on the training set, which may provide a misleading accuracy measure, especially if we used the training set to identify discriminative features. In future parts of this analysis, it will be safer to hold out some of our data for model validation and comparison.\n",
    "\n",
    "Presumably, our classifier will be used for **filtering**, i.e. preventing messages labeled `spam` from reaching someone's inbox. There are two kinds of errors we can make:\n",
    "- False positive (FP): a ham email gets flagged as spam and filtered out of the inbox.\n",
    "- False negative (FN): a spam email gets mislabeled as ham and ends up in the inbox.\n",
    "\n",
    "These definitions depend both on the true labels and the predicted labels. False positives and false negatives may be of differing importance, leading us to consider more ways of evaluating a classifier, in addition to overall accuracy:\n",
    "\n",
    "**Precision** measures the proportion $\\frac{\\text{TP}}{\\text{TP} + \\text{FP}}$ of emails flagged as spam that are actually spam.\n",
    "\n",
    "**Recall** measures the proportion $\\frac{\\text{TP}}{\\text{TP} + \\text{FN}}$ of spam emails that were correctly flagged as spam. \n",
    "\n",
    "**False-alarm rate** measures the proportion $\\frac{\\text{FP}}{\\text{FP} + \\text{TN}}$ of ham emails that were incorrectly flagged as spam. \n",
    "\n",
    "The following image might help:\n",
    "\n",
    "<img src=\"https://upload.wikimedia.org/wikipedia/commons/thumb/2/26/Precisionrecall.svg/700px-Precisionrecall.svg.png\" width=\"500px\">\n",
    "\n",
    "Note that a true positive (TP) is a spam email that is classified as spam, and a true negative (TN) is a ham email that is classified as ham."
   ]
  },
  {
   "cell_type": "markdown",
   "metadata": {
    "deletable": false,
    "editable": false
   },
   "source": [
    "### Question 6a\n",
    "\n",
    "Suppose we have a classifier `zero_predictor` that always predicts 0 (never predicts positive). How many false positives and false negatives would this classifier have if it were evaluated on the training set and its results were compared to `Y_train`? Fill in the variables below (answers can be hard-coded):\n",
    "\n",
    "*Tests in Question 6 only check that you have assigned appropriate types of values to each response variable, but do not check that your answers are correct.*\n",
    "\n",
    "<!--\n",
    "BEGIN QUESTION\n",
    "name: q6a\n",
    "points: 1\n",
    "-->"
   ]
  },
  {
   "cell_type": "code",
   "execution_count": 59,
   "metadata": {},
   "outputs": [],
   "source": [
    "zero_predictor_fp = 0\n",
    "zero_predictor_fn = np.count_nonzero(Y_train)\n"
   ]
  },
  {
   "cell_type": "code",
   "execution_count": 60,
   "metadata": {
    "deletable": false,
    "editable": false
   },
   "outputs": [
    {
     "name": "stdout",
     "output_type": "stream",
     "text": [
      "~~~~~~~~~~~~~~~~~~~~~~~~~~~~~~~~~~~~~~~~~~~~~~~~~~~~~~~~~~~~~~~~~~~~~\n",
      "Running tests\n",
      "\n",
      "---------------------------------------------------------------------\n",
      "Test summary\n",
      "    Passed: 2\n",
      "    Failed: 0\n",
      "[ooooooooook] 100.0% passed\n",
      "\n"
     ]
    }
   ],
   "source": [
    "ok.grade(\"q6a\");"
   ]
  },
  {
   "cell_type": "markdown",
   "metadata": {
    "deletable": false,
    "editable": false
   },
   "source": [
    "### Question 6b\n",
    "\n",
    "What are the accuracy and recall of `zero_predictor` (classifies every email as ham) on the training set? Do **NOT** use any `sklearn` functions.\n",
    "\n",
    "<!--\n",
    "BEGIN QUESTION\n",
    "name: q6b\n",
    "points: 1\n",
    "-->"
   ]
  },
  {
   "cell_type": "code",
   "execution_count": 61,
   "metadata": {},
   "outputs": [
    {
     "data": {
      "text/plain": [
       "0.7447091707706642"
      ]
     },
     "execution_count": 61,
     "metadata": {},
     "output_type": "execute_result"
    }
   ],
   "source": [
    "zero_predictor_acc = (len(Y_train)-np.count_nonzero(Y_train))/len(Y_train)\n",
    "zero_predictor_recall = 0\n",
    "zero_predictor_acc"
   ]
  },
  {
   "cell_type": "code",
   "execution_count": 62,
   "metadata": {
    "deletable": false,
    "editable": false
   },
   "outputs": [
    {
     "name": "stdout",
     "output_type": "stream",
     "text": [
      "~~~~~~~~~~~~~~~~~~~~~~~~~~~~~~~~~~~~~~~~~~~~~~~~~~~~~~~~~~~~~~~~~~~~~\n",
      "Running tests\n",
      "\n",
      "---------------------------------------------------------------------\n",
      "Test summary\n",
      "    Passed: 2\n",
      "    Failed: 0\n",
      "[ooooooooook] 100.0% passed\n",
      "\n"
     ]
    }
   ],
   "source": [
    "ok.grade(\"q6b\");"
   ]
  },
  {
   "cell_type": "markdown",
   "metadata": {
    "deletable": false,
    "editable": false
   },
   "source": [
    "### Question 6c\n",
    "\n",
    "Provide brief explanations of the results from 6a and 6b. Explain why the number of false positives, number of false negatives, accuracy, and recall all turned out the way they did.\n",
    "\n",
    "<!--\n",
    "BEGIN QUESTION\n",
    "name: q6c\n",
    "manual: True\n",
    "points: 2\n",
    "-->\n",
    "<!-- EXPORT TO PDF -->"
   ]
  },
  {
   "cell_type": "markdown",
   "metadata": {},
   "source": [
    "*false positives is 0 because there are no positives predicted, as all predictions were 0. false negatives is what it is because it would be the number of ones falsely predicted as 0s, which would be all of them. accuracy worked out to be the number of correctly predicted results, which is all the 0s, divided by the total number of emails in Y_train. and recall is 0 because no true positives were predicted.  *"
   ]
  },
  {
   "cell_type": "markdown",
   "metadata": {
    "deletable": false,
    "editable": false
   },
   "source": [
    "### Question 6d\n",
    "\n",
    "Compute the precision, recall, and false-alarm rate of the `LogisticRegression` classifier created and trained in Part A. Do **NOT** use any `sklearn` functions.\n",
    "\n",
    "**Note: In lecture we used the `sklearn` package to compute the rates. Here you should work through them using just the definitions to help build a deeper understanding.**\n",
    "\n",
    "<!--\n",
    "BEGIN QUESTION\n",
    "name: q6d\n",
    "points: 2\n",
    "-->"
   ]
  },
  {
   "cell_type": "code",
   "execution_count": 63,
   "metadata": {},
   "outputs": [
    {
     "data": {
      "text/plain": [
       "(0.11418143899895725, 0.021805183199285077, 0.6422287390029325)"
      ]
     },
     "execution_count": 63,
     "metadata": {},
     "output_type": "execute_result"
    }
   ],
   "source": [
    "Y_train_hat = model.predict(X_train)\n",
    "def yesman(Y_train,Y_hat):\n",
    "    fn = 0\n",
    "    fp = 0\n",
    "    tn = 0 \n",
    "    tp = 0\n",
    "    for i in np.arange(len(Y_train)):\n",
    "        if Y_hat[i] == 0 and Y_train[i] == 1:\n",
    "            fn +=1\n",
    "        if Y_hat[i] == 0 and Y_train[i] ==0:\n",
    "            tn +=1\n",
    "        if Y_hat[i] == 1 and Y_train[i] == 1:\n",
    "            tp +=1\n",
    "        if Y_hat[i] == 1 and Y_train[i] == 0:\n",
    "            fp += 1\n",
    "    return (fn,fp,tn,tp)\n",
    "fn,fp,tn,tp = yesman(Y_train, Y_train_hat)\n",
    "        \n",
    "    \n",
    "logistic_predictor_precision = tp/(tp+fp)\n",
    "logistic_predictor_recall = tp/(tp+fn)\n",
    "logistic_predictor_far = fp/(fp+tn)\n",
    "logistic_predictor_recall,logistic_predictor_far,logistic_predictor_precision"
   ]
  },
  {
   "cell_type": "code",
   "execution_count": 64,
   "metadata": {
    "deletable": false,
    "editable": false
   },
   "outputs": [
    {
     "name": "stdout",
     "output_type": "stream",
     "text": [
      "~~~~~~~~~~~~~~~~~~~~~~~~~~~~~~~~~~~~~~~~~~~~~~~~~~~~~~~~~~~~~~~~~~~~~\n",
      "Running tests\n",
      "\n",
      "---------------------------------------------------------------------\n",
      "Test summary\n",
      "    Passed: 3\n",
      "    Failed: 0\n",
      "[ooooooooook] 100.0% passed\n",
      "\n"
     ]
    }
   ],
   "source": [
    "ok.grade(\"q6d\");"
   ]
  },
  {
   "cell_type": "markdown",
   "metadata": {
    "deletable": false,
    "editable": false
   },
   "source": [
    "### Question 6e\n",
    "\n",
    "Are there more false positives or false negatives when using the logistic regression classifier from Part A?\n",
    "\n",
    "<!--\n",
    "BEGIN QUESTION\n",
    "name: q6e\n",
    "manual: True\n",
    "points: 1\n",
    "-->\n",
    "<!-- EXPORT TO PDF -->"
   ]
  },
  {
   "cell_type": "markdown",
   "metadata": {},
   "source": [
    "*there are more false negatives*"
   ]
  },
  {
   "cell_type": "markdown",
   "metadata": {
    "deletable": false,
    "editable": false
   },
   "source": [
    "### Question 6f\n",
    "\n",
    "1. Our logistic regression classifier got 75.8% prediction accuracy (number of correct predictions / total). How does this compare with predicting 0 for every email?\n",
    "1. Given the word features we gave you above, name one reason this classifier is performing poorly. Hint: Think about how prevalent these words are in the email set.\n",
    "1. Which of these two classifiers would you prefer for a spam filter and why? Describe your reasoning and relate it to at least one of the evaluation metrics you have computed so far.\n",
    "\n",
    "<!--\n",
    "BEGIN QUESTION\n",
    "name: q6f\n",
    "manual: True\n",
    "points: 3\n",
    "-->\n",
    "<!-- EXPORT TO PDF -->"
   ]
  },
  {
   "cell_type": "markdown",
   "metadata": {},
   "source": [
    "1. the logistic regression classifier had a slightly better prediction accuracy vs 0.745.\n",
    "2. there are a rather high number of false negatives, meaning that spam emails and getting\n",
    "pass us, indicating the prevalence of the words we chose is not as high as we'd like them to be.\n",
    "3. I'd go with the logistic model, as the precision of the zero model is 0, and ours is at 64%."
   ]
  },
  {
   "cell_type": "markdown",
   "metadata": {},
   "source": [
    "## Moving Forward\n",
    "\n",
    "With this in mind, it is now your task to make the spam filter more accurate. In order to get full credit on the accuracy part of this assignment, you must get at least **88%** accuracy on the test set. To see your accuracy on the test set, you will use your classifier to predict every email in the `test` DataFrame and upload your predictions to Kaggle.\n",
    "\n",
    "**Kaggle limits you to four submissions per day**. This means you should start early so you have time if needed to refine your model. You will be able to see your accuracy on the entire set when submitting to Kaggle (the accuracy that will determine your score for question 9).\n",
    "\n",
    "Here are some ideas for improving your model:\n",
    "\n",
    "1. Finding better features based on the email text. Some example features are:\n",
    "    1. Number of characters in the subject / body\n",
    "    1. Number of words in the subject / body\n",
    "    1. Use of punctuation (e.g., how many '!' were there?)\n",
    "    1. Number / percentage of capital letters \n",
    "    1. Whether the email is a reply to an earlier email or a forwarded email\n",
    "1. Finding better (and/or more) words to use as features. Which words are the best at distinguishing emails? This requires digging into the email text itself. \n",
    "1. Better data processing. For example, many emails contain HTML as well as text. You can consider extracting out the text from the HTML to help you find better words. Or, you can match HTML tags themselves, or even some combination of the two.\n",
    "1. Model selection. You can adjust parameters of your model (e.g. the regularization parameter) to achieve higher accuracy. Recall that you should use cross-validation to do feature and model selection properly! Otherwise, you will likely overfit to your training data.\n",
    "\n",
    "You may use whatever method you prefer in order to create features, but **you are not allowed to import any external feature extraction libraries**. In addition, **you are only allowed to train logistic regression models**. No random forests, k-nearest-neighbors, neural nets, etc.\n",
    "\n",
    "We have not provided any code to do this, so feel free to create as many cells as you need in order to tackle this task. However, answering questions 7, 8, and 9 should help guide you.\n",
    "\n",
    "---\n",
    "\n",
    "**Note:** *You should use the **validation data** to evaluate your model and get a better sense of how it will perform on the Kaggle evaluation.*\n",
    "\n",
    "---"
   ]
  },
  {
   "cell_type": "code",
   "execution_count": 72,
   "metadata": {},
   "outputs": [
    {
     "name": "stdout",
     "output_type": "stream",
     "text": [
      "[ True  True False False  True  True  True  True  True  True  True  True\n",
      "  True  True  True  True  True  True  True  True  True  True False]\n"
     ]
    },
    {
     "data": {
      "text/plain": [
       "0.8970059880239521"
      ]
     },
     "execution_count": 72,
     "metadata": {},
     "output_type": "execute_result"
    }
   ],
   "source": [
    "import re\n",
    "from sklearn.model_selection import train_test_split\n",
    "from sklearn.metrics import accuracy_score\n",
    "\n",
    "from sklearn.preprocessing import StandardScaler\n",
    "sc = StandardScaler()\n",
    "\n",
    "testest = original_training_data\n",
    "testest['Cap Sub'] = testest['subject'].apply(lambda x: len(re.findall(r'[A-Z]',str(x)))).fillna(0)\n",
    "testest['Cap Email']= testest['email'].apply(lambda x: len(re.findall(r'[A-Z]',str(x)))/len(str(x))).fillna(0)\n",
    "testest['subject characters'] = testest['subject'].str.len().fillna(0)\n",
    "testest['email characters'] = testest['email'].str.len()\n",
    "testest['money'] = testest['subject'].apply(lambda x: len(re.findall(r'\\$',str(x)))).fillna(0)\n",
    "testest['words email'] = testest['email'].apply(lambda x: len(x.split()) )\n",
    "testest['words subject'] = testest['subject'].apply(lambda x: len(str(x).split())).fillna(0)\n",
    "testest['! subject'] = testest['subject'].apply(lambda x: len(re.findall(r'\\!',str(x)))).fillna(0)\n",
    "testest['! email'] = testest['email'].apply(lambda x: len(re.findall(r'\\!',str(x))))\n",
    "testest['bank'] = words_in_texts(['bank'],testest['email'])\n",
    "testest['offer'] = words_in_texts(['offer'],testest['email'])\n",
    "testest['guarantee'] = words_in_texts(['guarantee'],testest['email'])\n",
    "testest['good'] = words_in_texts(['good'],testest['email'])\n",
    "testest['need'] = words_in_texts(['need'],testest['email'])\n",
    "testest['now'] = words_in_texts(['now'],testest['email'])\n",
    "testest['teen'] = words_in_texts(['teen'],testest['email'])\n",
    "testest['low'] = words_in_texts(['low'],testest['subject'])\n",
    "testest['cash'] = words_in_texts(['cash'],testest['email'])\n",
    "testest['body'] = testest['email'].apply(lambda x: len(re.findall(r'\\<body\\>',str(x))))\n",
    "testest['click'] = words_in_texts(['click'],testest['email'])\n",
    "testest['chance'] = words_in_texts(['chance'],testest['email'])\n",
    "testest['apply'] = words_in_texts(['apply'],testest['email'])\n",
    "testest['sqrt char email'] = np.sqrt(testest['email characters'])\n",
    "testest['sqrt words subject'] = np.sqrt(testest['words subject'])\n",
    "testest['fwd/rply']= testest['subject'].apply(lambda x: len(re.findall(r'[RrEe]{2}:|\\[\\w+\\]',str(x))))\n",
    "testest['fwd'] = testest['subject'].apply(lambda x: len(re.findall(r'fwd',str(x))))\n",
    "testest['html']= testest['email'].apply(lambda x: len(re.findall(r'HTML|html',str(x))))\n",
    "testest['@']= testest['email'].apply(lambda x: len(re.findall(r'@',str(x))))\n",
    "testest['\\n']= testest['email'].apply(lambda x: len(re.findall(r'\\\\n',str(x))))\n",
    "testest['=']= testest['email'].apply(lambda x: len(re.findall(r'=',str(x))))\n",
    "\n",
    "testest.head(50)\n",
    "model_s = LogisticRegression(penalty = 'l1', solver = 'liblinear',max_iter=10000)\n",
    "model_r = LogisticRegression(penalty = 'l1', solver = 'liblinear',max_iter=10000)\n",
    "\n",
    "\n",
    "np.random.seed(32)\n",
    "feature_set = ['Cap Sub','sqrt words subject','email characters','words email','words subject','! subject','! email','bank','offer','guarantee','good','need','click','sqrt char email','fwd/rply','html','money','cash','teen','body',\"@\",'\\n']\n",
    "X = testest[['Cap Sub','sqrt words subject','email characters','words email','words subject','! subject','! email','bank','offer','guarantee','good','need','click','sqrt char email','fwd/rply','html','money','cash','teen','body',\"@\",'\\n','=']]\n",
    "#X = testest[feature_set]\n",
    "\n",
    "print(m.support_)\n",
    "Y = testest['spam']\n",
    "X_train1, X_test1, Y_train1, Y_test1 = train_test_split(X,Y , test_size = 0.10)\n",
    "model_s.fit(sc.fit_transform(X_train1), Y_train1);\n",
    "a = model_s.predict(sc.fit_transform(X_test1))\n",
    "test_accuracy = accuracy_score(Y_test1,a)\n",
    "test_accuracy\n",
    "#testest.head(50)\n",
    "model_final = LogisticRegression(penalty = 'l1',solver = 'liblinear' ,max_iter = 10000)\n",
    "model_final.fit(X,Y)\n",
    "test_accuracy\n"
   ]
  },
  {
   "cell_type": "code",
   "execution_count": 73,
   "metadata": {},
   "outputs": [
    {
     "data": {
      "text/plain": [
       "array([0.29722864, 0.3279653 , 0.33119656, 0.31807461])"
      ]
     },
     "execution_count": 73,
     "metadata": {},
     "output_type": "execute_result"
    }
   ],
   "source": [
    "\n",
    "from sklearn.model_selection import cross_val_score\n",
    "from sklearn.metrics import log_loss\n",
    "from sklearn.metrics import make_scorer\n",
    "def rmse_score(model, X, y):\n",
    "    return np.sqrt(np.mean((y - model.predict(X)) ** 2))\n",
    "working_table = testest\n",
    "YT = working_table['spam']\n",
    "working_table = working_table.iloc[:,4:]\n",
    "working_table = working_table.fillna(0)\n",
    "X_train2, X_test2, Y_train2, Y_test2 = train_test_split(working_table,YT , test_size = 0.10)\n",
    "modelx = LogisticRegression(max_iter =100000)\n",
    "modelx.fit(X_train2,Y_train2)\n",
    "scorer = make_scorer(log_loss, greater_is_better= False)\n",
    "\n",
    "a = cross_val_score(model_s,X_train1,Y_train1,scoring= rmse_score, cv= 4)\n",
    "a"
   ]
  },
  {
   "cell_type": "code",
   "execution_count": 74,
   "metadata": {},
   "outputs": [
    {
     "name": "stdout",
     "output_type": "stream",
     "text": [
      "0.47695426222024445\n",
      "0.4881009067180934\n",
      "0.5131158205504273\n",
      "0.48143073352246857\n",
      "0.4844012920535925\n",
      "0.44182053823059214\n",
      "0.46535660972077997\n",
      "0.42823242194706546\n",
      "0.4312681373931656\n",
      "0.4335328111325882\n",
      "0.415157365593251\n",
      "0.39247175280293584\n",
      "0.3914044241958599\n",
      "0.3443661510957703\n",
      "0.3773407617569808\n",
      "0.33478692194786963\n",
      "0.3396500947666343\n",
      "0.33154426339695797\n",
      "0.3387694424682544\n"
     ]
    }
   ],
   "source": [
    "features = ['Cap Sub','sqrt words subject','email characters','words email','words subject','! subject','! email','body',\"@\",'\\n','=','sqrt char email','fwd/rply','html','money','bank','offer','guarantee','good','need',]\n",
    "for i in range(1,len(features)):\n",
    "    table = testest[features[:i]].fillna(0)\n",
    "    Ys = testest['spam']\n",
    "    X_train3, X_test3, Y_train3, Y_test3 = train_test_split(table,Ys , test_size = 0.10)\n",
    "    model_z = LogisticRegression(penalty = 'l1', solver = 'liblinear',max_iter=10000)\n",
    "    model_z.fit(X_train3,Y_train3)\n",
    "    a = np.mean(cross_val_score(model_z,X_test3,Y_test3,scoring= rmse_score, cv= 4))\n",
    "    print(a)\n",
    "    \n",
    "    \n",
    "\n",
    "\n",
    "\n",
    "\n"
   ]
  },
  {
   "cell_type": "markdown",
   "metadata": {
    "deletable": false,
    "editable": false
   },
   "source": [
    "### Question 7: Feature/Model Selection Process\n",
    "\n",
    "In the following cell, describe the process of improving your model. You should use at least 2-3 sentences each to address the follow questions:\n",
    "\n",
    "1. How did you find better features for your model?\n",
    "2. What did you try that worked / didn't work?\n",
    "3. What was surprising in your search for good features?\n",
    "\n",
    "<!--\n",
    "BEGIN QUESTION\n",
    "name: q7\n",
    "manual: True\n",
    "points: 6\n",
    "-->\n",
    "<!-- EXPORT TO PDF -->"
   ]
  },
  {
   "cell_type": "markdown",
   "metadata": {},
   "source": [
    "\n",
    "1. We explored the options that were offered, and went though the feature engineering process through cross validation on the various subset of columns. As well as perusing through the emaail for words and characters that would get us to higher accuracy rates\n",
    "2. cross validation works, setting the logistic regression penaly to l1/lasso helped. normalizing the data, oddly, did not make much of a difference in terms of accuracy, and some times brought the progress back. \n",
    "3. How much words mattered in the process, and how difficult it was to come up with good features. Half the feautures that we tried either didn't really help with the actual prediction at all, or merely appeared to have helped because it overfit to the data. "
   ]
  },
  {
   "cell_type": "markdown",
   "metadata": {},
   "source": [
    "### Question 8: EDA\n",
    "\n",
    "In the cell below, show a visualization that you used to select features for your model. Include\n",
    "\n",
    "1. A plot showing something meaningful about the data that helped you during feature selection, model selection, or both.\n",
    "2. Two or three sentences describing what you plotted and its implications with respect to your features.\n",
    "\n",
    "Feel to create as many plots as you want in your process of feature selection, but select one for the response cell below.\n",
    "\n",
    "**You should not just produce an identical visualization to question 3.** Specifically, don't show us a bar chart of proportions, or a one-dimensional class-conditional density plot. Any other plot is acceptable, as long as it comes with thoughtful commentary. Here are some ideas:\n",
    "\n",
    "1. Consider the correlation between multiple features (look up correlation plots and `sns.heatmap`). \n",
    "1. Try to show redundancy in a group of features (e.g. `body` and `html` might co-occur relatively frequently, or you might be able to design a feature that captures all html tags and compare it to these). \n",
    "1. Visualize which words have high or low values for some useful statistic.\n",
    "1. Visually depict whether spam emails tend to be wordier (in some sense) than ham emails."
   ]
  },
  {
   "cell_type": "markdown",
   "metadata": {
    "deletable": false,
    "editable": false
   },
   "source": [
    "Generate your visualization in the cell below and provide your description in a comment.\n",
    "\n",
    "<!--\n",
    "BEGIN QUESTION\n",
    "name: q8\n",
    "manual: True\n",
    "format: image\n",
    "points: 6\n",
    "-->\n",
    "<!-- EXPORT TO PDF format:image -->"
   ]
  },
  {
   "cell_type": "code",
   "execution_count": 76,
   "metadata": {},
   "outputs": [
    {
     "data": {
      "image/png": "[encoded data removed]",
      "text/plain": [
       "<Figure size 720x360 with 2 Axes>"
      ]
     },
     "metadata": {},
     "output_type": "display_data"
    }
   ],
   "source": [
    "# Write your description (2-3 sentences) as a comment here:\n",
    "# i generated the cross validation score for each word upon adding them individually to a set of features i'd already selected\n",
    "# I did the same with the accuracy score of the same words. I then generated a dual axis barplot to compare the effects each word has on the statistics.\n",
    "# The visual represention matches the expecttion that a word that would generate a higher CVError would result in lower accuracy and vice versa. \n",
    "\n",
    "# Write the code to generate your visualization here:\n",
    "diff = []\n",
    "diff1 = []\n",
    "last = 0\n",
    "words = ['bank','offer','guarantee','good','need','click','cash','teen']\n",
    "featurette = ['Cap Sub','sqrt words subject','email characters','words email','words subject','! subject','! email','sqrt char email','fwd/rply','html','money','body',\"@\",'\\n','=']\n",
    "for i in range(len(words)):\n",
    "    featurette.append(words[i])\n",
    "    table = testest[featurette]\n",
    "    Ys = testest['spam']\n",
    "    X_train3, X_test3, Y_train3, Y_test3 = train_test_split(table,Ys , test_size = 0.10)\n",
    "    model_z = LogisticRegression(penalty = 'l1', solver = 'liblinear',max_iter=10000)\n",
    "    model_z.fit(X_train3,Y_train3)\n",
    "    rel_acc = accuracy_score(Y_test3,model_z.predict(X_test3))\n",
    "    a = np.mean(cross_val_score(model_z,X_test3,Y_test3,scoring= rmse_score, cv= 4))\n",
    "    diff.append(a)\n",
    "    diff1.append(rel_acc)\n",
    "    featurette = featurette[:len(featurette)-1]\n",
    "\n",
    "d = {'words':words, 'cross_val_score' : diff, 'accuracy': diff1 }\n",
    "df = pd.DataFrame(data=d)\n",
    "\n",
    "N = 8\n",
    "\n",
    "fig = plt.figure(figsize = [10,5])\n",
    "\n",
    "\n",
    "ax = fig.add_subplot(111) # Create matplotlib axes\n",
    "ax2 = ax.twinx() # Create another axes that shares the same x-axis as ax.\n",
    "\n",
    "width = 0.4\n",
    "\n",
    "df['cross_val_score'].plot(kind='bar', color='gold', ax=ax, width=width, position=1)\n",
    "df['accuracy'].plot(kind='bar', color='blue', ax=ax2, width=width, position=0)\n",
    "\n",
    "ax.set_ylabel('Cross Validation Score')\n",
    "ax2.set_ylabel('Accuracy')\n",
    "plt.xticks(np.arange(8), words)  # Set text labels.\n",
    "\n",
    "plt.show()"
   ]
  },
  {
   "cell_type": "markdown",
   "metadata": {
    "deletable": false,
    "editable": false
   },
   "source": [
    "# Question 9: Submitting to Kaggle\n",
    "\n",
    "The following code will write your predictions on the test dataset to a CSV, which you can submit to Kaggle. You may need to modify it to suit your needs.\n",
    "\n",
    "Save your predictions in a 1-dimensional array called `test_predictions`. *Even if you are not submitting to Kaggle, please make sure you've saved your predictions to `test_predictions` as this is how your score for this question will be determined.*\n",
    "\n",
    "Remember that if you've performed transformations or featurization on the training data, you must also perform the same transformations on the test data in order to make predictions. For example, if you've created features for the words \"drug\" and \"money\" on the training data, you must also extract the same features in order to use scikit-learn's `.predict(...)` method.\n",
    "\n",
    "You should submit your CSV files to https://www.kaggle.com/t/c76d80f7d3204159865a324ec2936f18\n",
    "\n",
    "**Note: You may submit up to 4 times a day. If you have submitted 4 times on a day, you will need to wait until the next day for more submissions.**\n",
    "\n",
    "Note that this question is graded on an absolute scale based on the accuracy your model achieves on the test set and the score does not depend on your ranking on Kaggle. \n",
    "\n",
    "*The provided tests check that your predictions are in the correct format, but you must submit to Kaggle to evaluate your classifier accuracy.*\n",
    "\n",
    "<!--\n",
    "BEGIN QUESTION\n",
    "name: q9\n",
    "points: 15\n",
    "-->"
   ]
  },
  {
   "cell_type": "code",
   "execution_count": 77,
   "metadata": {},
   "outputs": [],
   "source": [
    "testest1 = test\n",
    "testest1['Cap Sub'] = testest1['subject'].apply(lambda x: len(re.findall(r'[A-Z]',str(x)))).fillna(0)\n",
    "testest1['Cap Email']= testest1['email'].apply(lambda x: len(re.findall(r'[A-Z]',str(x)))/len(str(x))).fillna(0)\n",
    "testest1['subject characters'] = testest1['subject'].str.len().fillna(0)\n",
    "testest1['email characters'] = testest1['email'].str.len()\n",
    "testest1['money'] = testest1['subject'].apply(lambda x: len(re.findall(r'\\$',str(x)))).fillna(0)\n",
    "testest1['words email'] = testest1['email'].apply(lambda x: len(x.split()) )\n",
    "testest1['words subject'] = testest1['subject'].apply(lambda x: len(str(x).split())).fillna(0)\n",
    "testest1['! subject'] = testest1['subject'].apply(lambda x: len(re.findall(r'\\!',str(x)))).fillna(0)\n",
    "testest1['! email'] = testest1['email'].apply(lambda x: len(re.findall(r'\\!',str(x))))\n",
    "testest1['body'] = testest1['email'].apply(lambda x: len(re.findall(r'\\<body\\>',str(x))))\n",
    "testest1['bank'] = words_in_texts(['bank'],testest1['email'])\n",
    "testest1['offer'] = words_in_texts(['offer'],testest1['email'])\n",
    "testest1['guarantee'] = words_in_texts(['guarantee'],testest1['email'])\n",
    "testest1['good'] = words_in_texts(['good'],testest1['email'])\n",
    "testest1['need'] = words_in_texts(['need'],testest1['email'])\n",
    "testest1['teen'] = words_in_texts(['teen'],testest1['email'])\n",
    "testest1['low'] = words_in_texts(['low'],testest1['subject'])\n",
    "testest1['cash'] = words_in_texts(['cash'],testest1['email'])\n",
    "testest1['click'] = words_in_texts(['click'],testest1['email'])\n",
    "testest1['chance'] = words_in_texts(['chance'],testest1['email'])\n",
    "testest1['apply'] = words_in_texts(['apply'],testest1['email'])\n",
    "testest1['sqrt char email'] = np.sqrt(testest1['email characters'])\n",
    "testest1['sqrt words subject'] = np.sqrt(testest1['words subject'])\n",
    "testest1['fwd/rply']= testest1['subject'].apply(lambda x: len(re.findall(r'[RrEe]{2}:|\\[\\w+\\]',str(x))))\n",
    "testest1['fwd'] = testest1['subject'].apply(lambda x: len(re.findall(r'fwd',str(x))))\n",
    "testest1['html']= testest1['email'].apply(lambda x: len(re.findall(r'HTML|html',str(x))))\n",
    "testest1['@']= testest1['email'].apply(lambda x: len(re.findall(r'@',str(x))))\n",
    "testest1['\\n']= testest1['email'].apply(lambda x: len(re.findall(r'\\\\n',str(x))))\n",
    "testest1['=']= testest1['email'].apply(lambda x: len(re.findall(r'=',str(x))))\n",
    "testest1X = testest1[['Cap Sub','sqrt words subject','email characters','words email','words subject','! subject','! email','bank','offer','guarantee','good','need','click','sqrt char email','fwd/rply','html','money','cash','teen','body',\"@\",'\\n','=']]\n",
    "\n",
    "\n",
    "test_predictions = model_final.predict(testest1X)"
   ]
  },
  {
   "cell_type": "code",
   "execution_count": 78,
   "metadata": {
    "deletable": false,
    "editable": false
   },
   "outputs": [
    {
     "name": "stdout",
     "output_type": "stream",
     "text": [
      "~~~~~~~~~~~~~~~~~~~~~~~~~~~~~~~~~~~~~~~~~~~~~~~~~~~~~~~~~~~~~~~~~~~~~\n",
      "Running tests\n",
      "\n",
      "---------------------------------------------------------------------\n",
      "Test summary\n",
      "    Passed: 3\n",
      "    Failed: 0\n",
      "[ooooooooook] 100.0% passed\n",
      "\n"
     ]
    }
   ],
   "source": [
    "ok.grade(\"q9\");"
   ]
  },
  {
   "cell_type": "markdown",
   "metadata": {},
   "source": [
    "The following saves a file to submit to Kaggle."
   ]
  },
  {
   "cell_type": "code",
   "execution_count": 79,
   "metadata": {},
   "outputs": [
    {
     "name": "stdout",
     "output_type": "stream",
     "text": [
      "Created a CSV file: submission_2020-04-27T21:03:32.csv.\n",
      "You may now upload this CSV file to Kaggle for scoring.\n"
     ]
    }
   ],
   "source": [
    "from datetime import datetime\n",
    "\n",
    "# Assuming that your predictions on the test set are stored in a 1-dimensional array called\n",
    "# test_predictions. Feel free to modify this cell as long you create a CSV in the right format.\n",
    "\n",
    "# Construct and save the submission:\n",
    "submission_df = pd.DataFrame({\n",
    "    \"Id\": test['id'], \n",
    "    \"Class\": test_predictions,\n",
    "}, columns=['Id', 'Class'])\n",
    "timestamp = datetime.isoformat(datetime.now()).split(\".\")[0]\n",
    "submission_df.to_csv(\"submission_{}.csv\".format(timestamp), index=False)\n",
    "\n",
    "print('Created a CSV file: {}.'.format(\"submission_{}.csv\".format(timestamp)))\n",
    "print('You may now upload this CSV file to Kaggle for scoring.')"
   ]
  },
  {
   "cell_type": "markdown",
   "metadata": {
    "deletable": false,
    "editable": false
   },
   "source": [
    "# Submit\n",
    "Make sure you have run all cells in your notebook in order before running the cell below, so that all images/graphs appear in the output.\n",
    "**Please save before submitting!**\n",
    "\n",
    "<!-- EXPECT 5 EXPORTED QUESTIONS -->"
   ]
  },
  {
   "cell_type": "code",
   "execution_count": null,
   "metadata": {
    "deletable": false,
    "editable": false
   },
   "outputs": [
    {
     "name": "stdout",
     "output_type": "stream",
     "text": [
      "Generating PDF...\n",
      "Saved proj2b.pdf\n"
     ]
    },
    {
     "data": {
      "application/javascript": [
       "IPython.notebook.save_checkpoint();"
      ],
      "text/plain": [
       "<IPython.core.display.Javascript object>"
      ]
     },
     "metadata": {},
     "output_type": "display_data"
    }
   ],
   "source": [
    "# Save your notebook first, then run this cell to submit.\n",
    "import jassign.to_pdf\n",
    "jassign.to_pdf.generate_pdf('proj2b.ipynb', 'proj2b.pdf')\n",
    "ok.submit()"
   ]
  },
  {
   "cell_type": "code",
   "execution_count": null,
   "metadata": {},
   "outputs": [],
   "source": []
  }
 ],
 "metadata": {
  "kernelspec": {
   "display_name": "Python 3",
   "language": "python",
   "name": "python3"
  },
  "language_info": {
   "codemirror_mode": {
    "name": "ipython",
    "version": 3
   },
   "file_extension": ".py",
   "mimetype": "text/x-python",
   "name": "python",
   "nbconvert_exporter": "python",
   "pygments_lexer": "ipython3",
   "version": "3.7.6"
  }
 },
 "nbformat": 4,
 "nbformat_minor": 4
}
