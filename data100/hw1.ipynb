{
 "cells": [
  {
   "cell_type": "code",
   "execution_count": 1,
   "metadata": {
    "deletable": false,
    "editable": false
   },
   "outputs": [
    {
     "name": "stdout",
     "output_type": "stream",
     "text": [
      "=====================================================================\n",
      "Assignment: hw1\n",
      "OK, version v1.13.11\n",
      "=====================================================================\n",
      "\n"
     ]
    }
   ],
   "source": [
    "# Initialize OK\n",
    "from client.api.notebook import Notebook\n",
    "ok = Notebook('hw1.ok')"
   ]
  },
  {
   "cell_type": "markdown",
   "metadata": {},
   "source": [
    "# HW 1: Math Review and Plotting\n",
    "## Due Date: Monday Jan 27, 11:59 PM\n",
    "## Collaboration Policy\n",
    "\n",
    "Data science is a collaborative activity. While you may talk with others about\n",
    "the homework, we ask that you **write your solutions individually**. If you do\n",
    "discuss the assignments with others please **include their names** at the top\n",
    "of your notebook."
   ]
  },
  {
   "cell_type": "markdown",
   "metadata": {},
   "source": [
    "**Collaborators**: *list collaborators here*"
   ]
  },
  {
   "cell_type": "markdown",
   "metadata": {},
   "source": [
    "## This Assignment\n",
    "\n",
    "The purpose of this assignment is for you to combine Python, math, and the ideas in Data 8 to draw some interesting conclusions. The methods and results will help build the foundation of Data 100.\n",
    "\n",
    "## Score Breakdown\n",
    "Question | Points\n",
    "--- | ---\n",
    "1a | 1\n",
    "1b | 1\n",
    "1c | 2\n",
    "1d | 3\n",
    "2a | 1\n",
    "2b | 2\n",
    "2c | 2\n",
    "3a | 1\n",
    "3b | 2\n",
    "3c | 1\n",
    "3d | 1\n",
    "3e | 2\n",
    "4 | 3\n",
    "5a | 1\n",
    "5b | 1\n",
    "5c | 2\n",
    "5d | 2\n",
    "5e | 1\n",
    "6a | 2\n",
    "6b | 2\n",
    "6c | 1\n",
    "6d | 2\n",
    "6e | 2\n",
    "7 | 1\n",
    "Total | 39"
   ]
  },
  {
   "cell_type": "markdown",
   "metadata": {},
   "source": [
    "### Jupyter Shortcuts ###\n",
    "\n",
    "Here are some useful Jupyter notebook keyboard shortcuts.  To learn more keyboard shortcuts, go to **Help -> Keyboard Shortcuts** in the menu above. \n",
    "\n",
    "Here are a few we like:\n",
    "1. `ctrl`+`return` : *Evaluate the current cell*\n",
    "1. `shift`+`return`: *Evaluate the current cell and move to the next*\n",
    "1. `esc` : *command mode* (may need to press before using any of the commands below)\n",
    "1. `a` : *create a cell above*\n",
    "1. `b` : *create a cell below*\n",
    "1. `dd` : *delete a cell*\n",
    "1. `m` : *convert a cell to markdown*\n",
    "1. `y` : *convert a cell to code*"
   ]
  },
  {
   "cell_type": "markdown",
   "metadata": {},
   "source": [
    "### Preliminary: LaTex ###\n",
    "You should use LaTeX to format math in your answers. If you aren't familiar with LaTeX, not to worry. It's not hard to use in a Jupyter notebook. Just place your math in between dollar signs:\n",
    "\n",
    "\\\\$ f(x) = 2x \\\\$ becomes $ f(x) = 2x $.\n",
    "\n",
    "If you have a longer equation, use double dollar signs to place it on a line by itself:\n",
    "\n",
    "\\\\$\\\\$ \\sum_{i=0}^n i^2 \\\\$\\\\$ becomes:\n",
    "\n",
    "$$ \\sum_{i=0}^n i^2 $$.\n",
    "\n",
    "Here is some handy LaTex:\n",
    "\n",
    "| Output | Latex   |\n",
    "|:--|:--|\n",
    "| $$x^{a + b}$$  | `x^{a + b}` |\n",
    "| $$x_{a + b}$$ | `x_{a + b}` |\n",
    "| $$\\frac{a}{b}$$ | `\\frac{a}{b}` |\n",
    "| $$\\sqrt{a + b}$$ | `\\sqrt{a + b}` |\n",
    "| $$\\{ \\alpha, \\beta, \\gamma, \\pi, \\mu, \\sigma^2  \\}$$ | `\\{ \\alpha, \\beta, \\gamma, \\pi, \\mu, \\sigma^2  \\}` |\n",
    "| $$\\sum_{x=1}^{100}$$ | `\\sum_{x=1}^{100}` |\n",
    "| $$\\frac{\\partial}{\\partial x} $$ | `\\frac{\\partial}{\\partial x} ` |\n",
    "| $$\\begin{bmatrix} 2x + 4y \\\\ 4x + 6y^2 \\\\ \\end{bmatrix}$$ | `\\begin{bmatrix} 2x + 4y \\\\ 4x + 6y^2 \\\\ \\end{bmatrix}`|\n",
    "\n",
    "\n",
    "\n",
    "[For more about basic LaTeX formatting, you can read this article.](https://www.sharelatex.com/learn/Mathematical_expressions)\n"
   ]
  },
  {
   "cell_type": "markdown",
   "metadata": {},
   "source": [
    "### Preliminary: Sums ###\n",
    "\n",
    "Here's a recap of some basic algebra written in sigma notation. The facts are all just applications of the ordinary associative and distributive properties of addition and multiplication, written compactly and without the possibly ambiguous \"...\". But if you are ever unsure of whether you're working correctly with a sum, you can always try writing $\\sum_{i=1}^n a_i$ as $a_1 + a_2 + \\cdots + a_n$ and see if that helps.\n",
    "\n",
    "- You can use any reasonable notation for the index over which you are summing, just as in Python you can use any reasonable name in `for name in list`. Thus $\\sum_{i=1}^n a_i = \\sum_{k=1}^n a_k$.\n",
    "- $\\sum_{i=1}^n (a_i + b_i) = \\sum_{i=1}^n a_i + \\sum_{i=1}^n b_i$\n",
    "- $\\sum_{i=1}^n d = nd$\n",
    "- $\\sum_{i=1}^n (ca_i + d) = c\\sum_{i=1}^n a_i + nd$ "
   ]
  },
  {
   "cell_type": "markdown",
   "metadata": {},
   "source": [
    "## A Least Squares Predictor ##"
   ]
  },
  {
   "cell_type": "markdown",
   "metadata": {
    "deletable": false,
    "editable": false
   },
   "source": [
    "### Question 1###\n",
    "Let $x_1, x_2, \\ldots, x_n$ be a list of numbers. You can think of each index $i$ as the label of a household, and the entry $x_i$ as the annual income of Household $i$. Define the *mean* or *average* of the list to be\n",
    "$\\mu ~ = ~ \\frac{1}{n}\\sum_{i=1}^n x_i$.\n",
    "\n",
    "<!--\n",
    "BEGIN QUESTION\n",
    "name: q1a\n",
    "manual: true\n",
    "-->\n",
    "\n",
    "#### Question 1a) ####\n",
    "The $i$th *deviation from average* is the difference $x_i - \\mu$. In Data 8 you saw in numerical examples that the [sum of all these deviations is 0](https://www.inferentialthinking.com/chapters/14/2/Variability.html#The-Rough-Size-of-Deviations-from-Average). Now prove that fact. That is, show that $\\sum_{i=1}^n (x_i - \\mu) = 0$.\n",
    "\n",
    "**Note: In this class, you must always put your answer in the cell that immediately follows the question. DO NOT create any cells between this one and the one that says** _Write your answer here, replacing this text._\n",
    "<!-- EXPORT TO PDF -->"
   ]
  },
  {
   "cell_type": "markdown",
   "metadata": {},
   "source": [
    "$$\\sum_{i=1}^n x_{i} - \\mu = \\sum_{i=1}^n x_{i} - n\\mu = \\sum_{i=1}^n x_{i} - n \\frac{1}{n} \\sum_{i=1}^n x_{i} = 0 $$"
   ]
  },
  {
   "cell_type": "markdown",
   "metadata": {
    "deletable": false,
    "editable": false
   },
   "source": [
    "#### Question 1b) ####\n",
    "[Recall](https://www.inferentialthinking.com/chapters/14/2/Variability.html#The-Rough-Size-of-Deviations-from-Average) that the *variance* of a list is defined as the *mean squared deviation from average*, and that the [*standard deviation*](https://www.inferentialthinking.com/chapters/14/2/Variability.html#Standard-Deviation) (SD) of the list is the square root of the variance. The SD is in the same units as the data and measures the rough size of the deviations from average.\n",
    "\n",
    "Denote the variance of the list by $\\sigma^2$. Write a math expression for $\\sigma^2$. We recommend building your expression by reading the definition of variance from right to left. That is, start by writing the notation for \"average\", then \"deviation from average\", and so on.\n",
    "\n",
    "\n",
    "<!--\n",
    "BEGIN QUESTION\n",
    "name: q1b\n",
    "manual: true\n",
    "-->\n",
    "<!-- EXPORT TO PDF -->"
   ]
  },
  {
   "cell_type": "markdown",
   "metadata": {},
   "source": [
    "$$\\sigma^{2} =\\frac{1}{n-1} \\sum_{i=1}^n (x_{i} - \\mu)^2$$"
   ]
  },
  {
   "cell_type": "markdown",
   "metadata": {
    "deletable": false,
    "editable": false
   },
   "source": [
    "#### Question 1c) ####\n",
    "Suppose you have to predict the value of $x_i$ for some $i$, but you don't get to see $i$ and you certainly don't get to see $x_i$. You decide that whatever $x_i$ is, you're just going use you favorite number as your predictor, and your favorite number is $\\mu$.\n",
    "\n",
    "The *error* in your prediction is $x_i - \\mu$, which is your old friend the deviation from average. Thus the *mean squared error* (MSE) of your predictor $\\mu$ over the entire list is the mean squared deviation from average, which is your old friend the variance. So we will write $\\sigma^2 = MSE(\\mu)$.\n",
    "\n",
    "Now suppose I decide that whatever $x_i$ is, I'm just going to use *my* favorite number as my predictor, and my favorite number is $c$. Write a math expression for $MSE(c)$. Again, go from right to left: first $c$, then the error, and so on.\n",
    "\n",
    "<!--\n",
    "BEGIN QUESTION\n",
    "name: q1c\n",
    "manual: true\n",
    "-->\n",
    "<!-- EXPORT TO PDF -->"
   ]
  },
  {
   "cell_type": "markdown",
   "metadata": {},
   "source": [
    "$$\\sigma^{2} =\\frac{1}{n-1} \\sum_{i=1}^n (x_{i} - c)^2$$"
   ]
  },
  {
   "cell_type": "markdown",
   "metadata": {
    "deletable": false,
    "editable": false
   },
   "source": [
    "#### Question 1d) ####\n",
    "Whose predictor is better? It seems reasonable to guess that your predictor $\\mu$ is better than my favorite but possibly weird $c$. Show that $MSE(c) > MSE(\\mu)$ for all $c \\ne \\mu$, by the method indicated below.\n",
    "\n",
    "- Write the error $x_i - c$ as $x_i - c = (x_i - \\mu) + (\\mu - c)$.\n",
    "- Substitute this expression for $x_i - c$ in your formula for $MSE(c)$.\n",
    "- Expand the square and use properties of sums; don't forget what you showed in Part **a**.\n",
    "\n",
    "This shows that $\\mu$ is the *least squares* constant predictor. In Data 8 you found (numerically) the [least squares linear predictor](https://www.inferentialthinking.com/chapters/15/3/Method_of_Least_Squares.html) of a variable $y$ based on a related variable $x$. We will return to that later in this course, using a generalization of the calculation in this exercise.\n",
    "\n",
    "<!--\n",
    "BEGIN QUESTION\n",
    "name: q1d\n",
    "manual: true\n",
    "-->\n",
    "<!-- EXPORT TO PDF -->"
   ]
  },
  {
   "cell_type": "markdown",
   "metadata": {},
   "source": [
    "$$MSE(c)=\\frac{1}{n-1}\\sum_{i=1}^n((x_{i}-\\mu)+(\\mu-c))^2=\\frac{1}{n-1}\\sum_{i=1}^n(x_{i}-\\mu)^2 + 2(x_{i}-\\mu)(\\mu - c)+(\\mu - c)^2=\\frac {1}{n-1}\\sum_{i=1}^n(x_{i}-\\mu)^2 +\\frac{2(\\mu -c)}{n-1}\\sum_{i=1}^n(x_{i}-\\mu)+\\frac {1}{n-1}\\sum_{i=1}^n(\\mu - c)^2=\\frac{1}{n-1}\\sum_{i=1}^n(x_{i}-\\mu)^2+0+\\frac{n}{n-1}(\\mu - c)^2=MSE(\\mu)+\\frac{n}{n-1}(\\mu-c)^2$$\n",
    "\n",
    "\"since (n)/(n-1)*(mu-c)^2 is always positive, \n",
    "MSE(c) is less than MSE(mu)always.\""
   ]
  },
  {
   "cell_type": "code",
   "execution_count": null,
   "metadata": {},
   "outputs": [],
   "source": []
  },
  {
   "cell_type": "markdown",
   "metadata": {},
   "source": [
    "### Initialize your environment\n",
    "\n",
    "This cell should run without error if you're using the course Jupyter Hub or you have [set up your personal computer correctly](http://www.ds100.org/sp20/setup)."
   ]
  },
  {
   "cell_type": "code",
   "execution_count": 2,
   "metadata": {},
   "outputs": [],
   "source": [
    "import numpy as np\n",
    "import matplotlib\n",
    "import matplotlib.pyplot as plt\n",
    "plt.style.use('fivethirtyeight')"
   ]
  },
  {
   "cell_type": "markdown",
   "metadata": {},
   "source": [
    "### Preliminary: NumPy ###\n",
    "\n",
    "You should be able to understand the code in the following cells. If not, review the following:\n",
    "\n",
    "* [The Data 8 Textbook Chapter on NumPy](https://www.inferentialthinking.com/chapters/05/1/Arrays)\n",
    "* [DS100 NumPy Review](http://ds100.org/fa17/assets/notebooks/numpy/Numpy_Review.html)\n",
    "* [Condensed NumPy Review](http://cs231n.github.io/python-numpy-tutorial/#numpy)\n",
    "* [The Official NumPy Tutorial](https://docs.scipy.org/doc/numpy-dev/user/quickstart.html)"
   ]
  },
  {
   "cell_type": "markdown",
   "metadata": {},
   "source": [
    "**Jupyter pro-tip**: Pull up the docs for any function in Jupyter by running a cell with\n",
    "the function name and a `?` at the end:"
   ]
  },
  {
   "cell_type": "code",
   "execution_count": 3,
   "metadata": {},
   "outputs": [],
   "source": [
    "np.arange?"
   ]
  },
  {
   "cell_type": "markdown",
   "metadata": {},
   "source": [
    "You can close the window at the bottom by pressing `esc` several times or clicking on the x at the right hand side. "
   ]
  },
  {
   "cell_type": "markdown",
   "metadata": {},
   "source": [
    "**Another Jupyter pro-tip**: Pull up the docs for any function in Jupyter by typing the function\n",
    "name, then `<Shift><Tab>` on your keyboard. This is super convenient when you forget the order\n",
    "of the arguments to a function. You can press `<Tab>` multiple times to expand the docs and reveal additional information.\n",
    "\n",
    "Try it on the function below:"
   ]
  },
  {
   "cell_type": "code",
   "execution_count": 4,
   "metadata": {},
   "outputs": [],
   "source": [
    "np.linspace?"
   ]
  },
  {
   "cell_type": "markdown",
   "metadata": {},
   "source": [
    "## Line Plots ##"
   ]
  },
  {
   "cell_type": "markdown",
   "metadata": {
    "deletable": false,
    "editable": false
   },
   "source": [
    "### Question 2 ###\n",
    "\n",
    "\n",
    "Consider the function $f(x) = x^2$ for $-\\infty < x < \\infty$.\n",
    "\n",
    "#### Question 2a) #####\n",
    "Find the equation of the tangent line to $f$ at $x = 0$.\n",
    "\n",
    "<!--\n",
    "BEGIN QUESTION\n",
    "name: q2a\n",
    "manual: true\n",
    "-->\n",
    "<!-- EXPORT TO PDF -->"
   ]
  },
  {
   "cell_type": "markdown",
   "metadata": {},
   "source": [
    "$f(x) = x^2$\n",
    "\n",
    "$f'(x) = 2x $\n",
    "\n",
    "$ f'(0) = 2*0 = 0 $\n"
   ]
  },
  {
   "cell_type": "markdown",
   "metadata": {
    "deletable": false,
    "editable": false
   },
   "source": [
    "#### Question 2b) ####\n",
    "Find the equation of the tangent line to $f$ at $x = 8$.\n",
    "\n",
    "<!--\n",
    "BEGIN QUESTION\n",
    "name: q2b\n",
    "manual: true\n",
    "-->\n",
    "<!-- EXPORT TO PDF -->"
   ]
  },
  {
   "cell_type": "markdown",
   "metadata": {},
   "source": [
    "$f(x) = x^2$\n",
    "\n",
    "$f'(x) = 2x $\n",
    "\n",
    "$f'(8) = 2*8 = 16$\n",
    "\n",
    "$f(8) = 64$\n",
    "\n",
    "$y - 64 = 16(x-8) $\n",
    "\n",
    "$y = 16x - 64$"
   ]
  },
  {
   "cell_type": "markdown",
   "metadata": {
    "deletable": false,
    "editable": false
   },
   "source": [
    "#### Question 2c)#### \n",
    "\n",
    "Write code to plot the function $f$, the tangent line at $x=8$, and the tangent line at $x=0$. \n",
    "\n",
    "Set the range of the x-axis to (-15, 15) and the range of the y-axis to (-100, 300) and the figure size to (4,4).\n",
    "\n",
    "Your resulting plot should look like this:\n",
    "\n",
    "<img src=\"derivative.png\" align=\"center\"/>\n",
    "\n",
    "You should use the `plt.plot` function to plot lines. You may find the following functions useful:\n",
    "\n",
    "- [`plt.plot(..)`](https://matplotlib.org/api/_as_gen/matplotlib.pyplot.plot.html)\n",
    "- [`plt.figure(figsize=..)`](https://stackoverflow.com/questions/332289/how-do-you-change-the-size-of-figures-drawn-with-matplotlib)\n",
    "- [`plt.ylim(..)`](https://matplotlib.org/api/_as_gen/matplotlib.pyplot.ylim.html)\n",
    "- [`plt.axhline(..)`](https://matplotlib.org/api/_as_gen/matplotlib.pyplot.hlines.html)\n",
    "\n",
    "<!--\n",
    "BEGIN QUESTION\n",
    "name: q2c\n",
    "manual: true\n",
    "-->\n",
    "<!-- EXPORT TO PDF -->"
   ]
  },
  {
   "cell_type": "code",
   "execution_count": 5,
   "metadata": {},
   "outputs": [
    {
     "data": {
      "image/png": "[encoded data removed]",
      "text/plain": [
       "<Figure size 432x288 with 1 Axes>"
      ]
     },
     "metadata": {
      "needs_background": "light"
     },
     "output_type": "display_data"
    },
    {
     "data": {
      "text/plain": [
       "<Figure size 288x288 with 0 Axes>"
      ]
     },
     "metadata": {},
     "output_type": "display_data"
    }
   ],
   "source": [
    "Xs = np.linspace(-15,15,1000)\n",
    "\n",
    "def f(x):\n",
    "    return x*x\n",
    "   \n",
    "def df(x):\n",
    "    return 16*x - 64\n",
    "\n",
    "def plot(f, df,ls): \n",
    "    Y_fx= f(ls)\n",
    "    Y_dfx = df(ls)\n",
    "    plt.plot(ls,Y_fx,'lightblue')\n",
    "    plt.plot(ls,Y_dfx,'orange')\n",
    "        \n",
    "plt.ylim(-100,300)\n",
    "plt.axhline(0,-15,15)\n",
    "plot(f, df,Xs);\n",
    "plt.figure(figsize=[4,4]);\n",
    "\n"
   ]
  },
  {
   "cell_type": "markdown",
   "metadata": {},
   "source": [
    "## A Maximum Likelihood Estimate ##"
   ]
  },
  {
   "cell_type": "markdown",
   "metadata": {
    "deletable": false,
    "editable": false
   },
   "source": [
    "### Question 3 ###\n",
    "Data scientists use coin tossing as a visual image for sampling at random with replacement from a binary population. \n",
    "\n",
    "#### Question 3a) ####\n",
    "A coin that lands heads with chance 0.8 is tossed six times. What is the chance of the sequence HHHTHT? Assign your answer to the variable `p_HHHTHT`.\n",
    "\n",
    "<!--\n",
    "BEGIN QUESTION\n",
    "name: q3a\n",
    "points: 1\n",
    "-->"
   ]
  },
  {
   "cell_type": "code",
   "execution_count": 6,
   "metadata": {},
   "outputs": [
    {
     "data": {
      "text/plain": [
       "0.016384000000000006"
      ]
     },
     "execution_count": 6,
     "metadata": {},
     "output_type": "execute_result"
    }
   ],
   "source": [
    "p_HHHTHT = 0.8*0.8*0.8*0.2*0.8*0.2\n",
    "p_HHHTHT"
   ]
  },
  {
   "cell_type": "code",
   "execution_count": 7,
   "metadata": {
    "deletable": false,
    "editable": false
   },
   "outputs": [
    {
     "name": "stdout",
     "output_type": "stream",
     "text": [
      "~~~~~~~~~~~~~~~~~~~~~~~~~~~~~~~~~~~~~~~~~~~~~~~~~~~~~~~~~~~~~~~~~~~~~\n",
      "Running tests\n",
      "\n",
      "---------------------------------------------------------------------\n",
      "Test summary\n",
      "    Passed: 1\n",
      "    Failed: 0\n",
      "[ooooooooook] 100.0% passed\n",
      "\n"
     ]
    }
   ],
   "source": [
    "ok.grade(\"q3a\");"
   ]
  },
  {
   "cell_type": "markdown",
   "metadata": {
    "deletable": false,
    "editable": false
   },
   "source": [
    "#### Question 3b) ####\n",
    "I have a coin that lands heads with an unknown probability $p$. I toss it 10 times and get the sequence TTTHTHHTTH.\n",
    "\n",
    "If you toss this coin 10 times, the chance that you get the sequence above is a function of $p$. That function is called the *likelihood* of the sequence TTTHTHHTTH, so we will call it $l$.\n",
    "\n",
    "Plot the graph of $l$ as a function of $p$ for $p \\in [0, 1]$. \n",
    "\n",
    "<!--\n",
    "BEGIN QUESTION\n",
    "name: q3b\n",
    "manual: true\n",
    "-->\n",
    "<!-- EXPORT TO PDF -->"
   ]
  },
  {
   "cell_type": "code",
   "execution_count": 8,
   "metadata": {},
   "outputs": [
    {
     "data": {
      "image/png": "[encoded data removed]",
      "text/plain": [
       "<Figure size 432x288 with 1 Axes>"
      ]
     },
     "metadata": {
      "needs_background": "light"
     },
     "output_type": "display_data"
    }
   ],
   "source": [
    "p = np.linspace(0,1,1000)\n",
    "def model(x):\n",
    "    return x**4 * (1-x)**6\n",
    "\n",
    "likelihood = model(p)\n",
    "plt.plot(p, likelihood, lw=2, color='darkblue') # lw is line width\n",
    "plt.plot([0, 1], [0, 0], lw=1, color='grey')    # horizontal axis\n",
    "plt.xlabel('$p$')\n",
    "plt.ylabel('$l(p)$', rotation=0)\n",
    "plt.title('Likelihood of TTTHTHHTTH');"
   ]
  },
  {
   "cell_type": "markdown",
   "metadata": {
    "deletable": false,
    "editable": false
   },
   "source": [
    "#### Question 3c) ####\n",
    "\n",
    "The value $\\hat{p}$ at which the likelihood function attains its maximum is called the *maximum likelihood estimate* (MLE) of $p$. Among all values of $p$, it is the one that makes the observed data most likely.\n",
    "\n",
    "Please provide the value of $\\hat{p}$ and also a simple interpretation of that value in terms of the data TTTHTHHTTH.\n",
    "\n",
    "<!--\n",
    "BEGIN QUESTION\n",
    "name: q3c\n",
    "manual: true\n",
    "-->\n",
    "<!-- EXPORT TO PDF -->"
   ]
  },
  {
   "cell_type": "markdown",
   "metadata": {},
   "source": [
    "based on the graph $\\hat p$ is located at p = 0.4. Signifying of all the possibilities for probability p (Head), having the probability 0.4 is the most likely to produce the sequence TTTHTHHTTH. "
   ]
  },
  {
   "cell_type": "markdown",
   "metadata": {
    "deletable": false,
    "editable": false
   },
   "source": [
    "#### Question 3d) ####\n",
    "Explain why the value $\\hat{p}$ at which the function $l$ attains its maximum is the same as the value at which the function $\\log(l)$ attains its maximum. To clarify, $\\log(l)$ is the composition of $\\log$ and $l$: $\\log(l)$ at $p$ is $\\log(l(p))$. Even though it doesn't make a difference for this problem, $\\log$ is now and forevermore the $\\log$ to the base $e$, not to the base 10.\n",
    "\n",
    "It might help to compare $\\log(x_1)$ and $\\log(x_2)$ for $x_1 < x_2$.\n",
    "\n",
    "The observation in this exercise is hugely important in data science because many probabilities are products and the $\\log$ function turns products into sums. It's much simpler to work with a sum than with a product.\n",
    "\n",
    "<!--\n",
    "BEGIN QUESTION\n",
    "name: q3d\n",
    "manual: true\n",
    "-->\n",
    "<!-- EXPORT TO PDF -->"
   ]
  },
  {
   "cell_type": "markdown",
   "metadata": {},
   "source": [
    "    the logarithm of the likelihood function based on probability p should still reflect the behavior of a typical logarithmic function, where the x of the function impacts the y in a correlative way, thus, it would make sense that the highpoint of the l in terms of p is still reflected when l is plotted in log l.\n",
    "    "
   ]
  },
  {
   "cell_type": "markdown",
   "metadata": {
    "deletable": false,
    "editable": false
   },
   "source": [
    "#### Question 3e) ####\n",
    "Use Part <b>c</b> and calculus to find $\\hat{p}$. Using Part <b>d</b> makes the calculus much easier. You don't have to check that the value you've found produces a max and not a min – we'll spare you that step.\n",
    "\n",
    "<!--\n",
    "BEGIN QUESTION\n",
    "name: q3e\n",
    "manual: true\n",
    "-->\n",
    "<!-- EXPORT TO PDF -->"
   ]
  },
  {
   "cell_type": "markdown",
   "metadata": {},
   "source": [
    "$ f(x) = ln(x^4 * (1-x)^6)$\n",
    "\n",
    "$f'(x) = (4-10x)/(x-x^2)$\n",
    "\n",
    "to find max, find where f'(x) = 0 \n",
    "\n",
    "$ 4-10x = 0$\n",
    "\n",
    "$ x = 4/10 = 0.4$"
   ]
  },
  {
   "cell_type": "markdown",
   "metadata": {},
   "source": [
    "## 3-D Plots ##"
   ]
  },
  {
   "cell_type": "markdown",
   "metadata": {
    "deletable": false,
    "editable": false
   },
   "source": [
    "### Question 4 ##\n",
    "\n",
    "Data science is a rapidly expanding field and no degree program can hope to teach you everything that will be helpful to you as a data scientist. So it's important that you become familiar with looking up documentation and learning how to read it. \n",
    "\n",
    "Below is a section of code that plots a three-dimensional \"wireframe\" plot. You'll see what that means when you draw it. Replace each `# Your answer here` with a description of what the line above does, what the arguments being passed in are, and how the arguments are used in the function. For example,\n",
    "\n",
    "```\n",
    "np.arange(2, 5, 0.2)\n",
    "# This returns an array of numbers from 2 to 5 with an interval size of 0.2\n",
    "```\n",
    "\n",
    "**Hint:** The `Shift` + `Tab` tip from earlier in the notebook may help here. Remember that objects must be defined in order for the documentation shortcut to work; for example, all of the documentation will show for method calls from `np` since we've already executed `import numpy as np`. However, since `z` is not yet defined in the kernel, `z.reshape()` will not show documentation until you run the line `z = np.cos(squared)`.\n",
    "\n",
    "<!--\n",
    "    BEGIN QUESTION\n",
    "    name: q4\n",
    "    manual: true\n",
    "-->\n",
    "<!-- EXPORT TO PDF -->"
   ]
  },
  {
   "cell_type": "code",
   "execution_count": 9,
   "metadata": {
    "scrolled": true
   },
   "outputs": [
    {
     "data": {
      "image/png": "[encoded data removed]",
      "text/plain": [
       "<Figure size 432x432 with 1 Axes>"
      ]
     },
     "metadata": {
      "needs_background": "light"
     },
     "output_type": "display_data"
    }
   ],
   "source": [
    "from mpl_toolkits.mplot3d import axes3d\n",
    "\n",
    "u = np.linspace(1.5*np.pi, -1.5*np.pi, 100)\n",
    "# creates a range of values (100 intervals), between 1.5* pi and -1.5*pi\n",
    "[x,y] = np.meshgrid(u, u)\n",
    "# creates a 2d meshgrid of dimensions u and u; coordinate matrices generated from coordinate vectors u and u\n",
    "squared = np.sqrt(x.flatten()**2 + y.flatten()**2)\n",
    "z = np.cos(squared)\n",
    "# takes the cosine of the variable squared, which is the square root of the sum of x-flattened-squared and y-flattened-squared\n",
    "z = z.reshape(x.shape)\n",
    "# the same data in the array x is returned as a new shape-  z\n",
    "fig = plt.figure(figsize=(6, 6))\n",
    "ax = fig.add_subplot(111, projection='3d')\n",
    "# creates a subplot of dim 1 row, 1 column, and index 1; the pos arg is the of the default value 111; this subplot of the custom projection type '3d'\n",
    "ax.plot_wireframe(x, y, z, rstride=5, cstride=5, lw=2)\n",
    "# a 3d wireframe is plotted, using the 2d arrays x,y&z. \n",
    "ax.view_init(elev=60, azim=25)\n",
    "# the elevation angle and azimuth angle respectively are 60 and 25 degrees. This creates a programmatic shift of the axes. \n",
    "plt.savefig(\"figure1.png\")\n",
    "# the figure is saved w/ the fname \"figure1.png\""
   ]
  },
  {
   "cell_type": "markdown",
   "metadata": {},
   "source": [
    "## Probabilities and Proportions ##"
   ]
  },
  {
   "cell_type": "markdown",
   "metadata": {
    "deletable": false,
    "editable": false
   },
   "source": [
    "### Question 5 ###\n",
    "\n",
    "Much of data analysis involves interpreting proportions – lots and lots of related proportions. So let's recall the basics. It might help to start by reviewing [the main rules](https://www.inferentialthinking.com/chapters/09/5/Finding_Probabilities.html) from Data 8, with particular attention to what's being multiplied in the multiplication rule.\n",
    "\n",
    "<!--\n",
    "    BEGIN QUESTION\n",
    "    name: q5a\n",
    "    manual: true\n",
    "-->\n",
    "\n",
    "#### Question 5a) ####\n",
    "The Pew Research Foundation publishes the results of numerous surveys, one of which is about the [trust that Americans have](https://www.pewresearch.org/fact-tank/2019/03/22/public-confidence-in-scientists-has-remained-stable-for-decades/) in groups such as the military, scientists, and elected officials to act in the public interest. A table in the article summarizes the results.\n",
    "\n",
    "Pick one of the options (i) and (ii) to answer the question below; if you pick (i), fill in the blank with the percent. Then, explain your choice.\n",
    "\n",
    "The percent of surveyed U.S. adults who had a great deal of confidence in both scientists and religious leaders\n",
    "\n",
    "(i) is equal to ______________________.\n",
    "\n",
    "(ii) cannot be found with the information in the article.\n",
    "<!-- EXPORT TO PDF -->"
   ]
  },
  {
   "cell_type": "markdown",
   "metadata": {},
   "source": [
    "ii. the data given on the confidence in scientists and on confidence in religious leaders may indeed have a correlation with one another, however given the fact the data provided are of indepent subject matters differentiated via questions, and therefore seperate and different data sets. We cannot infer from the data/information provided alone the percentage of participants that responded affirmative for both. \n",
    "\n",
    "from a statistical standpoint: \n",
    "we are unsure that the events are mutually exclusive/independent. So we have to go about the problem with the formula P(A,B) = P(A) P(B|A) , in this case, we are unable to  find P(B|A). "
   ]
  },
  {
   "cell_type": "markdown",
   "metadata": {
    "deletable": false,
    "editable": false
   },
   "source": [
    "#### Question 5b) ####\n",
    "In a famous (or infamous) survey, members of the Harvard medical school were asked to consider a scenario in which \"a test to detect a disease whose prevalence is 1/1,000 has a false positive rate of 5 percent\". The terminology, the specific question asked in the survey, and the answer, are discussed in detail in a Stat 88 textbook [section](http://stat88.org/textbook/notebooks/Chapter_02/04_Use_and_Interpretation.html#Harvard-Medical-School-Survey) that you are strongly encouraged to read. As Stat 88 is a Data 8 connector course, the section is another look at the same ideas as in the corresponding [Data 8 textbook section](https://www.inferentialthinking.com/chapters/18/2/Making_Decisions.html).\n",
    "\n",
    "The corresponding tree diagram is copied below for your reference.\n",
    "\n",
    "<img src=\"tree_disease_harvard.png\">\n",
    "\n",
    "The survey did not provide the true positive rate. The respondents and Stat 88 were allowed to assume that the true positive rate is 1, but we will not do so here. **Let the true positive rate be some unknown proportion $p$.**\n",
    "\n",
    "Suppose a person is picked at random from the population. Let $N$ be the event that the person doesn't have the disease and let $T_N$ be the event that the person's test result is negative. \n",
    "\n",
    "Fill in Blanks 1 and 2 with options chosen from (1)-(9).\n",
    "\n",
    "The proportion $P(N \\mid T_N)$ is the number of people who $\\underline{~~~~~~1~~~~~~}$ relative to the total number of people who $\\underline{~~~~~~2~~~~~~}$.\n",
    "\n",
    "(1) are in the population\n",
    "\n",
    "(2) have the disease\n",
    "\n",
    "(3) don't have the disease\n",
    "\n",
    "(4) test positive\n",
    "\n",
    "(5) test negative\n",
    "\n",
    "(6) have the disease and test positive\n",
    "\n",
    "(7) have the disease and test negative\n",
    "\n",
    "(8) don't have the disease and test positive\n",
    "\n",
    "(9) don't have the disease and test negative\n",
    "\n",
    "Assign the variable `q5bi` to your answer to the first blank and `q5bii` to your answer to the second blank.\n",
    "\n",
    "<!--\n",
    "    BEGIN QUESTION\n",
    "    name: q5b\n",
    "    points: 1\n",
    "-->"
   ]
  },
  {
   "cell_type": "code",
   "execution_count": 10,
   "metadata": {},
   "outputs": [
    {
     "data": {
      "text/plain": [
       "(3, 5)"
      ]
     },
     "execution_count": 10,
     "metadata": {},
     "output_type": "execute_result"
    }
   ],
   "source": [
    "q5bi = 3\n",
    "q5bii = 5\n",
    "q5bi, q5bii"
   ]
  },
  {
   "cell_type": "code",
   "execution_count": 11,
   "metadata": {
    "deletable": false,
    "editable": false
   },
   "outputs": [
    {
     "name": "stdout",
     "output_type": "stream",
     "text": [
      "~~~~~~~~~~~~~~~~~~~~~~~~~~~~~~~~~~~~~~~~~~~~~~~~~~~~~~~~~~~~~~~~~~~~~\n",
      "Running tests\n",
      "\n",
      "---------------------------------------------------------------------\n",
      "Test summary\n",
      "    Passed: 2\n",
      "    Failed: 0\n",
      "[ooooooooook] 100.0% passed\n",
      "\n"
     ]
    }
   ],
   "source": [
    "ok.grade(\"q5b\");"
   ]
  },
  {
   "cell_type": "markdown",
   "metadata": {
    "deletable": false,
    "editable": false
   },
   "source": [
    "#### Question 5c) ####\n",
    "(This is a continuation of the previous part.) Define a function `no_disease_given_negative` that takes $p$ as its argument and returns $P(N \\mid T_N)$.\n",
    "\n",
    "<!--\n",
    "    BEGIN QUESTION\n",
    "    name: q5c\n",
    "    points: 2\n",
    "-->"
   ]
  },
  {
   "cell_type": "code",
   "execution_count": 12,
   "metadata": {},
   "outputs": [],
   "source": [
    "def no_disease_given_negative(p):\n",
    "    return 0.999*0.95/(0.999*0.95 +0.001*(1-p))"
   ]
  },
  {
   "cell_type": "code",
   "execution_count": 13,
   "metadata": {
    "deletable": false,
    "editable": false
   },
   "outputs": [
    {
     "name": "stdout",
     "output_type": "stream",
     "text": [
      "~~~~~~~~~~~~~~~~~~~~~~~~~~~~~~~~~~~~~~~~~~~~~~~~~~~~~~~~~~~~~~~~~~~~~\n",
      "Running tests\n",
      "\n",
      "---------------------------------------------------------------------\n",
      "Test summary\n",
      "    Passed: 2\n",
      "    Failed: 0\n",
      "[ooooooooook] 100.0% passed\n",
      "\n"
     ]
    }
   ],
   "source": [
    "ok.grade(\"q5c\");"
   ]
  },
  {
   "cell_type": "markdown",
   "metadata": {
    "deletable": false,
    "editable": false
   },
   "source": [
    "#### Question 5d) ####\n",
    "(This part is a continuation of the previous two.) Pick all of the options (i)-(iv) that are true for all values of $p$. Explain by algebraic or probailistic reasoning; you are welcome to use your function `no_disease_given_negative` to try a few cases numerically. Your explanation should include the reasons why you *didn't* choose some options.\n",
    "\n",
    "$P(N \\mid T_N)$ is\n",
    "\n",
    "(i) equal to $0.95$.\n",
    "\n",
    "(ii) equal to $0.999 \\times 0.95$.\n",
    "\n",
    "(iii) greater than $0.999 \\times 0.95$.\n",
    "\n",
    "(iv) greater than $0.95$.\n",
    "\n",
    "<!--\n",
    "    BEGIN QUESTION\n",
    "    name: q5d\n",
    "    manual: true\n",
    "-->\n",
    "<!-- EXPORT TO PDF -->"
   ]
  },
  {
   "cell_type": "markdown",
   "metadata": {},
   "source": [
    "iii, iv, from a algebraic stand point, the conditional probability function has us dividing P(A∩B) which is 0.999*0.95, by a number that is always going to be less than 1 P(B), thus resulting in a number greater than 0.999*0.95. This number naturally, will not be equal to 0.999*0.95. By extension, this is true for iv, as no matter how small p is, the result will always be larger than 0.95, based on the arithmatic below, by extension, it can never be equivalent to 0.95."
   ]
  },
  {
   "cell_type": "code",
   "execution_count": 14,
   "metadata": {},
   "outputs": [
    {
     "data": {
      "text/plain": [
       "array([0.99894742, 0.99894848, 0.99894953, 0.99895058, 0.99895163,\n",
       "       0.99895269, 0.99895374, 0.99895479, 0.99895584, 0.9989569 ,\n",
       "       0.99895795, 0.998959  , 0.99896005, 0.99896111, 0.99896216,\n",
       "       0.99896321, 0.99896426, 0.99896532, 0.99896637, 0.99896742,\n",
       "       0.99896847, 0.99896953, 0.99897058, 0.99897163, 0.99897268,\n",
       "       0.99897374, 0.99897479, 0.99897584, 0.9989769 , 0.99897795,\n",
       "       0.998979  , 0.99898005, 0.99898111, 0.99898216, 0.99898321,\n",
       "       0.99898426, 0.99898532, 0.99898637, 0.99898742, 0.99898847,\n",
       "       0.99898953, 0.99899058, 0.99899163, 0.99899268, 0.99899374,\n",
       "       0.99899479, 0.99899584, 0.99899689, 0.99899795, 0.998999  ,\n",
       "       0.99900005, 0.99900111, 0.99900216, 0.99900321, 0.99900426,\n",
       "       0.99900532, 0.99900637, 0.99900742, 0.99900847, 0.99900953,\n",
       "       0.99901058, 0.99901163, 0.99901268, 0.99901374, 0.99901479,\n",
       "       0.99901584, 0.9990169 , 0.99901795, 0.999019  , 0.99902005,\n",
       "       0.99902111, 0.99902216, 0.99902321, 0.99902426, 0.99902532,\n",
       "       0.99902637, 0.99902742, 0.99902847, 0.99902953, 0.99903058,\n",
       "       0.99903163, 0.99903269, 0.99903374, 0.99903479, 0.99903584,\n",
       "       0.9990369 , 0.99903795, 0.999039  , 0.99904005, 0.99904111,\n",
       "       0.99904216, 0.99904321, 0.99904427, 0.99904532, 0.99904637,\n",
       "       0.99904742, 0.99904848, 0.99904953, 0.99905058, 0.99905163,\n",
       "       0.99905269, 0.99905374, 0.99905479, 0.99905585, 0.9990569 ,\n",
       "       0.99905795, 0.999059  , 0.99906006, 0.99906111, 0.99906216,\n",
       "       0.99906321, 0.99906427, 0.99906532, 0.99906637, 0.99906743,\n",
       "       0.99906848, 0.99906953, 0.99907058, 0.99907164, 0.99907269,\n",
       "       0.99907374, 0.9990748 , 0.99907585, 0.9990769 , 0.99907795,\n",
       "       0.99907901, 0.99908006, 0.99908111, 0.99908216, 0.99908322,\n",
       "       0.99908427, 0.99908532, 0.99908638, 0.99908743, 0.99908848,\n",
       "       0.99908953, 0.99909059, 0.99909164, 0.99909269, 0.99909375,\n",
       "       0.9990948 , 0.99909585, 0.9990969 , 0.99909796, 0.99909901,\n",
       "       0.99910006, 0.99910112, 0.99910217, 0.99910322, 0.99910427,\n",
       "       0.99910533, 0.99910638, 0.99910743, 0.99910849, 0.99910954,\n",
       "       0.99911059, 0.99911164, 0.9991127 , 0.99911375, 0.9991148 ,\n",
       "       0.99911586, 0.99911691, 0.99911796, 0.99911901, 0.99912007,\n",
       "       0.99912112, 0.99912217, 0.99912323, 0.99912428, 0.99912533,\n",
       "       0.99912638, 0.99912744, 0.99912849, 0.99912954, 0.9991306 ,\n",
       "       0.99913165, 0.9991327 , 0.99913375, 0.99913481, 0.99913586,\n",
       "       0.99913691, 0.99913797, 0.99913902, 0.99914007, 0.99914113,\n",
       "       0.99914218, 0.99914323, 0.99914428, 0.99914534, 0.99914639,\n",
       "       0.99914744, 0.9991485 , 0.99914955, 0.9991506 , 0.99915165,\n",
       "       0.99915271, 0.99915376, 0.99915481, 0.99915587, 0.99915692,\n",
       "       0.99915797, 0.99915903, 0.99916008, 0.99916113, 0.99916218,\n",
       "       0.99916324, 0.99916429, 0.99916534, 0.9991664 , 0.99916745,\n",
       "       0.9991685 , 0.99916956, 0.99917061, 0.99917166, 0.99917271,\n",
       "       0.99917377, 0.99917482, 0.99917587, 0.99917693, 0.99917798,\n",
       "       0.99917903, 0.99918009, 0.99918114, 0.99918219, 0.99918324,\n",
       "       0.9991843 , 0.99918535, 0.9991864 , 0.99918746, 0.99918851,\n",
       "       0.99918956, 0.99919062, 0.99919167, 0.99919272, 0.99919377,\n",
       "       0.99919483, 0.99919588, 0.99919693, 0.99919799, 0.99919904,\n",
       "       0.99920009, 0.99920115, 0.9992022 , 0.99920325, 0.9992043 ,\n",
       "       0.99920536, 0.99920641, 0.99920746, 0.99920852, 0.99920957,\n",
       "       0.99921062, 0.99921168, 0.99921273, 0.99921378, 0.99921484,\n",
       "       0.99921589, 0.99921694, 0.99921799, 0.99921905, 0.9992201 ,\n",
       "       0.99922115, 0.99922221, 0.99922326, 0.99922431, 0.99922537,\n",
       "       0.99922642, 0.99922747, 0.99922853, 0.99922958, 0.99923063,\n",
       "       0.99923169, 0.99923274, 0.99923379, 0.99923484, 0.9992359 ,\n",
       "       0.99923695, 0.999238  , 0.99923906, 0.99924011, 0.99924116,\n",
       "       0.99924222, 0.99924327, 0.99924432, 0.99924538, 0.99924643,\n",
       "       0.99924748, 0.99924854, 0.99924959, 0.99925064, 0.99925169,\n",
       "       0.99925275, 0.9992538 , 0.99925485, 0.99925591, 0.99925696,\n",
       "       0.99925801, 0.99925907, 0.99926012, 0.99926117, 0.99926223,\n",
       "       0.99926328, 0.99926433, 0.99926539, 0.99926644, 0.99926749,\n",
       "       0.99926855, 0.9992696 , 0.99927065, 0.99927171, 0.99927276,\n",
       "       0.99927381, 0.99927487, 0.99927592, 0.99927697, 0.99927802,\n",
       "       0.99927908, 0.99928013, 0.99928118, 0.99928224, 0.99928329,\n",
       "       0.99928434, 0.9992854 , 0.99928645, 0.9992875 , 0.99928856,\n",
       "       0.99928961, 0.99929066, 0.99929172, 0.99929277, 0.99929382,\n",
       "       0.99929488, 0.99929593, 0.99929698, 0.99929804, 0.99929909,\n",
       "       0.99930014, 0.9993012 , 0.99930225, 0.9993033 , 0.99930436,\n",
       "       0.99930541, 0.99930646, 0.99930752, 0.99930857, 0.99930962,\n",
       "       0.99931068, 0.99931173, 0.99931278, 0.99931384, 0.99931489,\n",
       "       0.99931594, 0.999317  , 0.99931805, 0.9993191 , 0.99932016,\n",
       "       0.99932121, 0.99932226, 0.99932332, 0.99932437, 0.99932542,\n",
       "       0.99932648, 0.99932753, 0.99932858, 0.99932964, 0.99933069,\n",
       "       0.99933174, 0.9993328 , 0.99933385, 0.9993349 , 0.99933596,\n",
       "       0.99933701, 0.99933806, 0.99933912, 0.99934017, 0.99934122,\n",
       "       0.99934228, 0.99934333, 0.99934438, 0.99934544, 0.99934649,\n",
       "       0.99934754, 0.9993486 , 0.99934965, 0.9993507 , 0.99935176,\n",
       "       0.99935281, 0.99935386, 0.99935492, 0.99935597, 0.99935702,\n",
       "       0.99935808, 0.99935913, 0.99936018, 0.99936124, 0.99936229,\n",
       "       0.99936334, 0.9993644 , 0.99936545, 0.9993665 , 0.99936756,\n",
       "       0.99936861, 0.99936966, 0.99937072, 0.99937177, 0.99937282,\n",
       "       0.99937388, 0.99937493, 0.99937598, 0.99937704, 0.99937809,\n",
       "       0.99937914, 0.9993802 , 0.99938125, 0.9993823 , 0.99938336,\n",
       "       0.99938441, 0.99938546, 0.99938652, 0.99938757, 0.99938862,\n",
       "       0.99938968, 0.99939073, 0.99939179, 0.99939284, 0.99939389,\n",
       "       0.99939495, 0.999396  , 0.99939705, 0.99939811, 0.99939916,\n",
       "       0.99940021, 0.99940127, 0.99940232, 0.99940337, 0.99940443,\n",
       "       0.99940548, 0.99940653, 0.99940759, 0.99940864, 0.99940969,\n",
       "       0.99941075, 0.9994118 , 0.99941285, 0.99941391, 0.99941496,\n",
       "       0.99941602, 0.99941707, 0.99941812, 0.99941918, 0.99942023,\n",
       "       0.99942128, 0.99942234, 0.99942339, 0.99942444, 0.9994255 ,\n",
       "       0.99942655, 0.9994276 , 0.99942866, 0.99942971, 0.99943076,\n",
       "       0.99943182, 0.99943287, 0.99943393, 0.99943498, 0.99943603,\n",
       "       0.99943709, 0.99943814, 0.99943919, 0.99944025, 0.9994413 ,\n",
       "       0.99944235, 0.99944341, 0.99944446, 0.99944551, 0.99944657,\n",
       "       0.99944762, 0.99944868, 0.99944973, 0.99945078, 0.99945184,\n",
       "       0.99945289, 0.99945394, 0.999455  , 0.99945605, 0.9994571 ,\n",
       "       0.99945816, 0.99945921, 0.99946026, 0.99946132, 0.99946237,\n",
       "       0.99946343, 0.99946448, 0.99946553, 0.99946659, 0.99946764,\n",
       "       0.99946869, 0.99946975, 0.9994708 , 0.99947185, 0.99947291,\n",
       "       0.99947396, 0.99947502, 0.99947607, 0.99947712, 0.99947818,\n",
       "       0.99947923, 0.99948028, 0.99948134, 0.99948239, 0.99948344,\n",
       "       0.9994845 , 0.99948555, 0.99948661, 0.99948766, 0.99948871,\n",
       "       0.99948977, 0.99949082, 0.99949187, 0.99949293, 0.99949398,\n",
       "       0.99949503, 0.99949609, 0.99949714, 0.9994982 , 0.99949925,\n",
       "       0.9995003 , 0.99950136, 0.99950241, 0.99950346, 0.99950452,\n",
       "       0.99950557, 0.99950663, 0.99950768, 0.99950873, 0.99950979,\n",
       "       0.99951084, 0.99951189, 0.99951295, 0.999514  , 0.99951505,\n",
       "       0.99951611, 0.99951716, 0.99951822, 0.99951927, 0.99952032,\n",
       "       0.99952138, 0.99952243, 0.99952348, 0.99952454, 0.99952559,\n",
       "       0.99952665, 0.9995277 , 0.99952875, 0.99952981, 0.99953086,\n",
       "       0.99953191, 0.99953297, 0.99953402, 0.99953508, 0.99953613,\n",
       "       0.99953718, 0.99953824, 0.99953929, 0.99954034, 0.9995414 ,\n",
       "       0.99954245, 0.99954351, 0.99954456, 0.99954561, 0.99954667,\n",
       "       0.99954772, 0.99954877, 0.99954983, 0.99955088, 0.99955194,\n",
       "       0.99955299, 0.99955404, 0.9995551 , 0.99955615, 0.99955721,\n",
       "       0.99955826, 0.99955931, 0.99956037, 0.99956142, 0.99956247,\n",
       "       0.99956353, 0.99956458, 0.99956564, 0.99956669, 0.99956774,\n",
       "       0.9995688 , 0.99956985, 0.99957091, 0.99957196, 0.99957301,\n",
       "       0.99957407, 0.99957512, 0.99957617, 0.99957723, 0.99957828,\n",
       "       0.99957934, 0.99958039, 0.99958144, 0.9995825 , 0.99958355,\n",
       "       0.99958461, 0.99958566, 0.99958671, 0.99958777, 0.99958882,\n",
       "       0.99958987, 0.99959093, 0.99959198, 0.99959304, 0.99959409,\n",
       "       0.99959514, 0.9995962 , 0.99959725, 0.99959831, 0.99959936,\n",
       "       0.99960041, 0.99960147, 0.99960252, 0.99960357, 0.99960463,\n",
       "       0.99960568, 0.99960674, 0.99960779, 0.99960884, 0.9996099 ,\n",
       "       0.99961095, 0.99961201, 0.99961306, 0.99961411, 0.99961517,\n",
       "       0.99961622, 0.99961728, 0.99961833, 0.99961938, 0.99962044,\n",
       "       0.99962149, 0.99962255, 0.9996236 , 0.99962465, 0.99962571,\n",
       "       0.99962676, 0.99962782, 0.99962887, 0.99962992, 0.99963098,\n",
       "       0.99963203, 0.99963309, 0.99963414, 0.99963519, 0.99963625,\n",
       "       0.9996373 , 0.99963836, 0.99963941, 0.99964046, 0.99964152,\n",
       "       0.99964257, 0.99964362, 0.99964468, 0.99964573, 0.99964679,\n",
       "       0.99964784, 0.99964889, 0.99964995, 0.999651  , 0.99965206,\n",
       "       0.99965311, 0.99965416, 0.99965522, 0.99965627, 0.99965733,\n",
       "       0.99965838, 0.99965944, 0.99966049, 0.99966154, 0.9996626 ,\n",
       "       0.99966365, 0.99966471, 0.99966576, 0.99966681, 0.99966787,\n",
       "       0.99966892, 0.99966998, 0.99967103, 0.99967208, 0.99967314,\n",
       "       0.99967419, 0.99967525, 0.9996763 , 0.99967735, 0.99967841,\n",
       "       0.99967946, 0.99968052, 0.99968157, 0.99968262, 0.99968368,\n",
       "       0.99968473, 0.99968579, 0.99968684, 0.99968789, 0.99968895,\n",
       "       0.99969   , 0.99969106, 0.99969211, 0.99969316, 0.99969422,\n",
       "       0.99969527, 0.99969633, 0.99969738, 0.99969844, 0.99969949,\n",
       "       0.99970054, 0.9997016 , 0.99970265, 0.99970371, 0.99970476,\n",
       "       0.99970581, 0.99970687, 0.99970792, 0.99970898, 0.99971003,\n",
       "       0.99971108, 0.99971214, 0.99971319, 0.99971425, 0.9997153 ,\n",
       "       0.99971636, 0.99971741, 0.99971846, 0.99971952, 0.99972057,\n",
       "       0.99972163, 0.99972268, 0.99972373, 0.99972479, 0.99972584,\n",
       "       0.9997269 , 0.99972795, 0.99972901, 0.99973006, 0.99973111,\n",
       "       0.99973217, 0.99973322, 0.99973428, 0.99973533, 0.99973638,\n",
       "       0.99973744, 0.99973849, 0.99973955, 0.9997406 , 0.99974166,\n",
       "       0.99974271, 0.99974376, 0.99974482, 0.99974587, 0.99974693,\n",
       "       0.99974798, 0.99974903, 0.99975009, 0.99975114, 0.9997522 ,\n",
       "       0.99975325, 0.99975431, 0.99975536, 0.99975641, 0.99975747,\n",
       "       0.99975852, 0.99975958, 0.99976063, 0.99976169, 0.99976274,\n",
       "       0.99976379, 0.99976485, 0.9997659 , 0.99976696, 0.99976801,\n",
       "       0.99976907, 0.99977012, 0.99977117, 0.99977223, 0.99977328,\n",
       "       0.99977434, 0.99977539, 0.99977645, 0.9997775 , 0.99977855,\n",
       "       0.99977961, 0.99978066, 0.99978172, 0.99978277, 0.99978383,\n",
       "       0.99978488, 0.99978593, 0.99978699, 0.99978804, 0.9997891 ,\n",
       "       0.99979015, 0.99979121, 0.99979226, 0.99979331, 0.99979437,\n",
       "       0.99979542, 0.99979648, 0.99979753, 0.99979859, 0.99979964,\n",
       "       0.99980069, 0.99980175, 0.9998028 , 0.99980386, 0.99980491,\n",
       "       0.99980597, 0.99980702, 0.99980807, 0.99980913, 0.99981018,\n",
       "       0.99981124, 0.99981229, 0.99981335, 0.9998144 , 0.99981545,\n",
       "       0.99981651, 0.99981756, 0.99981862, 0.99981967, 0.99982073,\n",
       "       0.99982178, 0.99982284, 0.99982389, 0.99982494, 0.999826  ,\n",
       "       0.99982705, 0.99982811, 0.99982916, 0.99983022, 0.99983127,\n",
       "       0.99983232, 0.99983338, 0.99983443, 0.99983549, 0.99983654,\n",
       "       0.9998376 , 0.99983865, 0.99983971, 0.99984076, 0.99984181,\n",
       "       0.99984287, 0.99984392, 0.99984498, 0.99984603, 0.99984709,\n",
       "       0.99984814, 0.99984919, 0.99985025, 0.9998513 , 0.99985236,\n",
       "       0.99985341, 0.99985447, 0.99985552, 0.99985658, 0.99985763,\n",
       "       0.99985868, 0.99985974, 0.99986079, 0.99986185, 0.9998629 ,\n",
       "       0.99986396, 0.99986501, 0.99986607, 0.99986712, 0.99986817,\n",
       "       0.99986923, 0.99987028, 0.99987134, 0.99987239, 0.99987345,\n",
       "       0.9998745 , 0.99987556, 0.99987661, 0.99987767, 0.99987872,\n",
       "       0.99987977, 0.99988083, 0.99988188, 0.99988294, 0.99988399,\n",
       "       0.99988505, 0.9998861 , 0.99988716, 0.99988821, 0.99988926,\n",
       "       0.99989032, 0.99989137, 0.99989243, 0.99989348, 0.99989454,\n",
       "       0.99989559, 0.99989665, 0.9998977 , 0.99989876, 0.99989981,\n",
       "       0.99990086, 0.99990192, 0.99990297, 0.99990403, 0.99990508,\n",
       "       0.99990614, 0.99990719, 0.99990825, 0.9999093 , 0.99991036,\n",
       "       0.99991141, 0.99991246, 0.99991352, 0.99991457, 0.99991563,\n",
       "       0.99991668, 0.99991774, 0.99991879, 0.99991985, 0.9999209 ,\n",
       "       0.99992196, 0.99992301, 0.99992406, 0.99992512, 0.99992617,\n",
       "       0.99992723, 0.99992828, 0.99992934, 0.99993039, 0.99993145,\n",
       "       0.9999325 , 0.99993356, 0.99993461, 0.99993566, 0.99993672,\n",
       "       0.99993777, 0.99993883, 0.99993988, 0.99994094, 0.99994199,\n",
       "       0.99994305, 0.9999441 , 0.99994516, 0.99994621, 0.99994727,\n",
       "       0.99994832, 0.99994938, 0.99995043, 0.99995148, 0.99995254,\n",
       "       0.99995359, 0.99995465, 0.9999557 , 0.99995676, 0.99995781,\n",
       "       0.99995887, 0.99995992, 0.99996098, 0.99996203, 0.99996309,\n",
       "       0.99996414, 0.99996519, 0.99996625, 0.9999673 , 0.99996836,\n",
       "       0.99996941, 0.99997047, 0.99997152, 0.99997258, 0.99997363,\n",
       "       0.99997469, 0.99997574, 0.9999768 , 0.99997785, 0.99997891,\n",
       "       0.99997996, 0.99998102, 0.99998207, 0.99998312, 0.99998418,\n",
       "       0.99998523, 0.99998629, 0.99998734, 0.9999884 , 0.99998945,\n",
       "       0.99999051, 0.99999156, 0.99999262, 0.99999367, 0.99999473,\n",
       "       0.99999578, 0.99999684, 0.99999789, 0.99999895, 1.        ])"
      ]
     },
     "execution_count": 14,
     "metadata": {},
     "output_type": "execute_result"
    }
   ],
   "source": [
    "a= np.linspace(0,1,1000)\n",
    "no_disease_given_negative(a)"
   ]
  },
  {
   "cell_type": "markdown",
   "metadata": {
    "deletable": false,
    "editable": false
   },
   "source": [
    "#### Question 5e) ####\n",
    "Suzuki is one of most commonly owned makes of cars in our county (Alameda). A car heading from Berkeley to San Francisco is pulled over on the freeway for speeding. Suppose I tell you that the car is either a Suzuki or a Lamborghini, and you have to guess which of the two is more likely. \n",
    "\n",
    "What would you guess, and why? Make some reasonable assumptions and explain them (data scientists often have to do this), justify your answer, and say how it's connected to the previous parts.\n",
    "\n",
    "<!--\n",
    "    BEGIN QUESTION\n",
    "    name: q5e\n",
    "    manual: true\n",
    "-->\n",
    "<!-- EXPORT TO PDF -->"
   ]
  },
  {
   "cell_type": "markdown",
   "metadata": {},
   "source": [
    "there are a few assumptions we should make: a lamborghini driver is marginally more likely to speed on the freeway,  as the traffic from berkeley to SF can be rather slow due to jams,this limits the ability for either car to go above the speed limit/flow of traffic should the drivers not be extraneously erratic.  should it be light traffic, the person driving a suzuki or a lamborghini are roughly equally likely to go above the speed limit to get where they're going faster, with the lamborghini driver more likely to do so, cuz hey if you have a nice car, why not. The biggest assumption that we made was that a lamborghini driver has a driving pattern like most people, assumping the driver, despite their likely socio-economic advantage, sits somewhere in the middle of the normal distribution and is not an outlier in terms of driving speed at any given time. "
   ]
  },
  {
   "cell_type": "markdown",
   "metadata": {},
   "source": [
    "## Distributions ##"
   ]
  },
  {
   "cell_type": "markdown",
   "metadata": {},
   "source": [
    "### Question 6 ###\n",
    "Visualizing distributions, both categorical and numerical, helps us understand variability. In Data 8 you visualized numerical distributions by drawing [histograms](https://www.inferentialthinking.com/chapters/07/2/Visualizing_Numerical_Distributions.html#A-Histogram), which look like bar charts but represent proportions by the *areas* of the bars instead of the heights or lengths. In this exercise you will use the `hist` function in `matplotlib` instead of the corresponding `Table` method to draw histograms.\n",
    "\n",
    "To start off, suppose we want to plot the probability distribution of the number of spots on a single roll of a die. That should be a flat histogram since the chance of each of the values 1 through 6 is 1/6. Here is a first attempt at drawing the histogram."
   ]
  },
  {
   "cell_type": "code",
   "execution_count": 15,
   "metadata": {},
   "outputs": [
    {
     "data": {
      "text/plain": [
       "(array([1., 0., 1., 0., 1., 0., 1., 0., 1., 1.]),\n",
       " array([1. , 1.5, 2. , 2.5, 3. , 3.5, 4. , 4.5, 5. , 5.5, 6. ]),\n",
       " <a list of 10 Patch objects>)"
      ]
     },
     "execution_count": 15,
     "metadata": {},
     "output_type": "execute_result"
    },
    {
     "data": {
      "image/png": "[encoded data removed]",
      "text/plain": [
       "<Figure size 432x288 with 1 Axes>"
      ]
     },
     "metadata": {
      "needs_background": "light"
     },
     "output_type": "display_data"
    }
   ],
   "source": [
    "faces = range(1, 7)\n",
    "plt.hist(faces)"
   ]
  },
  {
   "cell_type": "markdown",
   "metadata": {},
   "source": [
    "This default plot is not helpful. We have to choose some arguments to get a visualization that we can interpret. \n",
    "\n",
    "Note that the second printed line shows the left ends of the default bins, as well as the right end of the last bin. The first line shows the counts in the bins. If you don't want the printed lines you can add a semi-colon at the end of the call to `plt.hist`, but we'll keep the lines for now.\n",
    "\n",
    "Let's redraw the histogram with bins of unit length centered at the possible values. By the end of the exercise you'll see a reason for centering. Notice that the argument for specifying bins is the same as the one for the `Table` method `hist`."
   ]
  },
  {
   "cell_type": "code",
   "execution_count": 16,
   "metadata": {},
   "outputs": [
    {
     "data": {
      "text/plain": [
       "(array([1., 1., 1., 1., 1., 1.]),\n",
       " array([0.5, 1.5, 2.5, 3.5, 4.5, 5.5, 6.5]),\n",
       " <a list of 6 Patch objects>)"
      ]
     },
     "execution_count": 16,
     "metadata": {},
     "output_type": "execute_result"
    },
    {
     "data": {
      "image/png": "[encoded data removed]",
      "text/plain": [
       "<Figure size 432x288 with 1 Axes>"
      ]
     },
     "metadata": {
      "needs_background": "light"
     },
     "output_type": "display_data"
    }
   ],
   "source": [
    "unit_bins = np.arange(0.5, 6.6)\n",
    "plt.hist(faces, bins = unit_bins)"
   ]
  },
  {
   "cell_type": "markdown",
   "metadata": {},
   "source": [
    "We need to see the edges of the bars! Let's specify the edge color `ec` to be white. [Here](https://matplotlib.org/3.1.0/gallery/color/named_colors.html) are all the colors you could use, but do try to drag yourself away from the poetic names."
   ]
  },
  {
   "cell_type": "code",
   "execution_count": 17,
   "metadata": {},
   "outputs": [
    {
     "data": {
      "text/plain": [
       "(array([1., 1., 1., 1., 1., 1.]),\n",
       " array([0.5, 1.5, 2.5, 3.5, 4.5, 5.5, 6.5]),\n",
       " <a list of 6 Patch objects>)"
      ]
     },
     "execution_count": 17,
     "metadata": {},
     "output_type": "execute_result"
    },
    {
     "data": {
      "image/png": "[encoded data removed]",
      "text/plain": [
       "<Figure size 432x288 with 1 Axes>"
      ]
     },
     "metadata": {
      "needs_background": "light"
     },
     "output_type": "display_data"
    }
   ],
   "source": [
    "plt.hist(faces, bins = unit_bins, ec='white')"
   ]
  },
  {
   "cell_type": "markdown",
   "metadata": {},
   "source": [
    "That's much better, but look at the vertical axis. It is not drawn to the [density scale](https://www.inferentialthinking.com/chapters/07/2/Visualizing_Numerical_Distributions.html#The-Histogram:-General-Principles-and-Calculation) defined in Data 8. We want a histogram of a probability distribution, so the total area should be 1. We just have to ask for that."
   ]
  },
  {
   "cell_type": "code",
   "execution_count": 18,
   "metadata": {},
   "outputs": [
    {
     "data": {
      "text/plain": [
       "(array([0.16666667, 0.16666667, 0.16666667, 0.16666667, 0.16666667,\n",
       "        0.16666667]),\n",
       " array([0.5, 1.5, 2.5, 3.5, 4.5, 5.5, 6.5]),\n",
       " <a list of 6 Patch objects>)"
      ]
     },
     "execution_count": 18,
     "metadata": {},
     "output_type": "execute_result"
    },
    {
     "data": {
      "image/png": "[encoded data removed]",
      "text/plain": [
       "<Figure size 432x288 with 1 Axes>"
      ]
     },
     "metadata": {
      "needs_background": "light"
     },
     "output_type": "display_data"
    }
   ],
   "source": [
    "plt.hist(faces, bins = unit_bins, ec='white', density=True)"
   ]
  },
  {
   "cell_type": "markdown",
   "metadata": {},
   "source": [
    "That's the probability histogram of the number of spots on one roll of a die. The proportion is $1/6$ in each of the bins."
   ]
  },
  {
   "cell_type": "markdown",
   "metadata": {
    "deletable": false,
    "editable": false
   },
   "source": [
    "#### Question 6a) ####\n",
    "\n",
    "Define a function `integer_distribution` that takes an array of integers and draws the histogram of the distribution using unit bins centered at the integers and white edges for the bars. The histogram should be drawn to the density scale. The left-most bar should be centered at the smallest integer in the array, and the right-most bar at the largest.\n",
    "\n",
    "Your function does not have to check that the input is an array consisting only of integers. The display does not need to include the printed proportions and bins.\n",
    "\n",
    "If you have trouble defining the function, go back and carefully read all the lines of code that resulted in the probability histogram of the number of spots on one roll of a die. Pay special attention to the bins. \n",
    "\n",
    "<!--\n",
    "    BEGIN QUESTION\n",
    "    name: q6a\n",
    "    manual: true\n",
    "-->\n",
    "<!-- EXPORT TO PDF -->"
   ]
  },
  {
   "cell_type": "code",
   "execution_count": 19,
   "metadata": {},
   "outputs": [
    {
     "data": {
      "image/png": "[encoded data removed]",
      "text/plain": [
       "<Figure size 432x288 with 1 Axes>"
      ]
     },
     "metadata": {
      "needs_background": "light"
     },
     "output_type": "display_data"
    }
   ],
   "source": [
    "def integer_distribution(x):\n",
    "    uni_bins = np.arange(np.min(x)-0.5,np.max(x)+0.6)\n",
    "    plt.hist(x,bins=uni_bins, ec='white',density = True )\n",
    "integer_distribution(faces)"
   ]
  },
  {
   "cell_type": "markdown",
   "metadata": {
    "deletable": false,
    "editable": false
   },
   "source": [
    "#### Question 6b) ####\n",
    "In Data 8 you studied the Supreme Court case of [Swain versus the State of Alabama](https://www.inferentialthinking.com/chapters/11/1/Assessing_Models.html), where a question before the Court was whether a jury panel of size 100 had been selected at random from a population in which 26% of the people were black. That was the percent of black people in the population that was eligible to serve on the panel.\n",
    "\n",
    "You can use `np.random.multinomial` to simulate drawing at random with replacement from a categorical distribution. The arguments are the sample size `n` and an array `pvals` of the proportions in all the categories. The function simulates `n` independent random draws from the distribution and returns the observed counts in all the categories. Read the documentation to see how this is described formally; we will use the formal terminology and notation in future assignments after we have discussed them in class.\n",
    "\n",
    "You will see that the function also takes a third argument `size`, which for our purposes will be an integer that specifies the number of times to run the entire simulation. All the runs are independent of each other. \n",
    "\n",
    "Write one line of code that uses `np.random.multinomial` to run 10 independent simulations of drawing 100 times at random with replacement from a population in which 26% of the people are black. The output should be an array containing the counts in the black category in the 10 simulations. It will help to recall how to slice `NumPy` arrays. Assign your answer to the variable `sample`.\n",
    "\n",
    "<!--\n",
    "    BEGIN QUESTION\n",
    "    name: q6b\n",
    "    points: 2\n",
    "-->"
   ]
  },
  {
   "cell_type": "code",
   "execution_count": 20,
   "metadata": {},
   "outputs": [
    {
     "data": {
      "text/plain": [
       "array([20, 33, 35, 25, 31, 17, 27, 27, 21, 29])"
      ]
     },
     "execution_count": 20,
     "metadata": {},
     "output_type": "execute_result"
    }
   ],
   "source": [
    "sample = np.random.multinomial(100, [0.26,0.74],10)[:,0]\n",
    "sample"
   ]
  },
  {
   "cell_type": "code",
   "execution_count": 21,
   "metadata": {
    "deletable": false,
    "editable": false
   },
   "outputs": [
    {
     "name": "stdout",
     "output_type": "stream",
     "text": [
      "~~~~~~~~~~~~~~~~~~~~~~~~~~~~~~~~~~~~~~~~~~~~~~~~~~~~~~~~~~~~~~~~~~~~~\n",
      "Running tests\n",
      "\n",
      "---------------------------------------------------------------------\n",
      "Test summary\n",
      "    Passed: 3\n",
      "    Failed: 0\n",
      "[ooooooooook] 100.0% passed\n",
      "\n"
     ]
    }
   ],
   "source": [
    "ok.grade(\"q6b\");"
   ]
  },
  {
   "cell_type": "markdown",
   "metadata": {
    "deletable": false,
    "editable": false
   },
   "source": [
    "#### Question 6c) ####\n",
    "\n",
    "Replace the \"...\" in the code cell below with a Python expression so that the output of the cell is an empirical histogram of 500,000 simulated counts of black people in 100 draws made at random with replacement from the population eligible for Swain's jury panel.  \n",
    "\n",
    "After you have drawn the histogram, you might want to take a moment to recall the conclusion reached in Data 8 based on the data that Swain's panel had 8 black people in it.\n",
    "\n",
    "<!--\n",
    "    BEGIN QUESTION\n",
    "    name: q6c\n",
    "    manual: true\n",
    "-->\n",
    "<!-- EXPORT TO PDF -->"
   ]
  },
  {
   "cell_type": "code",
   "execution_count": 22,
   "metadata": {
    "scrolled": true
   },
   "outputs": [
    {
     "data": {
      "image/png": "[encoded data removed]",
      "text/plain": [
       "<Figure size 432x288 with 1 Axes>"
      ]
     },
     "metadata": {
      "needs_background": "light"
     },
     "output_type": "display_data"
    }
   ],
   "source": [
    "simulated_counts = np.random.multinomial(100,[0.26,0.74],500000)[:,0]\n",
    "integer_distribution(simulated_counts)"
   ]
  },
  {
   "cell_type": "markdown",
   "metadata": {
    "deletable": false,
    "editable": false
   },
   "source": [
    "#### Question 6d) ####\n",
    "As you know, the count of black people in a sample of 100 people drawn at random from the eligible population is expected to be 26. Just by looking at the histogram in Part **c**, and **no other calculation**, pick the correct option and explain your choice. You might want to refer to the [Data 8 textbook](https://www.inferentialthinking.com/chapters/14/3/SD_and_the_Normal_Curve.html) again.\n",
    "\n",
    "The SD of the distribution of the number of black people in a random sample of 100 people drawn from the eligible population is closest to\n",
    "\n",
    "(i) 1.4\n",
    "\n",
    "(ii) 4.4\n",
    "\n",
    "(iii) 7.4\n",
    "\n",
    "(iv) 10.4\n",
    "\n",
    "<!--\n",
    "    BEGIN QUESTION\n",
    "    name: q6d\n",
    "    manual: true\n",
    "-->\n",
    "<!-- EXPORT TO PDF -->"
   ]
  },
  {
   "cell_type": "markdown",
   "metadata": {},
   "source": [
    "(ii) 4.4 from the mean on either side would generate the area most approximate to 68% of the area of the curve; this is an approximately normal data set. "
   ]
  },
  {
   "cell_type": "markdown",
   "metadata": {
    "deletable": false,
    "editable": false
   },
   "source": [
    "#### Question 6e) ####\n",
    "The *normal curve with mean $\\mu$ and SD $\\sigma$* is defined by\n",
    "\n",
    "$$\n",
    "f(x) ~ = ~ \\frac{1}{\\sqrt{2\\pi}\\sigma} e^{-\\frac{1}{2}\\big{(}\\frac{x-\\mu}{\\sigma}\\big{)}^2}, ~~~ -\\infty < x < \\infty\n",
    "$$\n",
    "\n",
    "Redraw your histogram from Part **c** and overlay the normal curve with $\\mu = 26$ and $\\sigma$ equal to the choice you made in Part **d**. You just have to call `plt.plot` after `integer_distribution`. Use `np.e` for $e$. For the curve, use 2 as the line width, and any color that is easy to see over the blue histogram. It's fine to just let Python use its default color.\n",
    "\n",
    "Now you can see why centering the histogram bars over the integers was a good idea. The normal curve peaks at 26, which is the center of the corresponding bar.\n",
    "\n",
    "<!--\n",
    "    BEGIN QUESTION\n",
    "    name: q6e\n",
    "    manual: true\n",
    "-->\n",
    "<!-- EXPORT TO PDF -->"
   ]
  },
  {
   "cell_type": "code",
   "execution_count": 23,
   "metadata": {
    "scrolled": false
   },
   "outputs": [
    {
     "data": {
      "text/plain": [
       "[<matplotlib.lines.Line2D at 0x7ff98f67e240>]"
      ]
     },
     "execution_count": 23,
     "metadata": {},
     "output_type": "execute_result"
    },
    {
     "data": {
      "image/png": "[encoded data removed]",
      "text/plain": [
       "<Figure size 432x288 with 1 Axes>"
      ]
     },
     "metadata": {
      "needs_background": "light"
     },
     "output_type": "display_data"
    }
   ],
   "source": [
    "mu = 26\n",
    "sigma = 4.4\n",
    "x = np.linspace(0, 50, 200)\n",
    "f_x = 1/(np.sqrt(2*np.pi)*sigma) * np.e**(-1/2 * ((x - mu)/sigma)**2)\n",
    "integer_distribution(simulated_counts)\n",
    "plt.plot(x,f_x)"
   ]
  },
  {
   "cell_type": "markdown",
   "metadata": {
    "deletable": false,
    "editable": false
   },
   "source": [
    "### Question 7 ###\n",
    "Please fill out the Data 100 Spring 2020 Welcome Survey: https://forms.gle/r2KxH8Jog3rujRip9\n",
    "\n",
    "At the end of the survey, there will be a 5-digit integer code displayed. Assign `q7_survey` to that integer below.\n",
    "\n",
    "<!--\n",
    "    BEGIN QUESTION\n",
    "    name: q7\n",
    "    points: 1\n",
    "-->"
   ]
  },
  {
   "cell_type": "code",
   "execution_count": 24,
   "metadata": {},
   "outputs": [],
   "source": [
    "q7_survey = 19846"
   ]
  },
  {
   "cell_type": "code",
   "execution_count": 25,
   "metadata": {
    "deletable": false,
    "editable": false
   },
   "outputs": [
    {
     "name": "stdout",
     "output_type": "stream",
     "text": [
      "~~~~~~~~~~~~~~~~~~~~~~~~~~~~~~~~~~~~~~~~~~~~~~~~~~~~~~~~~~~~~~~~~~~~~\n",
      "Running tests\n",
      "\n",
      "---------------------------------------------------------------------\n",
      "Test summary\n",
      "    Passed: 1\n",
      "    Failed: 0\n",
      "[ooooooooook] 100.0% passed\n",
      "\n"
     ]
    }
   ],
   "source": [
    "ok.grade(\"q7\");"
   ]
  },
  {
   "cell_type": "markdown",
   "metadata": {
    "deletable": false,
    "editable": false
   },
   "source": [
    "# Submit\n",
    "Make sure you have run all cells in your notebook in order before running the cell below, so that all images/graphs appear in the output.\n",
    "**Please save before submitting!**\n",
    "\n",
    "<!-- EXPECT 19 EXPORTED QUESTIONS -->"
   ]
  },
  {
   "cell_type": "code",
   "execution_count": null,
   "metadata": {
    "deletable": false,
    "editable": false
   },
   "outputs": [
    {
     "name": "stdout",
     "output_type": "stream",
     "text": [
      "Generating PDF...\n",
      "Saved hw1.pdf\n"
     ]
    },
    {
     "data": {
      "application/javascript": [
       "IPython.notebook.save_checkpoint();"
      ],
      "text/plain": [
       "<IPython.core.display.Javascript object>"
      ]
     },
     "metadata": {},
     "output_type": "display_data"
    }
   ],
   "source": [
    "# Save your notebook first, then run this cell to submit.\n",
    "import jassign.to_pdf\n",
    "jassign.to_pdf.generate_pdf('hw1.ipynb', 'hw1.pdf')\n",
    "ok.submit()"
   ]
  },
  {
   "cell_type": "code",
   "execution_count": null,
   "metadata": {},
   "outputs": [],
   "source": []
  }
 ],
 "metadata": {
  "kernelspec": {
   "display_name": "Python 3",
   "language": "python",
   "name": "python3"
  },
  "language_info": {
   "codemirror_mode": {
    "name": "ipython",
    "version": 3
   },
   "file_extension": ".py",
   "mimetype": "text/x-python",
   "name": "python",
   "nbconvert_exporter": "python",
   "pygments_lexer": "ipython3",
   "version": "3.6.4"
  }
 },
 "nbformat": 4,
 "nbformat_minor": 2
}
