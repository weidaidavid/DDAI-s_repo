{
 "cells": [
  {
   "cell_type": "code",
   "execution_count": 1,
   "metadata": {
    "deletable": false,
    "editable": false
   },
   "outputs": [
    {
     "name": "stdout",
     "output_type": "stream",
     "text": [
      "=====================================================================\n",
      "Assignment: hw2\n",
      "OK, version v1.13.11\n",
      "=====================================================================\n",
      "\n"
     ]
    }
   ],
   "source": [
    "# Initialize OK\n",
    "from client.api.notebook import Notebook\n",
    "ok = Notebook('hw2.ok')"
   ]
  },
  {
   "cell_type": "markdown",
   "metadata": {
    "nbgrader": {
     "grade": false,
     "grade_id": "introduction",
     "locked": true,
     "schema_version": 2,
     "solution": false
    }
   },
   "source": [
    "# Homework 2: Sampling Error and Bias\n",
    "## Due Date: Monday, Feb 3rd, 11:59PM\n",
    "\n",
    "## Collaboration Policy\n",
    "\n",
    "Data science is a collaborative activity. While you may talk with others about\n",
    "the homework, we ask that you **write your solutions individually**. If you do\n",
    "discuss the assignments with others please **include their names** below."
   ]
  },
  {
   "cell_type": "markdown",
   "metadata": {},
   "source": [
    "**Collaborators**: *list  collaborators here*"
   ]
  },
  {
   "cell_type": "markdown",
   "metadata": {},
   "source": [
    "## Grading\n",
    "\n",
    "Grading is broken down into autograded answers and free response. \n",
    "\n",
    "For autograded answers, the results of your code are compared to provided and/or hidden tests. **For autograded probability questions, the provided tests will only check that your answer is within a reasonable range.**\n",
    "\n",
    "For free response, readers will evaluate how well you answered the question and/or fulfilled the requirements of the question.\n",
    "\n",
    "For plots, make sure to be as descriptive as possible: include titles, axes labels, and units wherever applicable."
   ]
  },
  {
   "cell_type": "markdown",
   "metadata": {},
   "source": [
    "### Please make sure to save regularly; do not rely on autosave to save your work for you!"
   ]
  },
  {
   "cell_type": "markdown",
   "metadata": {},
   "source": [
    "## Scoring Breakdown\n",
    "\n",
    "|Question|Points|\n",
    "|---|---|\n",
    "|1.1|1|\n",
    "|1.2|1|\n",
    "|1.3|1|\n",
    "|2.1|1|\n",
    "|2.2|1|\n",
    "|2.3|1|\n",
    "|2.4|2|\n",
    "|3.1|1|\n",
    "|3.2|1|\n",
    "|3.3|1|\n",
    "|3.4|1|\n",
    "|3.5|1|\n",
    "|3.6|2|\n",
    "|4.1|1|\n",
    "|4.2|1|\n",
    "|5|1|\n",
    "|6.1|2|\n",
    "|6.2|1|\n",
    "|6.3|1|\n",
    "|6.4|1|\n",
    "|6.5|2|\n",
    "|6.6|1|\n",
    "|7.1|1|\n",
    "|7.2|1|\n",
    "|7.3|2|\n",
    "|7.4|1|\n",
    "|8.1|1|\n",
    "|8.2|2|\n",
    "|9|2|\n"
   ]
  },
  {
   "cell_type": "markdown",
   "metadata": {},
   "source": [
    "## Introduction\n",
    "\n",
    "The outcome of the US presidential election in 2016 took many people and many pollsters by surprise. In this assignment we will carry out a simulation study / post mortem in an attempt to understand what happened."
   ]
  },
  {
   "cell_type": "code",
   "execution_count": 2,
   "metadata": {},
   "outputs": [],
   "source": [
    "import numpy as np\n",
    "import matplotlib\n",
    "import matplotlib.pyplot as plt\n",
    "import seaborn as sns\n",
    "\n",
    "plt.style.use('fivethirtyeight')\n",
    "\n",
    "# Default plot configurations\n",
    "%matplotlib inline\n",
    "plt.rcParams['figure.figsize'] = (16,8)\n",
    "plt.rcParams['figure.dpi'] = 150\n",
    "sns.set()\n",
    "\n",
    "from IPython.display import display, Latex, Markdown"
   ]
  },
  {
   "cell_type": "markdown",
   "metadata": {},
   "source": [
    "## `SciPy` and `special` ##"
   ]
  },
  {
   "cell_type": "markdown",
   "metadata": {},
   "source": [
    "Factorials and the *binomial coefficients* $\\binom{n}{k} = \\frac{n!}{k!(n-k)!}$ get large very quickly as $n$ gets large. One way to compute them is to use the `SciPy` module `special`. `SciPy` is a collection of Python-based software for math, probability, statistics, science, and engineering."
   ]
  },
  {
   "cell_type": "code",
   "execution_count": 3,
   "metadata": {},
   "outputs": [],
   "source": [
    "from scipy import special"
   ]
  },
  {
   "cell_type": "markdown",
   "metadata": {},
   "source": [
    "Below are some examples of `special.factorial`:"
   ]
  },
  {
   "cell_type": "code",
   "execution_count": 4,
   "metadata": {},
   "outputs": [
    {
     "data": {
      "text/plain": [
       "(120.0, array([  1.,   2.,   6.,  24., 120.]))"
      ]
     },
     "execution_count": 4,
     "metadata": {},
     "output_type": "execute_result"
    }
   ],
   "source": [
    "special.factorial(5), special.factorial(range(1, 6))"
   ]
  },
  {
   "cell_type": "markdown",
   "metadata": {},
   "source": [
    "Traditionally, subsets of $k$ individuals out of a population of $n$ individuals are called *combinations*, and so `special.comb(n, k)` evaluates to $\\binom{n}{k}$. \n",
    "\n",
    "Note that we will always use the term *subsets* to mean un-ordered sets. We will use *permutations* in situations where we need to keep track of the order in which the elements appear.\n",
    "\n",
    "Look at the code and output below carefully (including types) before starting Question 1."
   ]
  },
  {
   "cell_type": "code",
   "execution_count": 5,
   "metadata": {},
   "outputs": [
    {
     "data": {
      "text/plain": [
       "(10.0, 10.0)"
      ]
     },
     "execution_count": 5,
     "metadata": {},
     "output_type": "execute_result"
    }
   ],
   "source": [
    "special.comb(5, 3), special.factorial(5) / (special.factorial(3) * special.factorial(2))"
   ]
  },
  {
   "cell_type": "code",
   "execution_count": 6,
   "metadata": {},
   "outputs": [
    {
     "data": {
      "text/plain": [
       "array([ 1.,  5., 10., 10.,  5.,  1.])"
      ]
     },
     "execution_count": 6,
     "metadata": {},
     "output_type": "execute_result"
    }
   ],
   "source": [
    "special.comb(5, range(6))"
   ]
  },
  {
   "cell_type": "code",
   "execution_count": 7,
   "metadata": {},
   "outputs": [
    {
     "data": {
      "text/plain": [
       "(1.0089134454556415e+29, 100891344545564193334812497256)"
      ]
     },
     "execution_count": 7,
     "metadata": {},
     "output_type": "execute_result"
    }
   ],
   "source": [
    "special.comb(100, 50), special.comb(100, 50, exact=True)"
   ]
  },
  {
   "cell_type": "markdown",
   "metadata": {},
   "source": [
    "## Question 1 ##"
   ]
  },
  {
   "cell_type": "markdown",
   "metadata": {},
   "source": [
    "Consider a population in which a proportion $p$ of individuals are called \"successes\" (or 1, if you prefer) and the remaining proportion are rudely called \"failures\" (or 0). \n",
    "\n",
    "Let $n$ be a positive integer. If you draw a sample of size $n$ at random with replacement from the population then the chance that you get $k$ successes and $n-k$ failures in your sample is $\\binom{n}{k}p^k(1-p)^{n-k}$ for $0 \\le k \\le n$. You saw this in a numerical example in Lecture 2.\n",
    "\n",
    "To reduce writing, we will shorten \"$k$ successes and $n-k$ failures\" to \"$k$ successes\". In other words, \"$k$ successes\" means \"exactly $k$ successes\".\n",
    "\n",
    "Now recall the Swain vs. Alabama case you examined in HW1, in which a jury panel of size 100 was supposed to be picked randomly from a population in which 26% were black. Because the eligible population from which the panel was chosen was very large, it is fine to model this sampling process drawing made at random with replacement."
   ]
  },
  {
   "cell_type": "markdown",
   "metadata": {
    "deletable": false,
    "editable": false
   },
   "source": [
    "### Question 1a) ###\n",
    "Suppose you sample 100 times at random with replacement from a population in which 26% of the individuals are called \"successes\" (that's traditional terminology in probability). Write a Python expression that evaluates to the chance that the sample has 20 successes. \n",
    "\n",
    "**Computational note:** Don't import any other libraries; just use the ones already imported and plug into the formula above. It's far from the best way numerically, but it is fine for the numbers involved in this Homework. We will address issues of numerical accuracy later in the course.\n",
    "\n",
    "**Checking your answer:** In Homework 1 Question 6c, you simulated the distribution of the number of successes. You should use that to check whether your answer looks reasonable. \n",
    "\n",
    "<!--\n",
    "BEGIN QUESTION\n",
    "name: q1a\n",
    "manual: false\n",
    "points: 1\n",
    "-->"
   ]
  },
  {
   "cell_type": "code",
   "execution_count": 8,
   "metadata": {},
   "outputs": [
    {
     "data": {
      "text/plain": [
       "0.036911003560024636"
      ]
     },
     "execution_count": 8,
     "metadata": {},
     "output_type": "execute_result"
    }
   ],
   "source": [
    "prob_1a = special.comb(100,20)*0.26**20*0.74**80\n",
    "prob_1a"
   ]
  },
  {
   "cell_type": "code",
   "execution_count": 9,
   "metadata": {
    "deletable": false,
    "editable": false
   },
   "outputs": [
    {
     "name": "stdout",
     "output_type": "stream",
     "text": [
      "~~~~~~~~~~~~~~~~~~~~~~~~~~~~~~~~~~~~~~~~~~~~~~~~~~~~~~~~~~~~~~~~~~~~~\n",
      "Running tests\n",
      "\n",
      "---------------------------------------------------------------------\n",
      "Test summary\n",
      "    Passed: 1\n",
      "    Failed: 0\n",
      "[ooooooooook] 100.0% passed\n",
      "\n"
     ]
    }
   ],
   "source": [
    "ok.grade(\"q1a\");"
   ]
  },
  {
   "cell_type": "markdown",
   "metadata": {
    "deletable": false,
    "editable": false
   },
   "source": [
    "### Question 1b) ###\n",
    "Complete the cell with a Python expression that evaluates to an array whose elements are the chances of $k$ successes for $k = 0, 1, 2, \\ldots, 100$. You should check that the array looks consistent with your simulation in Homework 1 Question 6c. \n",
    "\n",
    "<!--\n",
    "BEGIN QUESTION\n",
    "name: q1b\n",
    "points: 1\n",
    "-->"
   ]
  },
  {
   "cell_type": "code",
   "execution_count": 10,
   "metadata": {},
   "outputs": [
    {
     "data": {
      "text/plain": [
       "(array([0.    , 0.    , 0.    , 0.    , 0.    , 0.    , 0.    , 0.    ,\n",
       "        0.    , 0.    , 0.    , 0.0001, 0.0003, 0.0007, 0.0016, 0.0033,\n",
       "        0.0061, 0.0106, 0.0171, 0.0259, 0.0369, 0.0494, 0.0623, 0.0743,\n",
       "        0.0837, 0.0894, 0.0906, 0.0873, 0.0799, 0.0697, 0.058 , 0.046 ,\n",
       "        0.0349, 0.0252, 0.0175, 0.0116, 0.0073, 0.0045, 0.0026, 0.0015,\n",
       "        0.0008, 0.0004, 0.0002, 0.0001, 0.    , 0.    , 0.    , 0.    ,\n",
       "        0.    , 0.    , 0.    , 0.    , 0.    , 0.    , 0.    , 0.    ,\n",
       "        0.    , 0.    , 0.    , 0.    , 0.    , 0.    , 0.    , 0.    ,\n",
       "        0.    , 0.    , 0.    , 0.    , 0.    , 0.    , 0.    , 0.    ,\n",
       "        0.    , 0.    , 0.    , 0.    , 0.    , 0.    , 0.    , 0.    ,\n",
       "        0.    , 0.    , 0.    , 0.    , 0.    , 0.    , 0.    , 0.    ,\n",
       "        0.    , 0.    , 0.    , 0.    , 0.    , 0.    , 0.    , 0.    ,\n",
       "        0.    , 0.    , 0.    , 0.    , 0.    ]),\n",
       " 0.9999999999999996)"
      ]
     },
     "execution_count": 10,
     "metadata": {},
     "output_type": "execute_result"
    }
   ],
   "source": [
    "k = np.arange(101)\n",
    "all_probs = np.array([special.comb(100,i)*0.26**i*0.74**(100-i) for i in k])\n",
    "np.round(all_probs, 4), sum(all_probs)"
   ]
  },
  {
   "cell_type": "code",
   "execution_count": 11,
   "metadata": {
    "deletable": false,
    "editable": false
   },
   "outputs": [
    {
     "name": "stdout",
     "output_type": "stream",
     "text": [
      "~~~~~~~~~~~~~~~~~~~~~~~~~~~~~~~~~~~~~~~~~~~~~~~~~~~~~~~~~~~~~~~~~~~~~\n",
      "Running tests\n",
      "\n",
      "---------------------------------------------------------------------\n",
      "Test summary\n",
      "    Passed: 1\n",
      "    Failed: 0\n",
      "[ooooooooook] 100.0% passed\n",
      "\n"
     ]
    }
   ],
   "source": [
    "ok.grade(\"q1b\");"
   ]
  },
  {
   "cell_type": "markdown",
   "metadata": {
    "deletable": false,
    "editable": false
   },
   "source": [
    "### Question 1c) ###\n",
    "\n",
    "\n",
    "Complete the cell with an expression that evaluates to the chance that the number of successes in the sample is in the interval $26 \\pm 10$ (inclusive on both sides). **Hint: You might want to apply your Python indexing knowledge here.**\n",
    "\n",
    "**Note: Please use \"prob_1c\" to complete the cell. Because we use an autograder, please make sure your answer is a proportion between 0 and 1, not a percent between 0 and 100.**\n",
    "\n",
    "<!--\n",
    "BEGIN QUESTION\n",
    "name: q1c\n",
    "manual: false\n",
    "points: 1\n",
    "-->"
   ]
  },
  {
   "cell_type": "code",
   "execution_count": 12,
   "metadata": {},
   "outputs": [
    {
     "data": {
      "text/plain": [
       "0.9838345682140125"
      ]
     },
     "execution_count": 12,
     "metadata": {},
     "output_type": "execute_result"
    }
   ],
   "source": [
    "prob_1c = np.sum(np.array([special.comb(100,i)*0.26**i*0.74**(100-i) for i in np.arange(16,37)]))\n",
    "prob_1c"
   ]
  },
  {
   "cell_type": "code",
   "execution_count": 13,
   "metadata": {
    "deletable": false,
    "editable": false
   },
   "outputs": [
    {
     "name": "stdout",
     "output_type": "stream",
     "text": [
      "~~~~~~~~~~~~~~~~~~~~~~~~~~~~~~~~~~~~~~~~~~~~~~~~~~~~~~~~~~~~~~~~~~~~~\n",
      "Running tests\n",
      "\n",
      "---------------------------------------------------------------------\n",
      "Test summary\n",
      "    Passed: 1\n",
      "    Failed: 0\n",
      "[ooooooooook] 100.0% passed\n",
      "\n"
     ]
    }
   ],
   "source": [
    "ok.grade(\"q1c\");"
   ]
  },
  {
   "cell_type": "markdown",
   "metadata": {},
   "source": [
    "## Question 2 ##"
   ]
  },
  {
   "cell_type": "markdown",
   "metadata": {
    "deletable": false,
    "editable": false
   },
   "source": [
    "### Question 2a) ###\n",
    "\n",
    "Let $n$ be a positive integer and let $s$ be an integer such that $0 \\le s \\le n$. Consider a sample of size $n$ drawn at random with replacement from a population in which a proportion $p$ of the individuals are called successes.\n",
    "\n",
    "Provide a math expression for the probability that the number of successes in the sample is at most $s$.\n",
    "\n",
    "In probability classes this probability will typically be denoted $P(S \\le s)$ where $S$ denotes the random number of successes in the sample. Formal definitions of the pieces of this notation aren't particularly helpful for our purposes. Just read it as \"the probability that the number of successes is at most $s$.\"\n",
    "\n",
    "<!--\n",
    "BEGIN QUESTION\n",
    "name: q2a\n",
    "manual: true\n",
    "points: 1\n",
    "-->\n",
    "<!-- EXPORT TO PDF -->"
   ]
  },
  {
   "cell_type": "markdown",
   "metadata": {},
   "source": [
    "**Solution**\n",
    "\n",
    "$\\sum_{k=0}^s \\binom{n}{k}p^k(1-p)^{n-k}$"
   ]
  },
  {
   "cell_type": "markdown",
   "metadata": {
    "deletable": false,
    "editable": false
   },
   "source": [
    "### Question 2b) ###\n",
    "\n",
    "Please fill in the function `prob_at_most` which takes $n$, $p$, and $s$ and returns $P(S \\le s)$ as defined in Part **a**. If the inputs are invalid: for instance, if $p > 1$ OR $s > n$ then return 0.\" \n",
    "\n",
    "It might help to refer to the calculation in Question 1b.\n",
    "\n",
    "<!--\n",
    "BEGIN QUESTION\n",
    "name: q2b\n",
    "manual: false\n",
    "points: 1\n",
    "-->"
   ]
  },
  {
   "cell_type": "code",
   "execution_count": 14,
   "metadata": {},
   "outputs": [],
   "source": [
    "def prob_at_most(n, p, s):\n",
    "    \"\"\" \n",
    "    returns the probability of S <= s\n",
    "    Input n: sample size; p : proportion; s: number of successes at most\"\"\"\n",
    "    if s>n: \n",
    "        return 0\n",
    "    else:\n",
    "        prob = np.sum(np.array([special.comb(n,i)*p**i*(1-p)**(n-i) for i in np.arange(s+1)]))\n",
    "        return prob"
   ]
  },
  {
   "cell_type": "code",
   "execution_count": 15,
   "metadata": {
    "deletable": false,
    "editable": false
   },
   "outputs": [
    {
     "name": "stdout",
     "output_type": "stream",
     "text": [
      "~~~~~~~~~~~~~~~~~~~~~~~~~~~~~~~~~~~~~~~~~~~~~~~~~~~~~~~~~~~~~~~~~~~~~\n",
      "Running tests\n",
      "\n",
      "---------------------------------------------------------------------\n",
      "Test summary\n",
      "    Passed: 3\n",
      "    Failed: 0\n",
      "[ooooooooook] 100.0% passed\n",
      "\n"
     ]
    }
   ],
   "source": [
    "ok.grade(\"q2b\");"
   ]
  },
  {
   "cell_type": "markdown",
   "metadata": {
    "deletable": false,
    "editable": false
   },
   "source": [
    "### Question 2c) ###\n",
    "In an election, supporters of Candidate C are in a minority. Only 45% of the voters in the population favor the candidate.\n",
    "\n",
    "Suppose a survey organization takes a sample of 200 voters at random with replacement from this population. Use `prob_at_most` to write an expression that evaluates to the chance that a majority (more than half) of the sampled voters favor Candidate C.\n",
    "\n",
    "<!--\n",
    "BEGIN QUESTION\n",
    "name: q2c\n",
    "manual: false\n",
    "points: 1\n",
    "-->"
   ]
  },
  {
   "cell_type": "code",
   "execution_count": 16,
   "metadata": {},
   "outputs": [
    {
     "data": {
      "text/plain": [
       "0.06807524986263858"
      ]
     },
     "execution_count": 16,
     "metadata": {},
     "output_type": "execute_result"
    }
   ],
   "source": [
    "p_majority = 1-prob_at_most(200,0.45,100)\n",
    "p_majority"
   ]
  },
  {
   "cell_type": "code",
   "execution_count": 17,
   "metadata": {
    "deletable": false,
    "editable": false
   },
   "outputs": [
    {
     "name": "stdout",
     "output_type": "stream",
     "text": [
      "~~~~~~~~~~~~~~~~~~~~~~~~~~~~~~~~~~~~~~~~~~~~~~~~~~~~~~~~~~~~~~~~~~~~~\n",
      "Running tests\n",
      "\n",
      "---------------------------------------------------------------------\n",
      "Test summary\n",
      "    Passed: 1\n",
      "    Failed: 0\n",
      "[ooooooooook] 100.0% passed\n",
      "\n"
     ]
    }
   ],
   "source": [
    "ok.grade(\"q2c\");"
   ]
  },
  {
   "cell_type": "markdown",
   "metadata": {
    "deletable": false,
    "editable": false
   },
   "source": [
    "### Question 2d) ###\n",
    "Suppose each of five survey organizations takes a sample of voters at random with replacement from the population of voters in Part **c**, independently of the samples drawn by the other organizations. \n",
    "\n",
    "- Three of the organizations use a sample size of 200\n",
    "- One organization uses a sample size of 300\n",
    "- One organization uses a sample size of 400\n",
    "\n",
    "Write an expression that evaluates to the chance that in at least one of the five samples the majority of voters favor Candidate C. You can use any quantity or function defined earlier in this exercise.\n",
    "\n",
    "<!--\n",
    "BEGIN QUESTION\n",
    "name: q2d\n",
    "manual: false\n",
    "points: 2\n",
    "-->"
   ]
  },
  {
   "cell_type": "code",
   "execution_count": 18,
   "metadata": {},
   "outputs": [
    {
     "data": {
      "text/plain": [
       "0.2355036156844239"
      ]
     },
     "execution_count": 18,
     "metadata": {},
     "output_type": "execute_result"
    }
   ],
   "source": [
    "prob_2d = 1- (prob_at_most(200,0.45,100)**3)* (prob_at_most(300,0.45,150))* (prob_at_most(400,0.45,200))\n",
    "prob_2d"
   ]
  },
  {
   "cell_type": "code",
   "execution_count": 19,
   "metadata": {
    "deletable": false,
    "editable": false
   },
   "outputs": [
    {
     "name": "stdout",
     "output_type": "stream",
     "text": [
      "~~~~~~~~~~~~~~~~~~~~~~~~~~~~~~~~~~~~~~~~~~~~~~~~~~~~~~~~~~~~~~~~~~~~~\n",
      "Running tests\n",
      "\n",
      "---------------------------------------------------------------------\n",
      "Test summary\n",
      "    Passed: 1\n",
      "    Failed: 0\n",
      "[ooooooooook] 100.0% passed\n",
      "\n"
     ]
    }
   ],
   "source": [
    "ok.grade(\"q2d\");"
   ]
  },
  {
   "cell_type": "markdown",
   "metadata": {},
   "source": [
    "## Question 3 ##"
   ]
  },
  {
   "cell_type": "markdown",
   "metadata": {},
   "source": [
    "In Pennsylvania, 6,165,478 people voted in the 2016 Presidential election.\n",
    "Trump received 48.18% of the vote and Clinton recieved 47.46%.\n",
    "This doesn't add up to 100% because other candidates received votes.\n",
    "All together these other candidates received 100% - 48.18% - 47.46% = 4.36% of the vote.\n",
    "\n",
    "The table below displays the counts and proportions.\n",
    "\n",
    "\n",
    "|   Voted for   |  Trump|    Clinton|    Other|\n",
    "|-----------|-----------|-----------|---------|\n",
    "| Probability      |   0.4818   | 0.4746  |   0.0436 |\n",
    "| Number of people | 2,970,733  | 2,926,441 | 268,304 |"
   ]
  },
  {
   "cell_type": "markdown",
   "metadata": {
    "deletable": false,
    "editable": false
   },
   "source": [
    "### Question 3a) ###\n",
    "Suppose we pick a simple random sample of 20 of the 6,165,478 Pennsylvania (PA) voters. \n",
    "\n",
    "In the sample, let $N_T$ be the number of Trump voters, $N_C$ the number of Clinton voters, and $N_O$ the number of \"other\" voters. Then $N_T$, $N_C$, and $N_O$ are random: they depend on how the sample comes out. In Data 8 we called such quantities \"statistics\".\n",
    "\n",
    "Pick the correct option: $N_T + N_C + N_O$ is equal to\n",
    "\n",
    "(a) 3\n",
    "\n",
    "(b) 20\n",
    "\n",
    "(c) 6,165,478\n",
    "\n",
    "(d) a random quantity\n",
    "\n",
    "*Note*: if your answer is (d), put  **ans_3a = 'd'**  for the purpose of grading. Passing the test **does NOT** mean you answer is correct. The test only checks if your answer is in the correct format.\n",
    "\n",
    "<!--\n",
    "BEGIN QUESTION\n",
    "name: q3a\n",
    "manual: false\n",
    "points: 1\n",
    "-->"
   ]
  },
  {
   "cell_type": "code",
   "execution_count": 20,
   "metadata": {},
   "outputs": [],
   "source": [
    "ans_3a = 'b'"
   ]
  },
  {
   "cell_type": "code",
   "execution_count": 21,
   "metadata": {
    "deletable": false,
    "editable": false
   },
   "outputs": [
    {
     "name": "stdout",
     "output_type": "stream",
     "text": [
      "~~~~~~~~~~~~~~~~~~~~~~~~~~~~~~~~~~~~~~~~~~~~~~~~~~~~~~~~~~~~~~~~~~~~~\n",
      "Running tests\n",
      "\n",
      "---------------------------------------------------------------------\n",
      "Test summary\n",
      "    Passed: 1\n",
      "    Failed: 0\n",
      "[ooooooooook] 100.0% passed\n",
      "\n"
     ]
    }
   ],
   "source": [
    "ok.grade(\"q3a\");"
   ]
  },
  {
   "cell_type": "markdown",
   "metadata": {
    "deletable": false,
    "editable": false
   },
   "source": [
    "### Question 3b) ###\n",
    "Pick the correct option.\n",
    "\n",
    "A simple random sample of 20 PA voters is like a sample drawn at random with replacement, because\n",
    "\n",
    "(a) that's the definition of \"simple random sample\"\n",
    "\n",
    "(b) there are only 3 categories of voters, which is small in comparison to 20\n",
    "\n",
    "(c) there are only 20 people in the sample, which is small in comparison to the total number of PA voters\n",
    "\n",
    "(d) all PA voters are equally likely to be selected\n",
    "\n",
    "*Note*: if your answer is (d), put **ans_3a = 'd'**  for the purpose of grading. Passing the test **does NOT** mean you answer is correct. The test only checks if your answer is in the correct format.\n",
    "\n",
    "<!--\n",
    "BEGIN QUESTION\n",
    "name: q3b\n",
    "manual: false\n",
    "points: 1\n",
    "-->"
   ]
  },
  {
   "cell_type": "code",
   "execution_count": 22,
   "metadata": {},
   "outputs": [],
   "source": [
    "ans_3b = 'c'"
   ]
  },
  {
   "cell_type": "code",
   "execution_count": 23,
   "metadata": {
    "deletable": false,
    "editable": false
   },
   "outputs": [
    {
     "name": "stdout",
     "output_type": "stream",
     "text": [
      "~~~~~~~~~~~~~~~~~~~~~~~~~~~~~~~~~~~~~~~~~~~~~~~~~~~~~~~~~~~~~~~~~~~~~\n",
      "Running tests\n",
      "\n",
      "---------------------------------------------------------------------\n",
      "Test summary\n",
      "    Passed: 1\n",
      "    Failed: 0\n",
      "[ooooooooook] 100.0% passed\n",
      "\n"
     ]
    }
   ],
   "source": [
    "ok.grade(\"q3b\");"
   ]
  },
  {
   "cell_type": "markdown",
   "metadata": {
    "deletable": false,
    "editable": false
   },
   "source": [
    "### Question 3c) ###\n",
    "\n",
    "Let $t$, $c$, and $o$ be any three non-negative integers. For the sample defined in Part **a**, the probability that the sample contains $t$ Trump voters, $c$ Clinton voters and $o$ \"other\" voters is denoted by $P(N_T = t, N_C = c, N_O = o)$.\n",
    "\n",
    "Define a function `prob_sample_counts` that takes any three non-negative integers $t$, $c$, and $o$, and returns $P(N_T = t, N_C = c, N_O = o)$. The probability is 0 for some choices of the arguments, and your function should return 0 in those cases.\n",
    "\n",
    "Remember that Part **b** implies you can use results for sampling with replacement.\n",
    "\n",
    "What should `prob_sample_counts(31, 8, 1)` evaluate to? Check that your function returns the right value (No extra code/cells required).\n",
    "\n",
    "<!--\n",
    "BEGIN QUESTION\n",
    "name: q3c\n",
    "manual: false\n",
    "points: 1\n",
    "-->"
   ]
  },
  {
   "cell_type": "code",
   "execution_count": 24,
   "metadata": {},
   "outputs": [
    {
     "data": {
      "text/plain": [
       "0.055092374118670545"
      ]
     },
     "execution_count": 24,
     "metadata": {},
     "output_type": "execute_result"
    }
   ],
   "source": [
    "def prob_sample_counts(t, c, o):\n",
    "    \"\"\"\n",
    "    Input:\n",
    "    t - number of votes for Trump\n",
    "    c - number of votes for Clinton\n",
    "    o - number of votes for Other\n",
    "    Return: The probability of getting a such sample\n",
    "    \"\"\"\n",
    "    Trump_prob = 0.4818 ** t\n",
    "    Clinton_prob = 0.4746 ** c \n",
    "    Other_prob = 0.0436 ** o\n",
    "    if t+c+o == 20:\n",
    "        return special.factorial(20)/(special.factorial(t)*special.factorial(c)*special.factorial(o)) * Trump_prob * Clinton_prob * Other_prob\n",
    "        \n",
    "    else:\n",
    "        return 0\n",
    "prob_sample_counts(11,8,1)"
   ]
  },
  {
   "cell_type": "code",
   "execution_count": 25,
   "metadata": {
    "deletable": false,
    "editable": false
   },
   "outputs": [
    {
     "name": "stdout",
     "output_type": "stream",
     "text": [
      "~~~~~~~~~~~~~~~~~~~~~~~~~~~~~~~~~~~~~~~~~~~~~~~~~~~~~~~~~~~~~~~~~~~~~\n",
      "Running tests\n",
      "\n",
      "---------------------------------------------------------------------\n",
      "Test summary\n",
      "    Passed: 5\n",
      "    Failed: 0\n",
      "[ooooooooook] 100.0% passed\n",
      "\n"
     ]
    }
   ],
   "source": [
    "ok.grade(\"q3c\");"
   ]
  },
  {
   "cell_type": "markdown",
   "metadata": {
    "deletable": false,
    "editable": false
   },
   "source": [
    "### Question 3d) ###\n",
    "\n",
    "Check that your function determines a probability distribution, by summing all the positive terms. You know what the answer should be. **Hint: You might need to iterate through certain values of c and t to compute the sum of all positive probabilities.**\n",
    "\n",
    "<!--\n",
    "BEGIN QUESTION\n",
    "name: q3d\n",
    "manual: false\n",
    "points: 1\n",
    "-->"
   ]
  },
  {
   "cell_type": "code",
   "execution_count": 26,
   "metadata": {},
   "outputs": [
    {
     "data": {
      "text/plain": [
       "1.0000000000000007"
      ]
     },
     "execution_count": 26,
     "metadata": {},
     "output_type": "execute_result"
    }
   ],
   "source": [
    "lst = []\n",
    "for t in np.arange(21):\n",
    "    for c in np.arange(21-t):\n",
    "        for o in np.arange(21-t-c):\n",
    "            lst.append(prob_sample_counts(t,c,o))\n",
    "        \n",
    "        \n",
    "        \n",
    "prob_3d = sum(lst)          \n",
    "prob_3d"
   ]
  },
  {
   "cell_type": "code",
   "execution_count": 27,
   "metadata": {
    "deletable": false,
    "editable": false
   },
   "outputs": [
    {
     "name": "stdout",
     "output_type": "stream",
     "text": [
      "~~~~~~~~~~~~~~~~~~~~~~~~~~~~~~~~~~~~~~~~~~~~~~~~~~~~~~~~~~~~~~~~~~~~~\n",
      "Running tests\n",
      "\n",
      "---------------------------------------------------------------------\n",
      "Test summary\n",
      "    Passed: 1\n",
      "    Failed: 0\n",
      "[ooooooooook] 100.0% passed\n",
      "\n"
     ]
    }
   ],
   "source": [
    "ok.grade(\"q3d\");"
   ]
  },
  {
   "cell_type": "markdown",
   "metadata": {
    "deletable": false,
    "editable": false
   },
   "source": [
    "### Question 3e) ###\n",
    "Use `prob_sample_counts` to find the chance that the sample consists of 11 Trump voters, 8 Clinton voters, and 1 \"other\" voter.\n",
    "\n",
    "<!--\n",
    "BEGIN QUESTION\n",
    "name: q3e\n",
    "manual: false\n",
    "points: 1\n",
    "-->"
   ]
  },
  {
   "cell_type": "code",
   "execution_count": 28,
   "metadata": {},
   "outputs": [
    {
     "data": {
      "text/plain": [
       "0.055092374118670545"
      ]
     },
     "execution_count": 28,
     "metadata": {},
     "output_type": "execute_result"
    }
   ],
   "source": [
    "prob_3e = prob_sample_counts(11,8,1)\n",
    "prob_3e"
   ]
  },
  {
   "cell_type": "code",
   "execution_count": 29,
   "metadata": {
    "deletable": false,
    "editable": false
   },
   "outputs": [
    {
     "name": "stdout",
     "output_type": "stream",
     "text": [
      "~~~~~~~~~~~~~~~~~~~~~~~~~~~~~~~~~~~~~~~~~~~~~~~~~~~~~~~~~~~~~~~~~~~~~\n",
      "Running tests\n",
      "\n",
      "---------------------------------------------------------------------\n",
      "Test summary\n",
      "    Passed: 1\n",
      "    Failed: 0\n",
      "[ooooooooook] 100.0% passed\n",
      "\n"
     ]
    }
   ],
   "source": [
    "ok.grade(\"q3e\");"
   ]
  },
  {
   "cell_type": "markdown",
   "metadata": {
    "deletable": false,
    "editable": false
   },
   "source": [
    "### Question 3f) ###\n",
    "Write an expression that evaluates the chance that the sample contains at least 7 Trump voters, at least 7 Clinton voters, and at least 1 \"other\" voter. **Hint: You might find 3d useful.**\n",
    "\n",
    "<!--\n",
    "BEGIN QUESTION\n",
    "name: q3f\n",
    "manual: false\n",
    "points: 2\n",
    "-->"
   ]
  },
  {
   "cell_type": "code",
   "execution_count": 30,
   "metadata": {},
   "outputs": [
    {
     "data": {
      "text/plain": [
       "0.46938707665092416"
      ]
     },
     "execution_count": 30,
     "metadata": {},
     "output_type": "execute_result"
    }
   ],
   "source": [
    "lst_1 = []\n",
    "for t in np.arange(7,21):\n",
    "    for c in np.arange(7,21-t):\n",
    "        for o in np.arange(1,21-t-c):\n",
    "            lst_1.append(prob_sample_counts(t,c,o))\n",
    "        \n",
    "prob_3f = sum(lst_1)\n",
    "prob_3f"
   ]
  },
  {
   "cell_type": "code",
   "execution_count": 31,
   "metadata": {
    "deletable": false,
    "editable": false
   },
   "outputs": [
    {
     "name": "stdout",
     "output_type": "stream",
     "text": [
      "~~~~~~~~~~~~~~~~~~~~~~~~~~~~~~~~~~~~~~~~~~~~~~~~~~~~~~~~~~~~~~~~~~~~~\n",
      "Running tests\n",
      "\n",
      "---------------------------------------------------------------------\n",
      "Test summary\n",
      "    Passed: 1\n",
      "    Failed: 0\n",
      "[ooooooooook] 100.0% passed\n",
      "\n"
     ]
    }
   ],
   "source": [
    "ok.grade(\"q3f\");"
   ]
  },
  {
   "cell_type": "markdown",
   "metadata": {
    "nbgrader": {
     "grade": false,
     "grade_id": "codebook",
     "locked": true,
     "schema_version": 2,
     "solution": false
    }
   },
   "source": [
    "## Election Polling\n",
    "\n",
    "Political polling is a type of public opinion polling that can at best represent a snapshot of public opinion at the particular moment in time. Voter opinion shifts from week to week, even day to day, as candidates battle it out on the campaign field.\n",
    "\n",
    "Polls usually start with a \"horse-race\" question, where respondents are asked whom they would vote for in a head-to-head race if the election were tomorrow: Candidate A or Candidate B. The survey begins with this question so that the respondent is not influenced by any of the other questions asked in the survey. Some of these other questions are asked to help assess how likely is it that the respondent will vote. Other questions are asked about age, education, and sex in order to adjust the findings if one group appears overly represented in the sample.\n",
    "\n",
    "Pollsters typically use [random digit dialing](https://en.wikipedia.org/wiki/Random_digit_dialing) to contact people."
   ]
  },
  {
   "cell_type": "markdown",
   "metadata": {},
   "source": [
    "### Question 4"
   ]
  },
  {
   "cell_type": "markdown",
   "metadata": {
    "deletable": false,
    "editable": false
   },
   "source": [
    "#### Part 1 ####\n",
    "\n",
    "If we're trying to predict the results of the Clinton vs. Trump presidential race, what is the population of interest? \n",
    "\n",
    "<!--\n",
    "BEGIN QUESTION\n",
    "name: q4a\n",
    "manual: true\n",
    "points: 1\n",
    "-->\n",
    "<!-- EXPORT TO PDF -->"
   ]
  },
  {
   "cell_type": "markdown",
   "metadata": {},
   "source": [
    "Population of all eligible voters."
   ]
  },
  {
   "cell_type": "markdown",
   "metadata": {
    "deletable": false,
    "editable": false,
    "nbgrader": {
     "grade": false,
     "grade_id": "cell-5a5f851db609367a",
     "locked": true,
     "schema_version": 2,
     "solution": false
    }
   },
   "source": [
    "#### Part 2 ####\n",
    "\n",
    "What is the sampling frame?\n",
    "\n",
    "<!--\n",
    "BEGIN QUESTION\n",
    "name: q4b\n",
    "manual: true\n",
    "points: 1\n",
    "-->\n",
    "<!-- EXPORT TO PDF -->"
   ]
  },
  {
   "cell_type": "markdown",
   "metadata": {},
   "source": [
    "the people contactable for the survey. "
   ]
  },
  {
   "cell_type": "markdown",
   "metadata": {
    "nbgrader": {
     "grade": false,
     "grade_id": "examine-contents",
     "locked": true,
     "schema_version": 2,
     "solution": false
    }
   },
   "source": [
    "### How might the sampling frame differ from the population?\n",
    "\n",
    "After the fact, many experts have studied the 2016 election results. For example, according to the American Association for Public Opinion Research (AAPOR), predictions made before the election were flawed for three key reasons:\n",
    "\n",
    "1. voters changed their preferences a few days before the election\n",
    "2. those sampled were not representative of the voting population, e.g., some said that there was an overrepresentation of college graduates in some poll samples \n",
    "3. voters kept their support for Trump to themselves (hidden from the pollsters)\n",
    "\n",
    "In the next two problems on this homework, we will do two things:\n",
    "\n",
    "+ HW Question 6: We will carry out a study of the sampling error when there is no bias. In other words, we will try to compute the chance that we get the election result wrong even if we collect our sample in a manner that is completely correct. In this case, any failure of our prediction is due entirely to random chance.\n",
    "+ HW Question 7: We will carry out a study of the sampling error when there is bias of the second type from the list above. In other words, we will try to compute the chance that we get the election result wrong if we have a small systematic bias. In this case, any failure of our prediction is due to a combination of random chance and our bias.\n"
   ]
  },
  {
   "cell_type": "markdown",
   "metadata": {
    "deletable": false,
    "editable": false
   },
   "source": [
    "### Question 5\n",
    "\n",
    "Why can't we assess the impact of the other two biases (voters changing preference and voters hiding their preference)? \n",
    "\n",
    "Note: You might find it easier to complete this question after you've completed the rest of the homework including the simulation study.\n",
    "\n",
    "<!--\n",
    "BEGIN QUESTION\n",
    "name: q5\n",
    "manual: true\n",
    "points: 1\n",
    "-->\n",
    "<!-- EXPORT TO PDF -->"
   ]
  },
  {
   "cell_type": "markdown",
   "metadata": {},
   "source": [
    "This is kind of similar to non-response bias in nature. Ultimately people are free to choose to either respond or not respond, similarly people are free to perceive the question with the social pressure they want to associate with it, in this case there was a large stigma for those who wanted to vote for Trump purely out of economic incentives because of the unlikability of Trump as a candidate at the time. This is nearly impossible to model."
   ]
  },
  {
   "cell_type": "markdown",
   "metadata": {
    "nbgrader": {
     "grade": false,
     "grade_id": "examine-size",
     "locked": true,
     "schema_version": 2,
     "solution": false
    }
   },
   "source": [
    "### How large was the sampling error?\n",
    "\n",
    "In some states the race was very close, and it may have been simply sampling error, i.e., random chance that the majority of the voters chosen for the sample voted for Clinton. \n",
    "\n",
    "One year after the 2016 election, Nate Silver wrote  in\n",
    "*The Media Has A Probability Problem* that\n",
    "the \"media’s demand for certainty -- and its lack of statistical rigor -- is a bad match for our complex world.\"\n",
    "FiveThirtyEight forecasted that Clinton had about a 70 percent chance of winning.  \n",
    "\n",
    "\n",
    "A 2- or 3-point polling error in Trump’s favor (typical error historically)  would likely be enough to tip the Electoral College to him. \n",
    "\n",
    "We will first carry out a simulation study to assess the impact of the sampling error on the predictions.\n"
   ]
  },
  {
   "cell_type": "markdown",
   "metadata": {
    "nbgrader": {
     "grade": false,
     "grade_id": "load-data",
     "locked": true,
     "schema_version": 2,
     "solution": false
    }
   },
   "source": [
    "## The Electoral College\n",
    "\n",
    "The US president is chosen by the Electoral College, not by the\n",
    "popular vote. Each state is alotted a certain number of \n",
    "electoral college votes, as a function of their population.\n",
    "Whomever wins in the state gets all of the electoral college votes for that state.\n",
    "\n",
    "There are 538 electoral college votes (hence the name of the Nate Silver's site, FiveThirtyEight).\n",
    "\n",
    "Pollsters correctly predicted the election outcome in 46 of the 50 states. \n",
    "For these 46 states Trump received 231 and Clinton received 232 electoral college votes.\n",
    "\n",
    "The remaining 4 states accounted for a total of 75 votes, and \n",
    "whichever candidate received the majority of the electoral college votes in these states would win the election. \n",
    "\n",
    "These states were Florida, Michigan, Pennsylvania, and Wisconsin.\n",
    "\n",
    "|State |Electoral College Votes|\n",
    "| --- | --- |\n",
    "|Florida | 29 |\n",
    "|Michigan | 16 |\n",
    "|Pennsylvania | 20 |\n",
    "|Wisconsin | 10|\n",
    "\n",
    "For Donald Trump to win the election, he had to win either:\n",
    "* Florida + one (or more) other states\n",
    "* Michigan, Pennsylvania, and Wisconsin\n",
    "\n",
    "\n",
    "The electoral margins were very narrow in these four states, as seen below:\n",
    "\n",
    "\n",
    "|State | Trump |   Clinton | Total Voters |\n",
    "| --- | --- |  --- |  --- |\n",
    "|Florida | 49.02 | 47.82 | 9,419,886  | \n",
    "|Michigan | 47.50 | 47.27  |  4,799,284|\n",
    "|Pennsylvania | 48.18 | 47.46 |  6,165,478|\n",
    "|Wisconsin | 47.22 | 46.45  |  2,976,150|\n",
    "\n",
    "Those narrow electoral margins can make it hard to predict the outcome given the sample sizes that the polls used. "
   ]
  },
  {
   "cell_type": "markdown",
   "metadata": {
    "nbgrader": {
     "grade": false,
     "grade_id": "q1",
     "locked": true,
     "schema_version": 2,
     "solution": false
    }
   },
   "source": [
    "---\n",
    "## Simulation Study of the Sampling Error\n",
    "\n",
    "Now that we know how people actually voted, we can carry\n",
    "out a simulation study that imitates the polling.\n",
    "\n",
    "Our ultimate goal in this problem is to understand the chance that we will incorrectly call the election for Hillary Clinton even if our sample was collected with absolutely no bias."
   ]
  },
  {
   "cell_type": "markdown",
   "metadata": {
    "deletable": false,
    "editable": false,
    "nbgrader": {
     "grade": false,
     "grade_id": "q1a",
     "locked": true,
     "schema_version": 2,
     "solution": false
    }
   },
   "source": [
    "### Question 6\n",
    "\n",
    "#### Part 1 \n",
    "\n",
    "For your convenience, the results of the vote in the four pivotal states is repeated below:\n",
    "\n",
    "|State | Trump |   Clinton | Total Voters |\n",
    "| --- | --- |  --- |  --- |\n",
    "|Florida | 49.02 | 47.82 | 9,419,886  | \n",
    "|Michigan | 47.50 | 47.27  |  4,799,284|\n",
    "|Pennsylvania | 48.18 | 47.46 |  6,165,478|\n",
    "|Wisconsin | 47.22 | 46.45  |  2,976,150|\n",
    "\n",
    "\n",
    "Using the table above, write a function `draw_state_sample(N, state)` that returns a sample with replacement of N voters from the given state. Your result should be returned as a list, where the first element is the number of Trump votes, the second element is the number of Clinton votes, and the third is the number of Other votes. For example, `draw_state_sample(1500, \"florida\")` could return `[727, 692, 81]`. You may assume that the state name is given in all lower case.\n",
    "\n",
    "You might find `np.random.multinomial` useful.\n",
    "\n",
    "<!--\n",
    "BEGIN QUESTION\n",
    "name: q6a\n",
    "points: 2\n",
    "-->"
   ]
  },
  {
   "cell_type": "code",
   "execution_count": 32,
   "metadata": {},
   "outputs": [],
   "source": [
    "def draw_state_sample(N, state):\n",
    "    if state == \"florida\" :  \n",
    "        return np.random.multinomial(N,[0.4903,0.4782,1-0.4903-0.4782])\n",
    "    elif state == \"michigan\":\n",
    "        return np.random.multinomial(N,[0.4750,0.4727,1-0.4750-0.4727])\n",
    "    elif state == \"pennsylvania\":\n",
    "        return np.random.multinomial(N,[0.4818,0.4746,1-0.4818-0.4746])\n",
    "    else:\n",
    "        return np.random.multinomial(N,[0.4722,0.4645,1-0.4722-0.4645])\n"
   ]
  },
  {
   "cell_type": "code",
   "execution_count": 33,
   "metadata": {
    "deletable": false,
    "editable": false
   },
   "outputs": [
    {
     "name": "stdout",
     "output_type": "stream",
     "text": [
      "~~~~~~~~~~~~~~~~~~~~~~~~~~~~~~~~~~~~~~~~~~~~~~~~~~~~~~~~~~~~~~~~~~~~~\n",
      "Running tests\n",
      "\n",
      "---------------------------------------------------------------------\n",
      "Test summary\n",
      "    Passed: 3\n",
      "    Failed: 0\n",
      "[ooooooooook] 100.0% passed\n",
      "\n"
     ]
    }
   ],
   "source": [
    "ok.grade(\"q6a\");"
   ]
  },
  {
   "cell_type": "markdown",
   "metadata": {
    "deletable": false,
    "editable": false
   },
   "source": [
    "#### Part 2\n",
    "\n",
    "Now, create a function `trump_advantage` that takes in a sample of votes (like the one returned by `draw_state_sample`) and returns the difference in the proportion of votes between Trump and Clinton. For example `trump_advantage([100, 60, 40])` would return `0.2`, since Trump had 50% of the votes in this sample and Clinton had 30%.\n",
    "\n",
    "<!--\n",
    "BEGIN QUESTION\n",
    "name: q6b\n",
    "points: 1\n",
    "-->"
   ]
  },
  {
   "cell_type": "code",
   "execution_count": 34,
   "metadata": {},
   "outputs": [
    {
     "data": {
      "text/plain": [
       "0.2"
      ]
     },
     "execution_count": 34,
     "metadata": {},
     "output_type": "execute_result"
    }
   ],
   "source": [
    "def trump_advantage(voter_sample):\n",
    "    tots = sum(np.array(voter_sample))\n",
    "    return voter_sample[0]/tots - voter_sample[1]/tots\n",
    "trump_advantage([100,60,40])"
   ]
  },
  {
   "cell_type": "code",
   "execution_count": 35,
   "metadata": {
    "deletable": false,
    "editable": false
   },
   "outputs": [
    {
     "name": "stdout",
     "output_type": "stream",
     "text": [
      "~~~~~~~~~~~~~~~~~~~~~~~~~~~~~~~~~~~~~~~~~~~~~~~~~~~~~~~~~~~~~~~~~~~~~\n",
      "Running tests\n",
      "\n",
      "---------------------------------------------------------------------\n",
      "Test summary\n",
      "    Passed: 3\n",
      "    Failed: 0\n",
      "[ooooooooook] 100.0% passed\n",
      "\n"
     ]
    }
   ],
   "source": [
    "ok.grade(\"q6b\");"
   ]
  },
  {
   "cell_type": "markdown",
   "metadata": {
    "deletable": false,
    "editable": false
   },
   "source": [
    "#### Part 3\n",
    "\n",
    "Simulate Trump's advantage across 100,000 simple random samples of 1500 voters for the state of Pennsylvania and store the results of each simulation in a list called `simulations`. \n",
    "\n",
    "That is, `simulations[i]` should be Trump's percentage advantage for the `i`th simple random sample.\n",
    "\n",
    "<!--\n",
    "BEGIN QUESTION\n",
    "name: q6c\n",
    "points: 1\n",
    "-->"
   ]
  },
  {
   "cell_type": "code",
   "execution_count": 36,
   "metadata": {},
   "outputs": [
    {
     "data": {
      "text/plain": [
       "[0.025999999999999968,\n",
       " 0.0026666666666666505,\n",
       " 0.066,\n",
       " 0.0040000000000000036,\n",
       " -0.010666666666666658,\n",
       " -0.006000000000000005,\n",
       " -0.0040000000000000036,\n",
       " -0.02533333333333332,\n",
       " -0.020000000000000018,\n",
       " -0.019333333333333313,\n",
       " -0.007333333333333303,\n",
       " -0.018666666666666665,\n",
       " -0.017333333333333367,\n",
       " 0.019333333333333313,\n",
       " 0.01200000000000001,\n",
       " 0.028666666666666674,\n",
       " -0.04133333333333333,\n",
       " -0.014666666666666717,\n",
       " 0.033333333333333326,\n",
       " 0.033999999999999975,\n",
       " 0.007333333333333358,\n",
       " 0.03866666666666663,\n",
       " 0.03266666666666662,\n",
       " 0.020666666666666667,\n",
       " 0.014666666666666661,\n",
       " 0.018666666666666665,\n",
       " -0.008000000000000007,\n",
       " -0.0040000000000000036,\n",
       " 0.01799999999999996,\n",
       " 0.03199999999999997,\n",
       " -0.010000000000000009,\n",
       " -0.0013333333333332975,\n",
       " -0.0020000000000000018,\n",
       " 0.0,\n",
       " 0.014666666666666661,\n",
       " 0.020000000000000018,\n",
       " -0.004666666666666652,\n",
       " 0.014666666666666717,\n",
       " 0.018000000000000016,\n",
       " 0.02533333333333332,\n",
       " -0.010000000000000009,\n",
       " 0.01799999999999996,\n",
       " 0.0,\n",
       " -0.006666666666666654,\n",
       " 0.014666666666666717,\n",
       " 0.018666666666666665,\n",
       " -0.011333333333333362,\n",
       " 0.03799999999999998,\n",
       " 0.0026666666666666505,\n",
       " 0.010000000000000009,\n",
       " 0.033999999999999975,\n",
       " 0.004666666666666652,\n",
       " 0.010666666666666658,\n",
       " -0.03266666666666662,\n",
       " 0.007333333333333358,\n",
       " -0.007333333333333358,\n",
       " 0.004666666666666652,\n",
       " 0.021999999999999964,\n",
       " 0.023333333333333317,\n",
       " -0.021333333333333315,\n",
       " 0.02733333333333332,\n",
       " 0.0,\n",
       " 0.016000000000000014,\n",
       " 0.029333333333333322,\n",
       " 0.0,\n",
       " 0.006000000000000005,\n",
       " -0.008000000000000007,\n",
       " -0.016000000000000014,\n",
       " -0.018666666666666665,\n",
       " 0.029333333333333322,\n",
       " 0.009333333333333305,\n",
       " -0.0033333333333332993,\n",
       " 0.004666666666666652,\n",
       " 0.03466666666666668,\n",
       " 0.031333333333333324,\n",
       " -0.020000000000000018,\n",
       " -0.017333333333333367,\n",
       " 0.03466666666666662,\n",
       " -0.017333333333333367,\n",
       " 0.016000000000000014,\n",
       " 0.02733333333333332,\n",
       " -0.011333333333333306,\n",
       " -0.020666666666666667,\n",
       " -0.007333333333333358,\n",
       " 0.018000000000000016,\n",
       " 0.02466666666666667,\n",
       " 0.025999999999999968,\n",
       " 0.023333333333333317,\n",
       " 0.01266666666666666,\n",
       " 0.018666666666666665,\n",
       " 0.010666666666666658,\n",
       " 0.022666666666666613,\n",
       " 0.02999999999999997,\n",
       " 0.02400000000000002,\n",
       " 0.05066666666666669,\n",
       " 0.04133333333333333,\n",
       " -0.009333333333333305,\n",
       " 0.006666666666666654,\n",
       " 0.014000000000000012,\n",
       " -0.003333333333333355,\n",
       " -0.02466666666666667,\n",
       " 0.051333333333333286,\n",
       " 0.043999999999999984,\n",
       " -0.001333333333333353,\n",
       " -0.020000000000000018,\n",
       " 0.001333333333333353,\n",
       " -0.014000000000000012,\n",
       " 0.057999999999999996,\n",
       " 0.031333333333333324,\n",
       " 0.019333333333333313,\n",
       " 0.008666666666666656,\n",
       " -0.014000000000000012,\n",
       " 0.02533333333333332,\n",
       " 0.04466666666666669,\n",
       " 0.008666666666666656,\n",
       " -0.00666666666666671,\n",
       " 0.033333333333333326,\n",
       " 0.013333333333333364,\n",
       " -0.01200000000000001,\n",
       " -0.028666666666666618,\n",
       " 0.01200000000000001,\n",
       " -0.020000000000000018,\n",
       " -0.03200000000000003,\n",
       " 0.011333333333333362,\n",
       " -0.016000000000000014,\n",
       " 0.0,\n",
       " 0.023333333333333317,\n",
       " 0.03266666666666662,\n",
       " 0.0006666666666666488,\n",
       " -0.003333333333333355,\n",
       " 0.02533333333333332,\n",
       " -0.021999999999999964,\n",
       " -0.043999999999999984,\n",
       " -0.010000000000000009,\n",
       " 0.018666666666666665,\n",
       " 0.02999999999999997,\n",
       " -0.00933333333333336,\n",
       " 0.011333333333333362,\n",
       " -0.01200000000000001,\n",
       " 0.020000000000000018,\n",
       " -0.00933333333333336,\n",
       " -0.020666666666666667,\n",
       " 0.03400000000000003,\n",
       " 0.03400000000000003,\n",
       " 0.006666666666666654,\n",
       " 0.03199999999999997,\n",
       " 0.018666666666666665,\n",
       " 0.0,\n",
       " 0.023333333333333317,\n",
       " 0.014666666666666717,\n",
       " -0.00933333333333336,\n",
       " 0.013333333333333308,\n",
       " -0.04799999999999999,\n",
       " 0.018666666666666665,\n",
       " -0.02400000000000002,\n",
       " -0.023333333333333317,\n",
       " -0.04666666666666669,\n",
       " 0.008666666666666656,\n",
       " 0.018666666666666665,\n",
       " -0.009333333333333305,\n",
       " 0.02266666666666667,\n",
       " 0.015333333333333365,\n",
       " 0.005333333333333301,\n",
       " 0.006000000000000005,\n",
       " -0.03733333333333333,\n",
       " 0.06333333333333335,\n",
       " 0.03533333333333333,\n",
       " 0.017333333333333367,\n",
       " 0.050000000000000044,\n",
       " -0.007333333333333358,\n",
       " 0.011333333333333362,\n",
       " -0.036666666666666625,\n",
       " 0.029333333333333322,\n",
       " -0.008666666666666656,\n",
       " -0.03466666666666662,\n",
       " 0.0,\n",
       " 0.036666666666666625,\n",
       " 0.008666666666666656,\n",
       " 0.028000000000000025,\n",
       " 0.036666666666666625,\n",
       " -0.008666666666666711,\n",
       " 0.07066666666666666,\n",
       " 0.02200000000000002,\n",
       " 0.01200000000000001,\n",
       " -0.003333333333333355,\n",
       " 0.04799999999999999,\n",
       " 0.004666666666666652,\n",
       " 0.001333333333333353,\n",
       " 0.03200000000000003,\n",
       " -0.043999999999999984,\n",
       " 0.01533333333333331,\n",
       " 0.025999999999999968,\n",
       " 0.007333333333333303,\n",
       " -0.0006666666666666488,\n",
       " -0.013333333333333364,\n",
       " -0.049333333333333396,\n",
       " 0.058666666666666645,\n",
       " -0.016666666666666663,\n",
       " -0.007333333333333303,\n",
       " 0.0026666666666666505,\n",
       " -0.02533333333333332,\n",
       " 0.01799999999999996,\n",
       " 0.010666666666666658,\n",
       " -0.020666666666666667,\n",
       " 0.033333333333333326,\n",
       " -0.01599999999999996,\n",
       " 0.009333333333333305,\n",
       " 0.018666666666666665,\n",
       " -0.003333333333333355,\n",
       " 0.023999999999999966,\n",
       " 0.008666666666666711,\n",
       " 0.08666666666666667,\n",
       " 0.001333333333333353,\n",
       " 0.035999999999999976,\n",
       " -0.03533333333333333,\n",
       " 0.061333333333333295,\n",
       " -0.031333333333333324,\n",
       " 0.014000000000000012,\n",
       " 0.01799999999999996,\n",
       " 0.0020000000000000018,\n",
       " -0.01533333333333331,\n",
       " 0.0040000000000000036,\n",
       " 0.006666666666666654,\n",
       " 0.013333333333333308,\n",
       " -0.012666666666666715,\n",
       " 0.02999999999999997,\n",
       " 0.04999999999999999,\n",
       " -0.036666666666666625,\n",
       " -0.0020000000000000018,\n",
       " -0.07666666666666666,\n",
       " 0.001333333333333353,\n",
       " 0.03533333333333333,\n",
       " 0.04400000000000004,\n",
       " -0.002666666666666706,\n",
       " -0.03733333333333333,\n",
       " 0.04799999999999999,\n",
       " -0.026666666666666616,\n",
       " 0.02400000000000002,\n",
       " 0.019999999999999962,\n",
       " -0.026666666666666672,\n",
       " 0.036666666666666625,\n",
       " -0.03666666666666668,\n",
       " -0.018666666666666665,\n",
       " -0.0026666666666666505,\n",
       " 0.018000000000000016,\n",
       " 0.0,\n",
       " 0.029333333333333322,\n",
       " -0.006666666666666654,\n",
       " -0.005333333333333301,\n",
       " 0.02799999999999997,\n",
       " 0.020000000000000018,\n",
       " -0.04999999999999999,\n",
       " 0.06666666666666671,\n",
       " 0.04400000000000004,\n",
       " 0.019333333333333313,\n",
       " -0.011333333333333362,\n",
       " -0.006000000000000005,\n",
       " 0.08999999999999997,\n",
       " -0.030000000000000027,\n",
       " 0.028666666666666674,\n",
       " 0.04333333333333339,\n",
       " 0.03933333333333333,\n",
       " -0.020000000000000018,\n",
       " -0.042666666666666686,\n",
       " 0.030666666666666675,\n",
       " 0.014000000000000012,\n",
       " -0.03266666666666668,\n",
       " -0.008666666666666656,\n",
       " 0.02466666666666667,\n",
       " -0.026666666666666672,\n",
       " 0.028666666666666674,\n",
       " -0.013333333333333364,\n",
       " 0.023333333333333317,\n",
       " 0.02533333333333332,\n",
       " 0.0513333333333334,\n",
       " 0.008000000000000007,\n",
       " 0.010666666666666658,\n",
       " 0.02266666666666667,\n",
       " 0.031333333333333324,\n",
       " 0.05666666666666664,\n",
       " -0.014000000000000012,\n",
       " -0.02533333333333332,\n",
       " 0.0013333333333332975,\n",
       " -0.03200000000000003,\n",
       " -0.00933333333333336,\n",
       " -0.033333333333333326,\n",
       " -0.005333333333333357,\n",
       " -0.028666666666666618,\n",
       " 0.04666666666666669,\n",
       " 0.001333333333333353,\n",
       " 0.05333333333333329,\n",
       " -0.005333333333333357,\n",
       " 0.06133333333333335,\n",
       " 0.008000000000000007,\n",
       " 0.030000000000000027,\n",
       " -0.00933333333333336,\n",
       " -0.05666666666666664,\n",
       " 0.031333333333333324,\n",
       " 0.0006666666666667043,\n",
       " 0.0013333333333332975,\n",
       " -0.014666666666666661,\n",
       " 0.0,\n",
       " 0.043333333333333335,\n",
       " 0.02733333333333332,\n",
       " 0.0013333333333332975,\n",
       " -0.0013333333333332975,\n",
       " -0.01733333333333331,\n",
       " 0.020666666666666667,\n",
       " 0.0020000000000000018,\n",
       " 0.062,\n",
       " 0.009333333333333305,\n",
       " 0.033333333333333326,\n",
       " 0.06933333333333336,\n",
       " 0.008000000000000007,\n",
       " -0.01733333333333331,\n",
       " 0.03999999999999998,\n",
       " -0.005333333333333357,\n",
       " -0.02799999999999997,\n",
       " 0.05733333333333335,\n",
       " 0.031333333333333324,\n",
       " -0.00666666666666671,\n",
       " 0.02266666666666667,\n",
       " 0.023999999999999966,\n",
       " -0.06,\n",
       " 0.07066666666666666,\n",
       " 0.06533333333333335,\n",
       " -0.02999999999999997,\n",
       " 0.026666666666666616,\n",
       " -0.026000000000000023,\n",
       " -0.025999999999999968,\n",
       " 0.006000000000000005,\n",
       " 0.0533333333333334,\n",
       " 0.019333333333333313,\n",
       " 0.018000000000000016,\n",
       " 0.010000000000000009,\n",
       " 0.05666666666666664,\n",
       " 0.006000000000000005,\n",
       " 0.02266666666666667,\n",
       " 0.0693333333333333,\n",
       " 0.025999999999999968,\n",
       " 0.030000000000000027,\n",
       " -0.018000000000000016,\n",
       " 0.021333333333333315,\n",
       " 0.015333333333333365,\n",
       " 0.005333333333333357,\n",
       " 0.00666666666666671,\n",
       " 0.006666666666666654,\n",
       " 0.045999999999999985,\n",
       " -0.013333333333333308,\n",
       " -0.018000000000000016,\n",
       " 0.020666666666666667,\n",
       " 0.006666666666666654,\n",
       " -0.023999999999999966,\n",
       " 0.020666666666666667,\n",
       " -0.0040000000000000036,\n",
       " 0.01200000000000001,\n",
       " -0.011333333333333306,\n",
       " 0.006000000000000005,\n",
       " 0.007333333333333303,\n",
       " -0.0026666666666666505,\n",
       " 0.0,\n",
       " 0.021999999999999964,\n",
       " 0.018666666666666665,\n",
       " 0.019999999999999962,\n",
       " -0.002666666666666706,\n",
       " 0.03266666666666668,\n",
       " -0.0026666666666666505,\n",
       " 0.02266666666666667,\n",
       " -0.03666666666666668,\n",
       " -0.011333333333333362,\n",
       " 0.010666666666666713,\n",
       " -0.001333333333333353,\n",
       " 0.0,\n",
       " -0.07399999999999995,\n",
       " 0.01533333333333331,\n",
       " -0.01200000000000001,\n",
       " -0.014000000000000012,\n",
       " 0.019999999999999962,\n",
       " 0.016666666666666663,\n",
       " 0.02200000000000002,\n",
       " -0.0040000000000000036,\n",
       " 0.008000000000000007,\n",
       " 0.03533333333333333,\n",
       " 0.01266666666666666,\n",
       " 0.00933333333333336,\n",
       " 0.06266666666666665,\n",
       " -0.0026666666666666505,\n",
       " 0.011333333333333362,\n",
       " 0.04466666666666669,\n",
       " 0.02999999999999997,\n",
       " 0.031333333333333324,\n",
       " -0.02266666666666667,\n",
       " 0.007333333333333303,\n",
       " 0.04933333333333334,\n",
       " 0.018666666666666665,\n",
       " 0.0586666666666667,\n",
       " 0.035999999999999976,\n",
       " 0.011333333333333306,\n",
       " 0.029333333333333322,\n",
       " -0.0026666666666666505,\n",
       " -0.03666666666666668,\n",
       " 0.02400000000000002,\n",
       " 0.0533333333333334,\n",
       " 0.026000000000000023,\n",
       " -0.005333333333333357,\n",
       " 0.06266666666666665,\n",
       " 0.004666666666666708,\n",
       " 0.06533333333333335,\n",
       " 0.0013333333333332975,\n",
       " -0.004666666666666652,\n",
       " -0.03466666666666668,\n",
       " 0.02466666666666667,\n",
       " 0.013333333333333308,\n",
       " 0.004666666666666652,\n",
       " -0.016000000000000014,\n",
       " -0.031333333333333324,\n",
       " 0.008000000000000007,\n",
       " 0.021333333333333315,\n",
       " 0.0,\n",
       " 0.006666666666666654,\n",
       " 0.0020000000000000018,\n",
       " 0.0,\n",
       " 0.026666666666666672,\n",
       " 0.04800000000000004,\n",
       " 0.029333333333333322,\n",
       " -0.02266666666666667,\n",
       " -0.03733333333333333,\n",
       " 0.024666666666666615,\n",
       " -0.028666666666666674,\n",
       " 0.018000000000000016,\n",
       " 0.01200000000000001,\n",
       " 0.03533333333333333,\n",
       " -0.03933333333333333,\n",
       " -0.0040000000000000036,\n",
       " 0.01200000000000001,\n",
       " -0.018000000000000016,\n",
       " 0.013333333333333364,\n",
       " 0.01933333333333337,\n",
       " 0.03733333333333333,\n",
       " 0.010666666666666658,\n",
       " -0.0020000000000000018,\n",
       " 0.03866666666666663,\n",
       " -0.02533333333333332,\n",
       " -0.05800000000000005,\n",
       " 0.023999999999999966,\n",
       " 0.0033333333333332993,\n",
       " -0.00933333333333336,\n",
       " 0.002666666666666706,\n",
       " 0.01200000000000001,\n",
       " -0.01200000000000001,\n",
       " 0.03600000000000003,\n",
       " -0.01200000000000001,\n",
       " 0.02733333333333332,\n",
       " 0.023999999999999966,\n",
       " 0.014000000000000012,\n",
       " -0.01200000000000001,\n",
       " -0.01266666666666666,\n",
       " 0.03200000000000003,\n",
       " 0.016000000000000014,\n",
       " 0.030666666666666675,\n",
       " -0.06933333333333336,\n",
       " -0.023333333333333317,\n",
       " -0.006666666666666654,\n",
       " -0.016666666666666663,\n",
       " -0.03666666666666668,\n",
       " 0.0040000000000000036,\n",
       " 0.01266666666666666,\n",
       " 0.008666666666666656,\n",
       " 0.016000000000000014,\n",
       " 0.033333333333333326,\n",
       " -0.005333333333333357,\n",
       " 0.02733333333333332,\n",
       " 0.012666666666666715,\n",
       " -0.00666666666666671,\n",
       " 0.0020000000000000018,\n",
       " -0.0033333333333332993,\n",
       " 0.015333333333333365,\n",
       " -0.02266666666666667,\n",
       " 0.023333333333333317,\n",
       " 0.04600000000000004,\n",
       " -0.029333333333333322,\n",
       " 0.021333333333333315,\n",
       " 0.01666666666666672,\n",
       " 0.05066666666666669,\n",
       " 0.019333333333333313,\n",
       " 0.008000000000000007,\n",
       " 0.02533333333333332,\n",
       " -0.008666666666666711,\n",
       " 0.03666666666666668,\n",
       " 0.015333333333333365,\n",
       " 0.03933333333333333,\n",
       " -0.016666666666666663,\n",
       " 0.04199999999999998,\n",
       " 0.008000000000000007,\n",
       " 0.026666666666666672,\n",
       " 0.023333333333333317,\n",
       " 0.011333333333333306,\n",
       " -0.018000000000000016,\n",
       " 0.015333333333333365,\n",
       " -0.03400000000000003,\n",
       " 0.008666666666666656,\n",
       " -0.02533333333333332,\n",
       " 0.020666666666666667,\n",
       " -0.0006666666666666488,\n",
       " 0.003333333333333355,\n",
       " -0.015333333333333365,\n",
       " -0.008666666666666711,\n",
       " -0.003333333333333355,\n",
       " -0.01200000000000001,\n",
       " -0.013333333333333308,\n",
       " 0.04466666666666669,\n",
       " 0.015333333333333365,\n",
       " 0.0020000000000000018,\n",
       " 0.0,\n",
       " 0.0006666666666666488,\n",
       " 0.04133333333333333,\n",
       " 0.031333333333333324,\n",
       " 0.04600000000000004,\n",
       " 0.03933333333333333,\n",
       " 0.02799999999999997,\n",
       " -0.01266666666666666,\n",
       " 0.029333333333333322,\n",
       " 0.061333333333333295,\n",
       " 0.04800000000000004,\n",
       " 0.019999999999999962,\n",
       " 0.0020000000000000018,\n",
       " -0.01533333333333331,\n",
       " 0.07133333333333336,\n",
       " 0.010000000000000009,\n",
       " -0.005333333333333357,\n",
       " 0.03999999999999998,\n",
       " -0.01533333333333331,\n",
       " 0.043999999999999984,\n",
       " 0.06466666666666665,\n",
       " 0.030666666666666675,\n",
       " 0.03266666666666668,\n",
       " 0.0020000000000000018,\n",
       " 0.02400000000000002,\n",
       " 0.036666666666666625,\n",
       " -0.011333333333333362,\n",
       " -0.021999999999999964,\n",
       " -0.0040000000000000036,\n",
       " -0.02799999999999997,\n",
       " 0.006000000000000005,\n",
       " 0.017333333333333367,\n",
       " 0.014000000000000012,\n",
       " 0.010000000000000009,\n",
       " 0.008000000000000007,\n",
       " 0.018666666666666665,\n",
       " 0.026666666666666672,\n",
       " 0.005333333333333357,\n",
       " -0.009333333333333305,\n",
       " -0.01200000000000001,\n",
       " 0.01933333333333337,\n",
       " 0.03600000000000003,\n",
       " 0.014666666666666661,\n",
       " 0.029333333333333322,\n",
       " 0.06000000000000005,\n",
       " 0.02799999999999997,\n",
       " -0.0006666666666666488,\n",
       " -0.014000000000000012,\n",
       " -0.03400000000000003,\n",
       " 0.030666666666666675,\n",
       " 0.03533333333333333,\n",
       " 0.018666666666666665,\n",
       " -0.023333333333333317,\n",
       " 0.006666666666666654,\n",
       " -0.0020000000000000018,\n",
       " 0.006666666666666654,\n",
       " 0.0546666666666667,\n",
       " 0.010666666666666713,\n",
       " 0.002666666666666706,\n",
       " 0.018666666666666665,\n",
       " 0.03466666666666668,\n",
       " 0.010000000000000009,\n",
       " -0.0033333333333332993,\n",
       " -0.031333333333333324,\n",
       " 0.014666666666666661,\n",
       " 0.018000000000000016,\n",
       " -0.021333333333333315,\n",
       " -0.0040000000000000036,\n",
       " 0.0026666666666666505,\n",
       " 0.003333333333333355,\n",
       " 0.03533333333333333,\n",
       " -0.006000000000000005,\n",
       " 0.02466666666666667,\n",
       " 0.015333333333333365,\n",
       " 0.010666666666666658,\n",
       " 0.026666666666666616,\n",
       " -0.01200000000000001,\n",
       " -0.001333333333333353,\n",
       " -0.028666666666666674,\n",
       " -0.0033333333333332993,\n",
       " 0.019333333333333313,\n",
       " 0.0020000000000000018,\n",
       " 0.05066666666666664,\n",
       " 0.01933333333333337,\n",
       " -0.01733333333333331,\n",
       " -0.011333333333333362,\n",
       " 0.011333333333333306,\n",
       " 0.045999999999999985,\n",
       " -0.03866666666666668,\n",
       " 0.006000000000000005,\n",
       " -0.0020000000000000018,\n",
       " 0.005333333333333357,\n",
       " 0.028666666666666618,\n",
       " -0.015333333333333365,\n",
       " -0.0026666666666666505,\n",
       " 0.007333333333333358,\n",
       " 0.014666666666666661,\n",
       " -0.0033333333333332993,\n",
       " -0.016000000000000014,\n",
       " 0.024666666666666615,\n",
       " -0.04133333333333333,\n",
       " -0.0040000000000000036,\n",
       " -0.061999999999999944,\n",
       " -0.06666666666666665,\n",
       " -0.0026666666666666505,\n",
       " 0.03466666666666668,\n",
       " 0.038000000000000034,\n",
       " 0.013333333333333308,\n",
       " -0.011333333333333362,\n",
       " 0.02400000000000002,\n",
       " -0.007333333333333303,\n",
       " 0.0,\n",
       " -0.021333333333333315,\n",
       " -0.01866666666666672,\n",
       " -0.02466666666666667,\n",
       " 0.01933333333333337,\n",
       " -0.021333333333333315,\n",
       " -0.02466666666666667,\n",
       " 0.031333333333333324,\n",
       " 0.004666666666666708,\n",
       " 0.006000000000000005,\n",
       " 0.017333333333333367,\n",
       " -0.02400000000000002,\n",
       " 0.004666666666666652,\n",
       " 0.025999999999999968,\n",
       " -0.016666666666666663,\n",
       " -0.0033333333333332993,\n",
       " 0.026666666666666616,\n",
       " 0.021333333333333315,\n",
       " -0.002666666666666706,\n",
       " 0.010666666666666658,\n",
       " -0.007333333333333303,\n",
       " -0.033999999999999975,\n",
       " -0.010000000000000009,\n",
       " -0.0040000000000000036,\n",
       " -0.029333333333333322,\n",
       " -0.01799999999999996,\n",
       " -0.019333333333333313,\n",
       " 0.048666666666666636,\n",
       " 0.030666666666666675,\n",
       " 0.05800000000000005,\n",
       " 0.02799999999999997,\n",
       " -0.015333333333333365,\n",
       " 0.006666666666666654,\n",
       " 0.030000000000000027,\n",
       " 0.03200000000000003,\n",
       " 0.002666666666666706,\n",
       " 0.018000000000000016,\n",
       " -0.0006666666666666488,\n",
       " 0.006000000000000005,\n",
       " -0.0020000000000000018,\n",
       " -0.023333333333333317,\n",
       " -0.023333333333333373,\n",
       " 0.021333333333333315,\n",
       " 0.003333333333333355,\n",
       " -0.008000000000000007,\n",
       " 0.008666666666666656,\n",
       " 0.02533333333333332,\n",
       " 0.03799999999999998,\n",
       " -0.023333333333333317,\n",
       " 0.01200000000000001,\n",
       " 0.026666666666666672,\n",
       " 0.006000000000000005,\n",
       " -0.017333333333333367,\n",
       " -0.017333333333333367,\n",
       " -0.008000000000000007,\n",
       " 0.011333333333333306,\n",
       " 0.001333333333333353,\n",
       " 0.06266666666666665,\n",
       " 0.008000000000000007,\n",
       " 0.02466666666666667,\n",
       " 0.028666666666666674,\n",
       " -0.020666666666666667,\n",
       " 0.014666666666666717,\n",
       " 0.0013333333333332975,\n",
       " 0.0020000000000000018,\n",
       " 0.006000000000000005,\n",
       " 0.05399999999999999,\n",
       " -0.01799999999999996,\n",
       " -0.018000000000000016,\n",
       " -0.058666666666666645,\n",
       " 0.0026666666666666505,\n",
       " -0.02733333333333332,\n",
       " -0.003333333333333355,\n",
       " 0.05066666666666669,\n",
       " 0.009333333333333305,\n",
       " -0.010666666666666658,\n",
       " -0.01533333333333331,\n",
       " 0.04799999999999999,\n",
       " -0.0020000000000000018,\n",
       " -0.00933333333333336,\n",
       " 0.0033333333333332993,\n",
       " 0.038000000000000034,\n",
       " -0.006666666666666654,\n",
       " 0.010666666666666713,\n",
       " 0.02400000000000002,\n",
       " 0.05799999999999994,\n",
       " 0.033999999999999975,\n",
       " -0.040000000000000036,\n",
       " -0.007333333333333358,\n",
       " -0.008000000000000007,\n",
       " -0.005333333333333357,\n",
       " 0.005333333333333301,\n",
       " 0.04400000000000004,\n",
       " -0.04666666666666669,\n",
       " 0.03266666666666662,\n",
       " -0.018000000000000016,\n",
       " 0.01799999999999996,\n",
       " -0.010666666666666713,\n",
       " 0.0,\n",
       " -0.0040000000000000036,\n",
       " 0.004666666666666652,\n",
       " 0.014000000000000012,\n",
       " -0.019333333333333313,\n",
       " -0.0013333333333332975,\n",
       " -0.007333333333333358,\n",
       " 0.043999999999999984,\n",
       " -0.029333333333333378,\n",
       " -0.035999999999999976,\n",
       " -0.0020000000000000018,\n",
       " 0.013333333333333308,\n",
       " 0.016000000000000014,\n",
       " 0.008000000000000007,\n",
       " -0.01200000000000001,\n",
       " -0.018000000000000016,\n",
       " 0.011333333333333362,\n",
       " 0.02466666666666667,\n",
       " 0.016000000000000014,\n",
       " 0.025999999999999968,\n",
       " 0.01200000000000001,\n",
       " -0.003333333333333355,\n",
       " -0.0006666666666667043,\n",
       " -0.01533333333333331,\n",
       " -0.016000000000000014,\n",
       " 0.033333333333333326,\n",
       " 0.03666666666666668,\n",
       " 0.0020000000000000018,\n",
       " 0.028666666666666674,\n",
       " 0.04466666666666669,\n",
       " 0.006666666666666654,\n",
       " 0.02466666666666667,\n",
       " 0.02533333333333332,\n",
       " 0.010000000000000009,\n",
       " 0.052000000000000046,\n",
       " 0.005333333333333357,\n",
       " 0.008000000000000007,\n",
       " 0.021333333333333315,\n",
       " -0.01733333333333331,\n",
       " 0.010666666666666658,\n",
       " -0.020666666666666667,\n",
       " -0.013333333333333364,\n",
       " 0.030666666666666675,\n",
       " 0.01266666666666666,\n",
       " 0.008666666666666656,\n",
       " 0.008000000000000007,\n",
       " 0.0006666666666666488,\n",
       " -0.015333333333333365,\n",
       " -0.006000000000000005,\n",
       " 0.004666666666666652,\n",
       " 0.03533333333333338,\n",
       " 0.020000000000000018,\n",
       " -0.025999999999999968,\n",
       " 0.00666666666666671,\n",
       " -0.005333333333333301,\n",
       " 0.02200000000000002,\n",
       " 0.018666666666666665,\n",
       " 0.04133333333333339,\n",
       " -0.0020000000000000018,\n",
       " 0.042666666666666686,\n",
       " -0.00933333333333336,\n",
       " 0.0006666666666667043,\n",
       " 0.02999999999999997,\n",
       " -0.0020000000000000018,\n",
       " -0.031333333333333324,\n",
       " 0.01200000000000001,\n",
       " -0.04800000000000004,\n",
       " 0.033333333333333326,\n",
       " 0.06666666666666671,\n",
       " -0.0006666666666666488,\n",
       " -0.0020000000000000018,\n",
       " 0.016000000000000014,\n",
       " -0.03666666666666668,\n",
       " 0.0,\n",
       " -0.0013333333333332975,\n",
       " 0.07000000000000006,\n",
       " 0.01200000000000001,\n",
       " -0.0626666666666667,\n",
       " 0.026666666666666672,\n",
       " 0.02466666666666667,\n",
       " 0.00666666666666671,\n",
       " 0.003333333333333355,\n",
       " -0.018666666666666665,\n",
       " -0.01599999999999996,\n",
       " -0.018666666666666665,\n",
       " 0.02133333333333337,\n",
       " 0.03266666666666668,\n",
       " 0.0026666666666666505,\n",
       " 0.026666666666666672,\n",
       " 0.046666666666666634,\n",
       " 0.04666666666666669,\n",
       " 0.014666666666666661,\n",
       " -0.024666666666666615,\n",
       " -0.014666666666666661,\n",
       " -0.04866666666666669,\n",
       " 0.013333333333333364,\n",
       " 0.026666666666666672,\n",
       " 0.014666666666666717,\n",
       " 0.028666666666666618,\n",
       " -0.00666666666666671,\n",
       " -0.0006666666666666488,\n",
       " 0.029333333333333322,\n",
       " -0.013333333333333308,\n",
       " 0.009333333333333305,\n",
       " 0.04400000000000004,\n",
       " 0.04266666666666663,\n",
       " 0.015333333333333365,\n",
       " -0.06,\n",
       " 0.010000000000000009,\n",
       " 0.025999999999999968,\n",
       " 0.033333333333333326,\n",
       " 0.01200000000000001,\n",
       " -0.014000000000000012,\n",
       " -0.009333333333333305,\n",
       " 0.053333333333333344,\n",
       " 0.028000000000000025,\n",
       " -0.025999999999999968,\n",
       " 0.05399999999999999,\n",
       " 0.019333333333333313,\n",
       " 0.007333333333333358,\n",
       " 0.0006666666666666488,\n",
       " 0.01200000000000001,\n",
       " -0.005333333333333357,\n",
       " 0.059333333333333405,\n",
       " 0.021333333333333315,\n",
       " 0.026666666666666672,\n",
       " 0.029333333333333322,\n",
       " -0.001333333333333353,\n",
       " -0.005333333333333357,\n",
       " 0.003333333333333355,\n",
       " -0.03266666666666668,\n",
       " 0.02999999999999997,\n",
       " 0.018000000000000016,\n",
       " -0.006000000000000005,\n",
       " 0.043999999999999984,\n",
       " -0.014666666666666661,\n",
       " 0.015333333333333365,\n",
       " 0.01533333333333331,\n",
       " -0.026000000000000023,\n",
       " 0.028666666666666674,\n",
       " 0.012666666666666715,\n",
       " -0.02799999999999997,\n",
       " -0.07400000000000001,\n",
       " 0.03533333333333333,\n",
       " -0.007333333333333358,\n",
       " 0.048666666666666636,\n",
       " 0.008666666666666656,\n",
       " 0.035999999999999976,\n",
       " 0.003333333333333355,\n",
       " 0.0020000000000000018,\n",
       " -0.014666666666666717,\n",
       " 0.006000000000000005,\n",
       " -0.01200000000000001,\n",
       " -0.02799999999999997,\n",
       " 0.03799999999999998,\n",
       " 0.0,\n",
       " -0.018000000000000016,\n",
       " -0.0040000000000000036,\n",
       " 0.0020000000000000018,\n",
       " -0.007333333333333358,\n",
       " 0.064,\n",
       " 0.020666666666666667,\n",
       " -0.003333333333333355,\n",
       " 0.02466666666666667,\n",
       " 0.0020000000000000018,\n",
       " 0.031333333333333324,\n",
       " 0.03933333333333333,\n",
       " 0.03733333333333333,\n",
       " 0.0040000000000000036,\n",
       " -0.0020000000000000018,\n",
       " -0.012666666666666715,\n",
       " -0.02799999999999997,\n",
       " -0.008666666666666711,\n",
       " 0.019999999999999962,\n",
       " 0.001333333333333353,\n",
       " -0.003333333333333355,\n",
       " 0.028666666666666674,\n",
       " 0.0040000000000000036,\n",
       " -0.009333333333333305,\n",
       " 0.052000000000000046,\n",
       " -0.015333333333333365,\n",
       " 0.01266666666666666,\n",
       " -0.016666666666666663,\n",
       " -0.01533333333333331,\n",
       " 0.016000000000000014,\n",
       " -0.02733333333333332,\n",
       " 0.0026666666666666505,\n",
       " 0.014666666666666717,\n",
       " 0.03199999999999997,\n",
       " -0.001333333333333353,\n",
       " 0.006666666666666654,\n",
       " 0.07600000000000007,\n",
       " -0.01533333333333331,\n",
       " -0.014000000000000012,\n",
       " -0.01200000000000001,\n",
       " -0.0026666666666666505,\n",
       " 0.007333333333333303,\n",
       " -0.003333333333333355,\n",
       " 0.0606666666666667,\n",
       " -0.023333333333333317,\n",
       " 0.004666666666666652,\n",
       " 0.003333333333333355,\n",
       " 0.02533333333333332,\n",
       " 0.006666666666666654,\n",
       " 0.016666666666666663,\n",
       " -0.01200000000000001,\n",
       " -0.004666666666666708,\n",
       " -0.02466666666666667,\n",
       " 0.05066666666666669,\n",
       " -0.0020000000000000018,\n",
       " 0.026000000000000023,\n",
       " 0.0020000000000000018,\n",
       " 0.009333333333333305,\n",
       " -0.02466666666666667,\n",
       " -0.023333333333333317,\n",
       " 0.0040000000000000036,\n",
       " 0.0006666666666666488,\n",
       " 0.07600000000000007,\n",
       " -0.004666666666666652,\n",
       " 0.016666666666666663,\n",
       " 0.04866666666666669,\n",
       " 0.008000000000000007,\n",
       " -0.04866666666666669,\n",
       " 0.004666666666666652,\n",
       " 0.006666666666666654,\n",
       " -0.026666666666666672,\n",
       " -0.003333333333333355,\n",
       " 0.014666666666666661,\n",
       " 0.020666666666666667,\n",
       " 0.03266666666666668,\n",
       " 0.00933333333333336,\n",
       " 0.005333333333333357,\n",
       " 0.03466666666666668,\n",
       " 0.06466666666666665,\n",
       " 0.03666666666666668,\n",
       " 0.029333333333333322,\n",
       " -0.0026666666666666505,\n",
       " 0.007333333333333358,\n",
       " -0.004666666666666708,\n",
       " -0.0013333333333332975,\n",
       " 0.008000000000000007,\n",
       " 0.018000000000000016,\n",
       " 0.006000000000000005,\n",
       " 0.02466666666666667,\n",
       " -0.019333333333333313,\n",
       " 0.004666666666666652,\n",
       " -0.005333333333333357,\n",
       " 0.006000000000000005,\n",
       " 0.057999999999999996,\n",
       " -0.023999999999999966,\n",
       " 0.02733333333333332,\n",
       " -0.008666666666666656,\n",
       " -0.008666666666666711,\n",
       " -0.011333333333333362,\n",
       " -0.006000000000000005,\n",
       " 0.05066666666666664,\n",
       " 0.04999999999999999,\n",
       " 0.005333333333333301,\n",
       " -0.0013333333333332975,\n",
       " 0.033333333333333326,\n",
       " 0.009333333333333305,\n",
       " 0.003333333333333355,\n",
       " -0.00933333333333336,\n",
       " 0.04999999999999999,\n",
       " 0.0006666666666667043,\n",
       " 0.00933333333333336,\n",
       " -0.003333333333333355,\n",
       " 0.010666666666666713,\n",
       " 0.0040000000000000036,\n",
       " 0.0,\n",
       " 0.02733333333333332,\n",
       " 0.006666666666666654,\n",
       " 0.033333333333333326,\n",
       " -0.03666666666666668,\n",
       " 0.02466666666666667,\n",
       " -0.008666666666666656,\n",
       " -0.0026666666666666505,\n",
       " 0.0,\n",
       " ...]"
      ]
     },
     "execution_count": 36,
     "metadata": {},
     "output_type": "execute_result"
    }
   ],
   "source": [
    "simulations = [trump_advantage(i) for i in [list(draw_state_sample(1500,\"pennsylvania\"))for i in np.arange(100000)]]\n",
    "simulations"
   ]
  },
  {
   "cell_type": "code",
   "execution_count": 37,
   "metadata": {
    "deletable": false,
    "editable": false
   },
   "outputs": [
    {
     "name": "stdout",
     "output_type": "stream",
     "text": [
      "~~~~~~~~~~~~~~~~~~~~~~~~~~~~~~~~~~~~~~~~~~~~~~~~~~~~~~~~~~~~~~~~~~~~~\n",
      "Running tests\n",
      "\n",
      "---------------------------------------------------------------------\n",
      "Test summary\n",
      "    Passed: 3\n",
      "    Failed: 0\n",
      "[ooooooooook] 100.0% passed\n",
      "\n"
     ]
    }
   ],
   "source": [
    "ok.grade(\"q6c\");"
   ]
  },
  {
   "cell_type": "markdown",
   "metadata": {
    "deletable": false,
    "editable": false,
    "nbgrader": {
     "grade": false,
     "grade_id": "q1c",
     "locked": true,
     "schema_version": 2,
     "solution": false
    }
   },
   "source": [
    "#### Part 4\n",
    "\n",
    "Make a histogram of the sampling distribution of Trump's percentage advantage in Pennsylvania. Make sure to give your plot a title and add labels where appropriate.\n",
    "Hint: You should use the [`plt.hist`](https://matplotlib.org/3.1.1/api/_as_gen/matplotlib.pyplot.hist.html) function in your code.\n",
    "\n",
    "Make sure to include a title as well as axis labels. You can do this using `plt.title`, `plt.xlabel`, and `plt.ylabel`.\n",
    "\n",
    "<!--\n",
    "BEGIN QUESTION\n",
    "name: q6d\n",
    "manual: true\n",
    "points: 1\n",
    "-->\n",
    "<!-- EXPORT TO PDF -->"
   ]
  },
  {
   "cell_type": "code",
   "execution_count": 38,
   "metadata": {
    "scrolled": true
   },
   "outputs": [
    {
     "data": {
      "text/plain": [
       "Text(0, 0.5, 'Count/# of samples')"
      ]
     },
     "execution_count": 38,
     "metadata": {},
     "output_type": "execute_result"
    },
    {
     "data": {
      "image/png": "[encoded data removed]",
      "text/plain": [
       "<Figure size 2400x1200 with 1 Axes>"
      ]
     },
     "metadata": {},
     "output_type": "display_data"
    }
   ],
   "source": [
    "plt.hist(simulations,bins = np.arange(min(simulations)-0.05,max(simulations)+0.06,0.005))\n",
    "plt.title(\"Trump advantage in Pennsylvania Sampling Distribution\")\n",
    "plt.xlabel(\"percentage advantage\")\n",
    "plt.ylabel(\"Count/# of samples\")"
   ]
  },
  {
   "cell_type": "markdown",
   "metadata": {
    "deletable": false,
    "editable": false
   },
   "source": [
    "#### Part 5\n",
    "\n",
    "Now write a function `trump_wins(N)` that creates a sample of N voters for each of the four crucial states (Florida, Michigan, Pennsylvania, and Wisconsin) and returns 1 if Trump is predicted to win based on these samples and 0 if Trump is predicted to lose.\n",
    "\n",
    "Recall that for Trump to win the election, he must either:\n",
    "* Win the state of Florida and 1 or more other states\n",
    "* Win Michigan, Pennsylvania, and Wisconsin\n",
    "\n",
    "<!--\n",
    "BEGIN QUESTION\n",
    "name: q6e\n",
    "manual: false\n",
    "points: 2\n",
    "-->"
   ]
  },
  {
   "cell_type": "code",
   "execution_count": 39,
   "metadata": {},
   "outputs": [],
   "source": [
    "def trump_wins(N):\n",
    "    ad_f = trump_advantage(draw_state_sample(N,'florida'))\n",
    "    ad_m =  trump_advantage(draw_state_sample(N,'michigan'))\n",
    "    ad_p =  trump_advantage(draw_state_sample(N,'pennsylvania'))\n",
    "    ad_w =  trump_advantage(draw_state_sample(N,'wisconsin'))\n",
    "    if ad_f > 0 and (ad_m>0 or ad_p>0 or ad_w>0):\n",
    "        return 1\n",
    "    elif ad_m>0 and ad_p>0 and ad_w>0:\n",
    "        return 1\n",
    "    else:\n",
    "        return 0"
   ]
  },
  {
   "cell_type": "code",
   "execution_count": 40,
   "metadata": {
    "deletable": false,
    "editable": false
   },
   "outputs": [
    {
     "name": "stdout",
     "output_type": "stream",
     "text": [
      "~~~~~~~~~~~~~~~~~~~~~~~~~~~~~~~~~~~~~~~~~~~~~~~~~~~~~~~~~~~~~~~~~~~~~\n",
      "Running tests\n",
      "\n",
      "---------------------------------------------------------------------\n",
      "Test summary\n",
      "    Passed: 1\n",
      "    Failed: 0\n",
      "[ooooooooook] 100.0% passed\n",
      "\n"
     ]
    }
   ],
   "source": [
    "ok.grade(\"q6e\");"
   ]
  },
  {
   "cell_type": "markdown",
   "metadata": {
    "deletable": false,
    "editable": false
   },
   "source": [
    "#### Part 6\n",
    "\n",
    "If we repeat 100,000 simulations of the election, i.e. we call `trump_wins(1500)` 100,000 times, what proportion of these simulations predict a Trump victory? Give your answer as `percent_trump`.\n",
    "\n",
    "This number represents the percent chance that a given sample will correctly predict Trump's victory *even if the sample was collected with absoutely no bias*. \n",
    "\n",
    "**Note: Many laypeople, even well educated ones, assume that this number should be 1. After all, how could a non-biased sample be wrong? This is the type of incredibly important intuition we hope to develop in you throughout this class and your future data science coursework.**\n",
    "\n",
    "<!--\n",
    "BEGIN QUESTION\n",
    "name: q6f\n",
    "manual: false\n",
    "points: 1\n",
    "-->"
   ]
  },
  {
   "cell_type": "code",
   "execution_count": 41,
   "metadata": {},
   "outputs": [
    {
     "data": {
      "text/plain": [
       "0.69792"
      ]
     },
     "execution_count": 41,
     "metadata": {},
     "output_type": "execute_result"
    }
   ],
   "source": [
    "percent_trump = sum([trump_wins(1500) for i in np.arange(100000)])/100000\n",
    "percent_trump"
   ]
  },
  {
   "cell_type": "code",
   "execution_count": 42,
   "metadata": {
    "deletable": false,
    "editable": false
   },
   "outputs": [
    {
     "name": "stdout",
     "output_type": "stream",
     "text": [
      "~~~~~~~~~~~~~~~~~~~~~~~~~~~~~~~~~~~~~~~~~~~~~~~~~~~~~~~~~~~~~~~~~~~~~\n",
      "Running tests\n",
      "\n",
      "---------------------------------------------------------------------\n",
      "Test summary\n",
      "    Passed: 2\n",
      "    Failed: 0\n",
      "[ooooooooook] 100.0% passed\n",
      "\n"
     ]
    }
   ],
   "source": [
    "ok.grade(\"q6f\");"
   ]
  },
  {
   "cell_type": "markdown",
   "metadata": {},
   "source": [
    "We have just studied the sampling error, and found how \n",
    "our predictions might look if there was no bias in our \n",
    "sampling process. \n",
    "Essentially, we assumed that the people surveyed didn't change their minds, \n",
    "didn't hide who they voted for, and were representative\n",
    "of those who voted on election day."
   ]
  },
  {
   "cell_type": "markdown",
   "metadata": {
    "nbgrader": {
     "grade": false,
     "grade_id": "q2",
     "locked": true,
     "schema_version": 2,
     "solution": false
    }
   },
   "source": [
    "---\n",
    "## Simulation Study of Selection Bias\n",
    "\n",
    "According to an article by Grotenhuis, Subramanian, Nieuwenhuis, Pelzer and Eisinga (https://blogs.lse.ac.uk/usappblog/2018/02/01/better-poll-sampling-would-have-cast-more-doubt-on-the-potential-for-hillary-clinton-to-win-the-2016-election/#Author):\n",
    "\n",
    "\"In a perfect world, polls sample from the population of voters, who would state their political preference perfectly clearly and then vote accordingly.\"\n",
    "\n",
    "That's the simulation study that we just performed. \n",
    "\n",
    "\n",
    "It's difficult to control for every source of selection bias.\n",
    "And, it's not possible to control for some of the other sources of bias.\n",
    "\n",
    "Next we investigate the effect of small sampling bias on the polling results in these four battleground states.  \n",
    "\n",
    "Throughout this problem, we'll examine the impacts of a 0.5 percent bias in favor of Clinton in each state. Such a bias has been suggested because highly educated voters tend to be more willing to participate in polls."
   ]
  },
  {
   "cell_type": "markdown",
   "metadata": {
    "deletable": false,
    "editable": false,
    "nbgrader": {
     "grade": false,
     "grade_id": "q2a",
     "locked": true,
     "schema_version": 2,
     "solution": false
    }
   },
   "source": [
    "### Question 7\n",
    "\n",
    "Throughout this problem, adjust the selection of voters so that there is a 0.5% bias in favor of Clinton in each of these states. \n",
    "\n",
    "For example, in Pennsylvania, Clinton received 47.46 percent of the votes and Trump 48.18 percent. Increase the population of Clinton voters to 47.46 + 0.5  percent and correspondingly decrease the percent of Trump voters. \n",
    "\n",
    "#### Part 1\n",
    "\n",
    "Simulate Trump's advantage across 100,000 simple random samples of 1500 voters for the state of Pennsylvania and store the results of each simulation in a list called `biased_simulations`.\n",
    "\n",
    "That is, `biased_simulation[i]` should hold the result of the `i`th simulation.\n",
    "\n",
    "That is, your answer to this problem should be just like your answer from Question 7 part 3, but now using samples that are biased as described above.\n",
    "\n",
    "<!--\n",
    "BEGIN QUESTION\n",
    "name: q7a\n",
    "points: 1\n",
    "-->"
   ]
  },
  {
   "cell_type": "code",
   "execution_count": 43,
   "metadata": {},
   "outputs": [],
   "source": [
    "def draw_biased_state_sample(N, state):\n",
    "    if state == \"florida\" :  \n",
    "        return np.random.multinomial(N,[0.4903-0.005,0.4782+0.005,1-0.4903-0.4782])\n",
    "    elif state == \"michigan\":\n",
    "        return np.random.multinomial(N,[0.4750-0.005,0.4727+0.005,1-0.4750-0.4727])\n",
    "    elif state == \"pennsylvania\":\n",
    "        return np.random.multinomial(N,[0.4818-0.005,0.4746+0.005,1-0.4818-0.4746])\n",
    "    else:\n",
    "        return np.random.multinomial(N,[0.4722-0.005,0.4645+0.005,1-0.4722-0.4645])\n",
    "\n",
    "    \n",
    "biased_simulations = [trump_advantage(i) for i in [list(draw_biased_state_sample(1500,\"pennsylvania\"))for i in np.arange(100000)]]"
   ]
  },
  {
   "cell_type": "code",
   "execution_count": 44,
   "metadata": {
    "deletable": false,
    "editable": false
   },
   "outputs": [
    {
     "name": "stdout",
     "output_type": "stream",
     "text": [
      "~~~~~~~~~~~~~~~~~~~~~~~~~~~~~~~~~~~~~~~~~~~~~~~~~~~~~~~~~~~~~~~~~~~~~\n",
      "Running tests\n",
      "\n",
      "---------------------------------------------------------------------\n",
      "Test summary\n",
      "    Passed: 6\n",
      "    Failed: 0\n",
      "[ooooooooook] 100.0% passed\n",
      "\n"
     ]
    }
   ],
   "source": [
    "ok.grade(\"q7a\");"
   ]
  },
  {
   "cell_type": "markdown",
   "metadata": {
    "deletable": false,
    "editable": false
   },
   "source": [
    "#### Part 2\n",
    "\n",
    "Make a histogram of the new sampling distribution of Trump's advantage now using these biased samples. That is, your histogram should be the same as in Q6.4, but now using the biased samples.\n",
    "\n",
    "Make sure to give your plot a title and add labels where appropriate.\n",
    "\n",
    "\n",
    "<!--\n",
    "BEGIN QUESTION\n",
    "name: q7b\n",
    "manual: true\n",
    "points: 1\n",
    "-->\n",
    "<!-- EXPORT TO PDF -->"
   ]
  },
  {
   "cell_type": "code",
   "execution_count": 45,
   "metadata": {},
   "outputs": [
    {
     "data": {
      "text/plain": [
       "Text(0, 0.5, 'Count')"
      ]
     },
     "execution_count": 45,
     "metadata": {},
     "output_type": "execute_result"
    },
    {
     "data": {
      "image/png": "[encoded data removed]",
      "text/plain": [
       "<Figure size 2400x1200 with 1 Axes>"
      ]
     },
     "metadata": {},
     "output_type": "display_data"
    }
   ],
   "source": [
    "plt.hist(biased_simulations, bins = np.arange(min(biased_simulations)-0.05,max(biased_simulations)+0.06,0.005))\n",
    "plt.title(\"Trump advantage in Pennsylvania Sampling Distribution w/bias towards Clinton\")\n",
    "plt.xlabel(\"percentage advantage\")\n",
    "plt.ylabel(\"Count\")"
   ]
  },
  {
   "cell_type": "markdown",
   "metadata": {
    "deletable": false,
    "editable": false
   },
   "source": [
    "#### Part 3\n",
    "\n",
    "Compare the histogram you created in Q7.2 to that in Q6.4. \n",
    "\n",
    "<!--\n",
    "BEGIN QUESTION\n",
    "name: q7c\n",
    "manual: true\n",
    "points: 2\n",
    "-->\n",
    "<!-- EXPORT TO PDF -->"
   ]
  },
  {
   "cell_type": "markdown",
   "metadata": {},
   "source": [
    "Visually it appears that the histograph held its original shape, but shifted itself towards the negative direction on the percentage advantage axis, this makes sense, of course, given that the bias is supposed to have boosted Clinton's chances of winning, and Trump's advantage became disadvanages here as most of the projections indicated Hilary wins on this histograph. "
   ]
  },
  {
   "cell_type": "markdown",
   "metadata": {
    "deletable": false,
    "editable": false
   },
   "source": [
    "#### Part 4\n",
    "\n",
    "Now perform 100,000 simulations of all four states and return the proportion of these simulations that result in a Trump victory. This is the same fraction that you computed in Q6.6, but now using your biased samples.\n",
    "\n",
    "Give your answer as `percent_trump_biased`.\n",
    "\n",
    "This number represents the chance that a sample biased 0.5% in Hillary Clinton's favor will correctly predict Trump's victory. You should observe that the chance is signficantly lower than with an unbiased sample, i.e. your answer in Q6.6.\n",
    "\n",
    "<!--\n",
    "BEGIN QUESTION\n",
    "name: q7d\n",
    "manual: false\n",
    "points: 1\n",
    "-->"
   ]
  },
  {
   "cell_type": "code",
   "execution_count": 46,
   "metadata": {},
   "outputs": [
    {
     "data": {
      "text/plain": [
       "0.46788"
      ]
     },
     "execution_count": 46,
     "metadata": {},
     "output_type": "execute_result"
    }
   ],
   "source": [
    "def trump_wins_biased(N): \n",
    "    ad_f = trump_advantage(draw_biased_state_sample(N,'florida'))\n",
    "    ad_m =  trump_advantage(draw_biased_state_sample(N,'michigan'))\n",
    "    ad_p =  trump_advantage(draw_biased_state_sample(N,'pennsylvania'))\n",
    "    ad_w =  trump_advantage(draw_biased_state_sample(N,'wisconsin'))\n",
    "    if ad_f > 0 and (ad_m>0 or ad_p>0 or ad_w>0):\n",
    "        return 1\n",
    "    elif ad_m>0 and ad_p>0 and ad_w>0:\n",
    "        return 1\n",
    "    else:\n",
    "        return 0\n",
    "\n",
    "percent_trump_biased = sum([trump_wins_biased(1500) for i in np.arange(100000)])/100000\n",
    "percent_trump_biased"
   ]
  },
  {
   "cell_type": "code",
   "execution_count": 47,
   "metadata": {
    "deletable": false,
    "editable": false
   },
   "outputs": [
    {
     "name": "stdout",
     "output_type": "stream",
     "text": [
      "~~~~~~~~~~~~~~~~~~~~~~~~~~~~~~~~~~~~~~~~~~~~~~~~~~~~~~~~~~~~~~~~~~~~~\n",
      "Running tests\n",
      "\n",
      "---------------------------------------------------------------------\n",
      "Test summary\n",
      "    Passed: 2\n",
      "    Failed: 0\n",
      "[ooooooooook] 100.0% passed\n",
      "\n"
     ]
    }
   ],
   "source": [
    "ok.grade(\"q7d\");"
   ]
  },
  {
   "cell_type": "markdown",
   "metadata": {},
   "source": [
    "## Further Study\n"
   ]
  },
  {
   "cell_type": "markdown",
   "metadata": {
    "deletable": false,
    "editable": false,
    "nbgrader": {
     "grade": false,
     "grade_id": "q2c",
     "locked": true,
     "schema_version": 2,
     "solution": false
    }
   },
   "source": [
    "### Question 8\n",
    "\n",
    "Would increasing the sample size have helped?\n",
    "\n",
    "#### Part 1\n",
    "\n",
    "Try a sample size of 5,000 and run 100,000 simulations of a sample with replacement. What proportion of the 100,000 times is Trump predicted to win the election in the unbiased setting? In the biased setting?\n",
    "\n",
    "Give your answers as `high_sample_size_unbiased_percent_trump` and `high_sample_size_biased_percent_trump`.\n",
    "\n",
    "<!--\n",
    "BEGIN QUESTION\n",
    "name: q8a\n",
    "manual: false\n",
    "points: 1\n",
    "-->"
   ]
  },
  {
   "cell_type": "code",
   "execution_count": 48,
   "metadata": {},
   "outputs": [
    {
     "name": "stdout",
     "output_type": "stream",
     "text": [
      "0.82875 0.44864\n"
     ]
    }
   ],
   "source": [
    "high_sample_size_unbiased_percent_trump = sum([trump_wins(5000) for i in np.arange(100000)])/100000\n",
    "high_sample_size_biased_percent_trump = sum([trump_wins_biased(5000) for i in np.arange(100000)])/100000\n",
    "print(high_sample_size_unbiased_percent_trump, high_sample_size_biased_percent_trump)"
   ]
  },
  {
   "cell_type": "code",
   "execution_count": 49,
   "metadata": {
    "deletable": false,
    "editable": false
   },
   "outputs": [
    {
     "name": "stdout",
     "output_type": "stream",
     "text": [
      "~~~~~~~~~~~~~~~~~~~~~~~~~~~~~~~~~~~~~~~~~~~~~~~~~~~~~~~~~~~~~~~~~~~~~\n",
      "Running tests\n",
      "\n",
      "---------------------------------------------------------------------\n",
      "Test summary\n",
      "    Passed: 2\n",
      "    Failed: 0\n",
      "[ooooooooook] 100.0% passed\n",
      "\n"
     ]
    }
   ],
   "source": [
    "ok.grade(\"q8a\");"
   ]
  },
  {
   "cell_type": "markdown",
   "metadata": {},
   "source": [
    "#### Part 2\n",
    "\n",
    "What do your observations from part 1 say about the impact of sample size\n",
    "on the sampling error and on the bias?   \n",
    "\n",
    "Extra question for those who are curious: Just for fun, you might find it interesting to see what happens with even larger sample sizes (> 5000 voters) for both the unbiased and biased cases. Can you get them up to 99% success with sufficient large samples? How many? Why or why not? If you do this, include your observations in your answer."
   ]
  },
  {
   "cell_type": "code",
   "execution_count": 51,
   "metadata": {},
   "outputs": [
    {
     "name": "stdout",
     "output_type": "stream",
     "text": [
      "0.91112 0.42951\n"
     ]
    }
   ],
   "source": [
    "highER_sample_size_unbiased_percent_trump = sum([trump_wins(10000) for i in np.arange(100000)])/100000\n",
    "highER_sample_size_biased_percent_trump = sum([trump_wins_biased(10000) for i in np.arange(100000)])/100000\n",
    "print(highER_sample_size_unbiased_percent_trump, highER_sample_size_biased_percent_trump)"
   ]
  },
  {
   "cell_type": "markdown",
   "metadata": {
    "deletable": false,
    "editable": false
   },
   "source": [
    "Write your answer in the cell below.\n",
    "\n",
    "<!--\n",
    "BEGIN QUESTION\n",
    "name: q8b\n",
    "manual: true\n",
    "points: 2\n",
    "-->\n",
    "<!-- EXPORT TO PDF -->"
   ]
  },
  {
   "cell_type": "markdown",
   "metadata": {},
   "source": [
    "in terms of proportions,the biased percentage was not greatly impacted, while the unbiased percentage went up quite dramatically from roughly 69% to 83%, as I dialed the sample size to 10000, the unbiased percentage continued to rise, while the biased proportion maintained the same. If a bias exist, the same proportion will prevail irregardless of change in sample size, and will continue to perpetuate the error. "
   ]
  },
  {
   "cell_type": "markdown",
   "metadata": {
    "deletable": false,
    "editable": false
   },
   "source": [
    "### Question 9\n",
    "\n",
    "According to FiveThirtyEight: \"... Polls of the November 2016 presidential election were about as accurate as polls of presidential elections have been on average since 1972.\"\n",
    "\n",
    "When the margin of victory may be relatively small as it was in 2016, why don't polling agencies simply gather significantly larger samples to bring this error close to zero?\n",
    "\n",
    "<!--\n",
    "BEGIN QUESTION\n",
    "name: q9\n",
    "manual: true\n",
    "points: 2\n",
    "-->\n",
    "<!-- EXPORT TO PDF -->"
   ]
  },
  {
   "cell_type": "markdown",
   "metadata": {},
   "source": [
    "because they are over confident in their ability to extrapolate the predictions of their relatively smalled sample into real life reporting, the real reason is that polling costs money, the more samples, the more staff they have to dedicate to the cause, the more resources, etc. "
   ]
  },
  {
   "cell_type": "markdown",
   "metadata": {},
   "source": [
    "## Submission\n",
    "\n",
    "**Important**: To make sure the test cases run correctly, click `Kernel>Restart & Run All` and make sure all of the test cases are still passing. Doing so will submit your code for you. \n",
    "\n",
    "You may submit this assignment as many times as you'd like before the deadline.\n",
    "\n",
    "**You must restart and run all cells before submitting. Otherwise, you may pass test cases locally, but not on our servers. We will not entertain regrade requests of the form, “my code passed all of my local test cases, but failed the autograder”.**"
   ]
  },
  {
   "cell_type": "markdown",
   "metadata": {
    "deletable": false,
    "editable": false
   },
   "source": [
    "# Submit\n",
    "Make sure you have run all cells in your notebook in order before running the cell below, so that all images/graphs appear in the output.\n",
    "**Please save before submitting!**\n",
    "\n",
    "<!-- EXPECT 9 EXPORTED QUESTIONS -->"
   ]
  },
  {
   "cell_type": "code",
   "execution_count": null,
   "metadata": {
    "deletable": false,
    "editable": false
   },
   "outputs": [
    {
     "name": "stdout",
     "output_type": "stream",
     "text": [
      "Generating PDF...\n",
      "Saved hw2.pdf\n"
     ]
    }
   ],
   "source": [
    "# Save your notebook first, then run this cell to submit.\n",
    "import jassign.to_pdf\n",
    "jassign.to_pdf.generate_pdf('hw2.ipynb', 'hw2.pdf')\n",
    "ok.submit()"
   ]
  },
  {
   "cell_type": "code",
   "execution_count": null,
   "metadata": {},
   "outputs": [],
   "source": []
  }
 ],
 "metadata": {
  "celltoolbar": "Create Assignment",
  "kernelspec": {
   "display_name": "Python 3",
   "language": "python",
   "name": "python3"
  },
  "language_info": {
   "codemirror_mode": {
    "name": "ipython",
    "version": 3
   },
   "file_extension": ".py",
   "mimetype": "text/x-python",
   "name": "python",
   "nbconvert_exporter": "python",
   "pygments_lexer": "ipython3",
   "version": "3.6.4"
  }
 },
 "nbformat": 4,
 "nbformat_minor": 2
}
